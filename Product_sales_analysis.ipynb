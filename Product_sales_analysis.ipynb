{
  "nbformat": 4,
  "nbformat_minor": 0,
  "metadata": {
    "colab": {
      "provenance": [],
      "authorship_tag": "ABX9TyNaf1uCFouOx6KZLDRzr176",
      "include_colab_link": true
    },
    "kernelspec": {
      "name": "python3",
      "display_name": "Python 3"
    },
    "language_info": {
      "name": "python"
    }
  },
  "cells": [
    {
      "cell_type": "markdown",
      "metadata": {
        "id": "view-in-github",
        "colab_type": "text"
      },
      "source": [
        "<a href=\"https://colab.research.google.com/github/DarynaSherenhova/sales-data-analysis/blob/main/Product_sales_analysis.ipynb\" target=\"_parent\"><img src=\"https://colab.research.google.com/assets/colab-badge.svg\" alt=\"Open In Colab\"/></a>"
      ]
    },
    {
      "cell_type": "markdown",
      "source": [
        "# 1. Data overview\n",
        "\n",
        "\n"
      ],
      "metadata": {
        "id": "iz5tpjFPpiCJ"
      }
    },
    {
      "cell_type": "code",
      "execution_count": null,
      "metadata": {
        "colab": {
          "base_uri": "https://localhost:8080/"
        },
        "id": "CxuidxGn7rSa",
        "outputId": "4337a6b7-12c1-486c-aa02-bf2a7755461d"
      },
      "outputs": [
        {
          "output_type": "stream",
          "name": "stdout",
          "text": [
            "Mounted at /content/drive\n",
            "/content/drive/MyDrive/Project\n"
          ]
        }
      ],
      "source": [
        "from google.colab import drive\n",
        "import pandas as pd\n",
        "import numpy as np\n",
        "import matplotlib.pyplot as plt\n",
        "import seaborn as sns\n",
        "import matplotlib.ticker as ticker\n",
        "import plotly.express as px\n",
        "import plotly.graph_objects as go\n",
        "\n",
        "drive.mount(\"/content/drive\")\n",
        "%cd /content/drive/MyDrive/Project\n",
        "\n",
        "countries_data = pd.read_csv(\"countries.csv\")\n",
        "events_data = pd.read_csv(\"events.csv\")\n",
        "products_data = pd.read_csv(\"products.csv\")\n"
      ]
    },
    {
      "cell_type": "code",
      "source": [
        "countries_data.head()"
      ],
      "metadata": {
        "colab": {
          "base_uri": "https://localhost:8080/",
          "height": 206
        },
        "id": "iEIovIcc-I5b",
        "outputId": "cf20c8fe-133c-494b-8576-9d3c8343ef99"
      },
      "execution_count": null,
      "outputs": [
        {
          "output_type": "execute_result",
          "data": {
            "text/plain": [
              "             name alpha-2 alpha-3   region       sub-region\n",
              "0     Afghanistan      AF     AFG     Asia    Southern Asia\n",
              "1   Åland Islands      AX     ALA   Europe  Northern Europe\n",
              "2         Albania      AL     ALB   Europe  Southern Europe\n",
              "3         Algeria      DZ     DZA   Africa  Northern Africa\n",
              "4  American Samoa      AS     ASM  Oceania        Polynesia"
            ],
            "text/html": [
              "\n",
              "  <div id=\"df-c43d35ee-6d78-46fd-9f21-973ad90ea217\" class=\"colab-df-container\">\n",
              "    <div>\n",
              "<style scoped>\n",
              "    .dataframe tbody tr th:only-of-type {\n",
              "        vertical-align: middle;\n",
              "    }\n",
              "\n",
              "    .dataframe tbody tr th {\n",
              "        vertical-align: top;\n",
              "    }\n",
              "\n",
              "    .dataframe thead th {\n",
              "        text-align: right;\n",
              "    }\n",
              "</style>\n",
              "<table border=\"1\" class=\"dataframe\">\n",
              "  <thead>\n",
              "    <tr style=\"text-align: right;\">\n",
              "      <th></th>\n",
              "      <th>name</th>\n",
              "      <th>alpha-2</th>\n",
              "      <th>alpha-3</th>\n",
              "      <th>region</th>\n",
              "      <th>sub-region</th>\n",
              "    </tr>\n",
              "  </thead>\n",
              "  <tbody>\n",
              "    <tr>\n",
              "      <th>0</th>\n",
              "      <td>Afghanistan</td>\n",
              "      <td>AF</td>\n",
              "      <td>AFG</td>\n",
              "      <td>Asia</td>\n",
              "      <td>Southern Asia</td>\n",
              "    </tr>\n",
              "    <tr>\n",
              "      <th>1</th>\n",
              "      <td>Åland Islands</td>\n",
              "      <td>AX</td>\n",
              "      <td>ALA</td>\n",
              "      <td>Europe</td>\n",
              "      <td>Northern Europe</td>\n",
              "    </tr>\n",
              "    <tr>\n",
              "      <th>2</th>\n",
              "      <td>Albania</td>\n",
              "      <td>AL</td>\n",
              "      <td>ALB</td>\n",
              "      <td>Europe</td>\n",
              "      <td>Southern Europe</td>\n",
              "    </tr>\n",
              "    <tr>\n",
              "      <th>3</th>\n",
              "      <td>Algeria</td>\n",
              "      <td>DZ</td>\n",
              "      <td>DZA</td>\n",
              "      <td>Africa</td>\n",
              "      <td>Northern Africa</td>\n",
              "    </tr>\n",
              "    <tr>\n",
              "      <th>4</th>\n",
              "      <td>American Samoa</td>\n",
              "      <td>AS</td>\n",
              "      <td>ASM</td>\n",
              "      <td>Oceania</td>\n",
              "      <td>Polynesia</td>\n",
              "    </tr>\n",
              "  </tbody>\n",
              "</table>\n",
              "</div>\n",
              "    <div class=\"colab-df-buttons\">\n",
              "\n",
              "  <div class=\"colab-df-container\">\n",
              "    <button class=\"colab-df-convert\" onclick=\"convertToInteractive('df-c43d35ee-6d78-46fd-9f21-973ad90ea217')\"\n",
              "            title=\"Convert this dataframe to an interactive table.\"\n",
              "            style=\"display:none;\">\n",
              "\n",
              "  <svg xmlns=\"http://www.w3.org/2000/svg\" height=\"24px\" viewBox=\"0 -960 960 960\">\n",
              "    <path d=\"M120-120v-720h720v720H120Zm60-500h600v-160H180v160Zm220 220h160v-160H400v160Zm0 220h160v-160H400v160ZM180-400h160v-160H180v160Zm440 0h160v-160H620v160ZM180-180h160v-160H180v160Zm440 0h160v-160H620v160Z\"/>\n",
              "  </svg>\n",
              "    </button>\n",
              "\n",
              "  <style>\n",
              "    .colab-df-container {\n",
              "      display:flex;\n",
              "      gap: 12px;\n",
              "    }\n",
              "\n",
              "    .colab-df-convert {\n",
              "      background-color: #E8F0FE;\n",
              "      border: none;\n",
              "      border-radius: 50%;\n",
              "      cursor: pointer;\n",
              "      display: none;\n",
              "      fill: #1967D2;\n",
              "      height: 32px;\n",
              "      padding: 0 0 0 0;\n",
              "      width: 32px;\n",
              "    }\n",
              "\n",
              "    .colab-df-convert:hover {\n",
              "      background-color: #E2EBFA;\n",
              "      box-shadow: 0px 1px 2px rgba(60, 64, 67, 0.3), 0px 1px 3px 1px rgba(60, 64, 67, 0.15);\n",
              "      fill: #174EA6;\n",
              "    }\n",
              "\n",
              "    .colab-df-buttons div {\n",
              "      margin-bottom: 4px;\n",
              "    }\n",
              "\n",
              "    [theme=dark] .colab-df-convert {\n",
              "      background-color: #3B4455;\n",
              "      fill: #D2E3FC;\n",
              "    }\n",
              "\n",
              "    [theme=dark] .colab-df-convert:hover {\n",
              "      background-color: #434B5C;\n",
              "      box-shadow: 0px 1px 3px 1px rgba(0, 0, 0, 0.15);\n",
              "      filter: drop-shadow(0px 1px 2px rgba(0, 0, 0, 0.3));\n",
              "      fill: #FFFFFF;\n",
              "    }\n",
              "  </style>\n",
              "\n",
              "    <script>\n",
              "      const buttonEl =\n",
              "        document.querySelector('#df-c43d35ee-6d78-46fd-9f21-973ad90ea217 button.colab-df-convert');\n",
              "      buttonEl.style.display =\n",
              "        google.colab.kernel.accessAllowed ? 'block' : 'none';\n",
              "\n",
              "      async function convertToInteractive(key) {\n",
              "        const element = document.querySelector('#df-c43d35ee-6d78-46fd-9f21-973ad90ea217');\n",
              "        const dataTable =\n",
              "          await google.colab.kernel.invokeFunction('convertToInteractive',\n",
              "                                                    [key], {});\n",
              "        if (!dataTable) return;\n",
              "\n",
              "        const docLinkHtml = 'Like what you see? Visit the ' +\n",
              "          '<a target=\"_blank\" href=https://colab.research.google.com/notebooks/data_table.ipynb>data table notebook</a>'\n",
              "          + ' to learn more about interactive tables.';\n",
              "        element.innerHTML = '';\n",
              "        dataTable['output_type'] = 'display_data';\n",
              "        await google.colab.output.renderOutput(dataTable, element);\n",
              "        const docLink = document.createElement('div');\n",
              "        docLink.innerHTML = docLinkHtml;\n",
              "        element.appendChild(docLink);\n",
              "      }\n",
              "    </script>\n",
              "  </div>\n",
              "\n",
              "\n",
              "    <div id=\"df-8e0d0fee-f474-4f17-b54a-0736420e238c\">\n",
              "      <button class=\"colab-df-quickchart\" onclick=\"quickchart('df-8e0d0fee-f474-4f17-b54a-0736420e238c')\"\n",
              "                title=\"Suggest charts\"\n",
              "                style=\"display:none;\">\n",
              "\n",
              "<svg xmlns=\"http://www.w3.org/2000/svg\" height=\"24px\"viewBox=\"0 0 24 24\"\n",
              "     width=\"24px\">\n",
              "    <g>\n",
              "        <path d=\"M19 3H5c-1.1 0-2 .9-2 2v14c0 1.1.9 2 2 2h14c1.1 0 2-.9 2-2V5c0-1.1-.9-2-2-2zM9 17H7v-7h2v7zm4 0h-2V7h2v10zm4 0h-2v-4h2v4z\"/>\n",
              "    </g>\n",
              "</svg>\n",
              "      </button>\n",
              "\n",
              "<style>\n",
              "  .colab-df-quickchart {\n",
              "      --bg-color: #E8F0FE;\n",
              "      --fill-color: #1967D2;\n",
              "      --hover-bg-color: #E2EBFA;\n",
              "      --hover-fill-color: #174EA6;\n",
              "      --disabled-fill-color: #AAA;\n",
              "      --disabled-bg-color: #DDD;\n",
              "  }\n",
              "\n",
              "  [theme=dark] .colab-df-quickchart {\n",
              "      --bg-color: #3B4455;\n",
              "      --fill-color: #D2E3FC;\n",
              "      --hover-bg-color: #434B5C;\n",
              "      --hover-fill-color: #FFFFFF;\n",
              "      --disabled-bg-color: #3B4455;\n",
              "      --disabled-fill-color: #666;\n",
              "  }\n",
              "\n",
              "  .colab-df-quickchart {\n",
              "    background-color: var(--bg-color);\n",
              "    border: none;\n",
              "    border-radius: 50%;\n",
              "    cursor: pointer;\n",
              "    display: none;\n",
              "    fill: var(--fill-color);\n",
              "    height: 32px;\n",
              "    padding: 0;\n",
              "    width: 32px;\n",
              "  }\n",
              "\n",
              "  .colab-df-quickchart:hover {\n",
              "    background-color: var(--hover-bg-color);\n",
              "    box-shadow: 0 1px 2px rgba(60, 64, 67, 0.3), 0 1px 3px 1px rgba(60, 64, 67, 0.15);\n",
              "    fill: var(--button-hover-fill-color);\n",
              "  }\n",
              "\n",
              "  .colab-df-quickchart-complete:disabled,\n",
              "  .colab-df-quickchart-complete:disabled:hover {\n",
              "    background-color: var(--disabled-bg-color);\n",
              "    fill: var(--disabled-fill-color);\n",
              "    box-shadow: none;\n",
              "  }\n",
              "\n",
              "  .colab-df-spinner {\n",
              "    border: 2px solid var(--fill-color);\n",
              "    border-color: transparent;\n",
              "    border-bottom-color: var(--fill-color);\n",
              "    animation:\n",
              "      spin 1s steps(1) infinite;\n",
              "  }\n",
              "\n",
              "  @keyframes spin {\n",
              "    0% {\n",
              "      border-color: transparent;\n",
              "      border-bottom-color: var(--fill-color);\n",
              "      border-left-color: var(--fill-color);\n",
              "    }\n",
              "    20% {\n",
              "      border-color: transparent;\n",
              "      border-left-color: var(--fill-color);\n",
              "      border-top-color: var(--fill-color);\n",
              "    }\n",
              "    30% {\n",
              "      border-color: transparent;\n",
              "      border-left-color: var(--fill-color);\n",
              "      border-top-color: var(--fill-color);\n",
              "      border-right-color: var(--fill-color);\n",
              "    }\n",
              "    40% {\n",
              "      border-color: transparent;\n",
              "      border-right-color: var(--fill-color);\n",
              "      border-top-color: var(--fill-color);\n",
              "    }\n",
              "    60% {\n",
              "      border-color: transparent;\n",
              "      border-right-color: var(--fill-color);\n",
              "    }\n",
              "    80% {\n",
              "      border-color: transparent;\n",
              "      border-right-color: var(--fill-color);\n",
              "      border-bottom-color: var(--fill-color);\n",
              "    }\n",
              "    90% {\n",
              "      border-color: transparent;\n",
              "      border-bottom-color: var(--fill-color);\n",
              "    }\n",
              "  }\n",
              "</style>\n",
              "\n",
              "      <script>\n",
              "        async function quickchart(key) {\n",
              "          const quickchartButtonEl =\n",
              "            document.querySelector('#' + key + ' button');\n",
              "          quickchartButtonEl.disabled = true;  // To prevent multiple clicks.\n",
              "          quickchartButtonEl.classList.add('colab-df-spinner');\n",
              "          try {\n",
              "            const charts = await google.colab.kernel.invokeFunction(\n",
              "                'suggestCharts', [key], {});\n",
              "          } catch (error) {\n",
              "            console.error('Error during call to suggestCharts:', error);\n",
              "          }\n",
              "          quickchartButtonEl.classList.remove('colab-df-spinner');\n",
              "          quickchartButtonEl.classList.add('colab-df-quickchart-complete');\n",
              "        }\n",
              "        (() => {\n",
              "          let quickchartButtonEl =\n",
              "            document.querySelector('#df-8e0d0fee-f474-4f17-b54a-0736420e238c button');\n",
              "          quickchartButtonEl.style.display =\n",
              "            google.colab.kernel.accessAllowed ? 'block' : 'none';\n",
              "        })();\n",
              "      </script>\n",
              "    </div>\n",
              "    </div>\n",
              "  </div>\n"
            ],
            "application/vnd.google.colaboratory.intrinsic+json": {
              "type": "dataframe",
              "variable_name": "countries_data",
              "summary": "{\n  \"name\": \"countries_data\",\n  \"rows\": 249,\n  \"fields\": [\n    {\n      \"column\": \"name\",\n      \"properties\": {\n        \"dtype\": \"string\",\n        \"num_unique_values\": 249,\n        \"samples\": [\n          \"Malta\",\n          \"Angola\",\n          \"Heard Island and McDonald Islands\"\n        ],\n        \"semantic_type\": \"\",\n        \"description\": \"\"\n      }\n    },\n    {\n      \"column\": \"alpha-2\",\n      \"properties\": {\n        \"dtype\": \"string\",\n        \"num_unique_values\": 248,\n        \"samples\": [\n          \"BN\",\n          \"AO\",\n          \"RU\"\n        ],\n        \"semantic_type\": \"\",\n        \"description\": \"\"\n      }\n    },\n    {\n      \"column\": \"alpha-3\",\n      \"properties\": {\n        \"dtype\": \"string\",\n        \"num_unique_values\": 249,\n        \"samples\": [\n          \"MLT\",\n          \"AGO\",\n          \"HMD\"\n        ],\n        \"semantic_type\": \"\",\n        \"description\": \"\"\n      }\n    },\n    {\n      \"column\": \"region\",\n      \"properties\": {\n        \"dtype\": \"category\",\n        \"num_unique_values\": 5,\n        \"samples\": [\n          \"Europe\",\n          \"Americas\",\n          \"Africa\"\n        ],\n        \"semantic_type\": \"\",\n        \"description\": \"\"\n      }\n    },\n    {\n      \"column\": \"sub-region\",\n      \"properties\": {\n        \"dtype\": \"category\",\n        \"num_unique_values\": 17,\n        \"samples\": [\n          \"Southern Asia\",\n          \"Northern Europe\",\n          \"Sub-Saharan Africa\"\n        ],\n        \"semantic_type\": \"\",\n        \"description\": \"\"\n      }\n    }\n  ]\n}"
            }
          },
          "metadata": {},
          "execution_count": 3
        }
      ]
    },
    {
      "cell_type": "code",
      "source": [
        "print(countries_data.shape)"
      ],
      "metadata": {
        "colab": {
          "base_uri": "https://localhost:8080/"
        },
        "id": "_2TUmbkMxkb7",
        "outputId": "a1c73b45-875d-4d05-c4a9-afd2853ea2c0"
      },
      "execution_count": null,
      "outputs": [
        {
          "output_type": "stream",
          "name": "stdout",
          "text": [
            "(249, 5)\n"
          ]
        }
      ]
    },
    {
      "cell_type": "markdown",
      "source": [
        "В таблиці countries_data можемо побачити колонки в яких містяться дані щодо найменування країн, регіонів, субрегіонів та їх кодів. Дана таблиця містить 249 рядків та 5 колонок."
      ],
      "metadata": {
        "id": "x0FDMiAX-lqq"
      }
    },
    {
      "cell_type": "code",
      "source": [
        "events_data.head()"
      ],
      "metadata": {
        "colab": {
          "base_uri": "https://localhost:8080/",
          "height": 206
        },
        "id": "Xg0161LY-mJZ",
        "outputId": "1f513efc-abd1-41a0-ba96-22b9396e3daf"
      },
      "execution_count": null,
      "outputs": [
        {
          "output_type": "execute_result",
          "data": {
            "text/plain": [
              "    Order ID Order Date   Ship Date Order Priority Country Code  Product ID  \\\n",
              "0  100640618  10/8/2014  10/18/2014              M          NOR        2103   \n",
              "1  100983083  8/11/2016   8/11/2016              C          SRB        2103   \n",
              "2  101025998  7/18/2014   8/11/2014              M          NaN        7940   \n",
              "3  102230632  5/13/2017   6/13/2017              L          MNE        2455   \n",
              "4  103435266  8/11/2012   9/18/2012              H          SRB        1270   \n",
              "\n",
              "  Sales Channel  Units Sold  Unit Price  Unit Cost  \n",
              "0        Online       650.0      205.70     117.11  \n",
              "1       Offline      1993.0      205.70     117.11  \n",
              "2        Online      4693.0      668.27     502.54  \n",
              "3        Online      1171.0      109.28      35.84  \n",
              "4       Offline      7648.0       47.45      31.79  "
            ],
            "text/html": [
              "\n",
              "  <div id=\"df-84c7744c-1fda-40c9-9601-eb6433d38d86\" class=\"colab-df-container\">\n",
              "    <div>\n",
              "<style scoped>\n",
              "    .dataframe tbody tr th:only-of-type {\n",
              "        vertical-align: middle;\n",
              "    }\n",
              "\n",
              "    .dataframe tbody tr th {\n",
              "        vertical-align: top;\n",
              "    }\n",
              "\n",
              "    .dataframe thead th {\n",
              "        text-align: right;\n",
              "    }\n",
              "</style>\n",
              "<table border=\"1\" class=\"dataframe\">\n",
              "  <thead>\n",
              "    <tr style=\"text-align: right;\">\n",
              "      <th></th>\n",
              "      <th>Order ID</th>\n",
              "      <th>Order Date</th>\n",
              "      <th>Ship Date</th>\n",
              "      <th>Order Priority</th>\n",
              "      <th>Country Code</th>\n",
              "      <th>Product ID</th>\n",
              "      <th>Sales Channel</th>\n",
              "      <th>Units Sold</th>\n",
              "      <th>Unit Price</th>\n",
              "      <th>Unit Cost</th>\n",
              "    </tr>\n",
              "  </thead>\n",
              "  <tbody>\n",
              "    <tr>\n",
              "      <th>0</th>\n",
              "      <td>100640618</td>\n",
              "      <td>10/8/2014</td>\n",
              "      <td>10/18/2014</td>\n",
              "      <td>M</td>\n",
              "      <td>NOR</td>\n",
              "      <td>2103</td>\n",
              "      <td>Online</td>\n",
              "      <td>650.0</td>\n",
              "      <td>205.70</td>\n",
              "      <td>117.11</td>\n",
              "    </tr>\n",
              "    <tr>\n",
              "      <th>1</th>\n",
              "      <td>100983083</td>\n",
              "      <td>8/11/2016</td>\n",
              "      <td>8/11/2016</td>\n",
              "      <td>C</td>\n",
              "      <td>SRB</td>\n",
              "      <td>2103</td>\n",
              "      <td>Offline</td>\n",
              "      <td>1993.0</td>\n",
              "      <td>205.70</td>\n",
              "      <td>117.11</td>\n",
              "    </tr>\n",
              "    <tr>\n",
              "      <th>2</th>\n",
              "      <td>101025998</td>\n",
              "      <td>7/18/2014</td>\n",
              "      <td>8/11/2014</td>\n",
              "      <td>M</td>\n",
              "      <td>NaN</td>\n",
              "      <td>7940</td>\n",
              "      <td>Online</td>\n",
              "      <td>4693.0</td>\n",
              "      <td>668.27</td>\n",
              "      <td>502.54</td>\n",
              "    </tr>\n",
              "    <tr>\n",
              "      <th>3</th>\n",
              "      <td>102230632</td>\n",
              "      <td>5/13/2017</td>\n",
              "      <td>6/13/2017</td>\n",
              "      <td>L</td>\n",
              "      <td>MNE</td>\n",
              "      <td>2455</td>\n",
              "      <td>Online</td>\n",
              "      <td>1171.0</td>\n",
              "      <td>109.28</td>\n",
              "      <td>35.84</td>\n",
              "    </tr>\n",
              "    <tr>\n",
              "      <th>4</th>\n",
              "      <td>103435266</td>\n",
              "      <td>8/11/2012</td>\n",
              "      <td>9/18/2012</td>\n",
              "      <td>H</td>\n",
              "      <td>SRB</td>\n",
              "      <td>1270</td>\n",
              "      <td>Offline</td>\n",
              "      <td>7648.0</td>\n",
              "      <td>47.45</td>\n",
              "      <td>31.79</td>\n",
              "    </tr>\n",
              "  </tbody>\n",
              "</table>\n",
              "</div>\n",
              "    <div class=\"colab-df-buttons\">\n",
              "\n",
              "  <div class=\"colab-df-container\">\n",
              "    <button class=\"colab-df-convert\" onclick=\"convertToInteractive('df-84c7744c-1fda-40c9-9601-eb6433d38d86')\"\n",
              "            title=\"Convert this dataframe to an interactive table.\"\n",
              "            style=\"display:none;\">\n",
              "\n",
              "  <svg xmlns=\"http://www.w3.org/2000/svg\" height=\"24px\" viewBox=\"0 -960 960 960\">\n",
              "    <path d=\"M120-120v-720h720v720H120Zm60-500h600v-160H180v160Zm220 220h160v-160H400v160Zm0 220h160v-160H400v160ZM180-400h160v-160H180v160Zm440 0h160v-160H620v160ZM180-180h160v-160H180v160Zm440 0h160v-160H620v160Z\"/>\n",
              "  </svg>\n",
              "    </button>\n",
              "\n",
              "  <style>\n",
              "    .colab-df-container {\n",
              "      display:flex;\n",
              "      gap: 12px;\n",
              "    }\n",
              "\n",
              "    .colab-df-convert {\n",
              "      background-color: #E8F0FE;\n",
              "      border: none;\n",
              "      border-radius: 50%;\n",
              "      cursor: pointer;\n",
              "      display: none;\n",
              "      fill: #1967D2;\n",
              "      height: 32px;\n",
              "      padding: 0 0 0 0;\n",
              "      width: 32px;\n",
              "    }\n",
              "\n",
              "    .colab-df-convert:hover {\n",
              "      background-color: #E2EBFA;\n",
              "      box-shadow: 0px 1px 2px rgba(60, 64, 67, 0.3), 0px 1px 3px 1px rgba(60, 64, 67, 0.15);\n",
              "      fill: #174EA6;\n",
              "    }\n",
              "\n",
              "    .colab-df-buttons div {\n",
              "      margin-bottom: 4px;\n",
              "    }\n",
              "\n",
              "    [theme=dark] .colab-df-convert {\n",
              "      background-color: #3B4455;\n",
              "      fill: #D2E3FC;\n",
              "    }\n",
              "\n",
              "    [theme=dark] .colab-df-convert:hover {\n",
              "      background-color: #434B5C;\n",
              "      box-shadow: 0px 1px 3px 1px rgba(0, 0, 0, 0.15);\n",
              "      filter: drop-shadow(0px 1px 2px rgba(0, 0, 0, 0.3));\n",
              "      fill: #FFFFFF;\n",
              "    }\n",
              "  </style>\n",
              "\n",
              "    <script>\n",
              "      const buttonEl =\n",
              "        document.querySelector('#df-84c7744c-1fda-40c9-9601-eb6433d38d86 button.colab-df-convert');\n",
              "      buttonEl.style.display =\n",
              "        google.colab.kernel.accessAllowed ? 'block' : 'none';\n",
              "\n",
              "      async function convertToInteractive(key) {\n",
              "        const element = document.querySelector('#df-84c7744c-1fda-40c9-9601-eb6433d38d86');\n",
              "        const dataTable =\n",
              "          await google.colab.kernel.invokeFunction('convertToInteractive',\n",
              "                                                    [key], {});\n",
              "        if (!dataTable) return;\n",
              "\n",
              "        const docLinkHtml = 'Like what you see? Visit the ' +\n",
              "          '<a target=\"_blank\" href=https://colab.research.google.com/notebooks/data_table.ipynb>data table notebook</a>'\n",
              "          + ' to learn more about interactive tables.';\n",
              "        element.innerHTML = '';\n",
              "        dataTable['output_type'] = 'display_data';\n",
              "        await google.colab.output.renderOutput(dataTable, element);\n",
              "        const docLink = document.createElement('div');\n",
              "        docLink.innerHTML = docLinkHtml;\n",
              "        element.appendChild(docLink);\n",
              "      }\n",
              "    </script>\n",
              "  </div>\n",
              "\n",
              "\n",
              "    <div id=\"df-0b2e4616-1f5e-4968-8221-2896f290af68\">\n",
              "      <button class=\"colab-df-quickchart\" onclick=\"quickchart('df-0b2e4616-1f5e-4968-8221-2896f290af68')\"\n",
              "                title=\"Suggest charts\"\n",
              "                style=\"display:none;\">\n",
              "\n",
              "<svg xmlns=\"http://www.w3.org/2000/svg\" height=\"24px\"viewBox=\"0 0 24 24\"\n",
              "     width=\"24px\">\n",
              "    <g>\n",
              "        <path d=\"M19 3H5c-1.1 0-2 .9-2 2v14c0 1.1.9 2 2 2h14c1.1 0 2-.9 2-2V5c0-1.1-.9-2-2-2zM9 17H7v-7h2v7zm4 0h-2V7h2v10zm4 0h-2v-4h2v4z\"/>\n",
              "    </g>\n",
              "</svg>\n",
              "      </button>\n",
              "\n",
              "<style>\n",
              "  .colab-df-quickchart {\n",
              "      --bg-color: #E8F0FE;\n",
              "      --fill-color: #1967D2;\n",
              "      --hover-bg-color: #E2EBFA;\n",
              "      --hover-fill-color: #174EA6;\n",
              "      --disabled-fill-color: #AAA;\n",
              "      --disabled-bg-color: #DDD;\n",
              "  }\n",
              "\n",
              "  [theme=dark] .colab-df-quickchart {\n",
              "      --bg-color: #3B4455;\n",
              "      --fill-color: #D2E3FC;\n",
              "      --hover-bg-color: #434B5C;\n",
              "      --hover-fill-color: #FFFFFF;\n",
              "      --disabled-bg-color: #3B4455;\n",
              "      --disabled-fill-color: #666;\n",
              "  }\n",
              "\n",
              "  .colab-df-quickchart {\n",
              "    background-color: var(--bg-color);\n",
              "    border: none;\n",
              "    border-radius: 50%;\n",
              "    cursor: pointer;\n",
              "    display: none;\n",
              "    fill: var(--fill-color);\n",
              "    height: 32px;\n",
              "    padding: 0;\n",
              "    width: 32px;\n",
              "  }\n",
              "\n",
              "  .colab-df-quickchart:hover {\n",
              "    background-color: var(--hover-bg-color);\n",
              "    box-shadow: 0 1px 2px rgba(60, 64, 67, 0.3), 0 1px 3px 1px rgba(60, 64, 67, 0.15);\n",
              "    fill: var(--button-hover-fill-color);\n",
              "  }\n",
              "\n",
              "  .colab-df-quickchart-complete:disabled,\n",
              "  .colab-df-quickchart-complete:disabled:hover {\n",
              "    background-color: var(--disabled-bg-color);\n",
              "    fill: var(--disabled-fill-color);\n",
              "    box-shadow: none;\n",
              "  }\n",
              "\n",
              "  .colab-df-spinner {\n",
              "    border: 2px solid var(--fill-color);\n",
              "    border-color: transparent;\n",
              "    border-bottom-color: var(--fill-color);\n",
              "    animation:\n",
              "      spin 1s steps(1) infinite;\n",
              "  }\n",
              "\n",
              "  @keyframes spin {\n",
              "    0% {\n",
              "      border-color: transparent;\n",
              "      border-bottom-color: var(--fill-color);\n",
              "      border-left-color: var(--fill-color);\n",
              "    }\n",
              "    20% {\n",
              "      border-color: transparent;\n",
              "      border-left-color: var(--fill-color);\n",
              "      border-top-color: var(--fill-color);\n",
              "    }\n",
              "    30% {\n",
              "      border-color: transparent;\n",
              "      border-left-color: var(--fill-color);\n",
              "      border-top-color: var(--fill-color);\n",
              "      border-right-color: var(--fill-color);\n",
              "    }\n",
              "    40% {\n",
              "      border-color: transparent;\n",
              "      border-right-color: var(--fill-color);\n",
              "      border-top-color: var(--fill-color);\n",
              "    }\n",
              "    60% {\n",
              "      border-color: transparent;\n",
              "      border-right-color: var(--fill-color);\n",
              "    }\n",
              "    80% {\n",
              "      border-color: transparent;\n",
              "      border-right-color: var(--fill-color);\n",
              "      border-bottom-color: var(--fill-color);\n",
              "    }\n",
              "    90% {\n",
              "      border-color: transparent;\n",
              "      border-bottom-color: var(--fill-color);\n",
              "    }\n",
              "  }\n",
              "</style>\n",
              "\n",
              "      <script>\n",
              "        async function quickchart(key) {\n",
              "          const quickchartButtonEl =\n",
              "            document.querySelector('#' + key + ' button');\n",
              "          quickchartButtonEl.disabled = true;  // To prevent multiple clicks.\n",
              "          quickchartButtonEl.classList.add('colab-df-spinner');\n",
              "          try {\n",
              "            const charts = await google.colab.kernel.invokeFunction(\n",
              "                'suggestCharts', [key], {});\n",
              "          } catch (error) {\n",
              "            console.error('Error during call to suggestCharts:', error);\n",
              "          }\n",
              "          quickchartButtonEl.classList.remove('colab-df-spinner');\n",
              "          quickchartButtonEl.classList.add('colab-df-quickchart-complete');\n",
              "        }\n",
              "        (() => {\n",
              "          let quickchartButtonEl =\n",
              "            document.querySelector('#df-0b2e4616-1f5e-4968-8221-2896f290af68 button');\n",
              "          quickchartButtonEl.style.display =\n",
              "            google.colab.kernel.accessAllowed ? 'block' : 'none';\n",
              "        })();\n",
              "      </script>\n",
              "    </div>\n",
              "    </div>\n",
              "  </div>\n"
            ],
            "application/vnd.google.colaboratory.intrinsic+json": {
              "type": "dataframe",
              "variable_name": "events_data",
              "summary": "{\n  \"name\": \"events_data\",\n  \"rows\": 1330,\n  \"fields\": [\n    {\n      \"column\": \"Order ID\",\n      \"properties\": {\n        \"dtype\": \"number\",\n        \"std\": 257388211,\n        \"min\": 100640618,\n        \"max\": 999879729,\n        \"num_unique_values\": 1330,\n        \"samples\": [\n          685233008,\n          174614226,\n          449206340\n        ],\n        \"semantic_type\": \"\",\n        \"description\": \"\"\n      }\n    },\n    {\n      \"column\": \"Order Date\",\n      \"properties\": {\n        \"dtype\": \"object\",\n        \"num_unique_values\": 1049,\n        \"samples\": [\n          \"7/22/2011\",\n          \"6/25/2013\",\n          \"5/6/2015\"\n        ],\n        \"semantic_type\": \"\",\n        \"description\": \"\"\n      }\n    },\n    {\n      \"column\": \"Ship Date\",\n      \"properties\": {\n        \"dtype\": \"object\",\n        \"num_unique_values\": 1070,\n        \"samples\": [\n          \"12/11/2010\",\n          \"3/23/2012\",\n          \"8/16/2012\"\n        ],\n        \"semantic_type\": \"\",\n        \"description\": \"\"\n      }\n    },\n    {\n      \"column\": \"Order Priority\",\n      \"properties\": {\n        \"dtype\": \"category\",\n        \"num_unique_values\": 6,\n        \"samples\": [\n          \"M\",\n          \"C\",\n          \"M \"\n        ],\n        \"semantic_type\": \"\",\n        \"description\": \"\"\n      }\n    },\n    {\n      \"column\": \"Country Code\",\n      \"properties\": {\n        \"dtype\": \"category\",\n        \"num_unique_values\": 45,\n        \"samples\": [\n          \"SWE\",\n          \"AUT\",\n          \"MKD\"\n        ],\n        \"semantic_type\": \"\",\n        \"description\": \"\"\n      }\n    },\n    {\n      \"column\": \"Product ID\",\n      \"properties\": {\n        \"dtype\": \"number\",\n        \"std\": 2820,\n        \"min\": 1270,\n        \"max\": 8969,\n        \"num_unique_values\": 12,\n        \"samples\": [\n          8969,\n          8293,\n          2103\n        ],\n        \"semantic_type\": \"\",\n        \"description\": \"\"\n      }\n    },\n    {\n      \"column\": \"Sales Channel\",\n      \"properties\": {\n        \"dtype\": \"category\",\n        \"num_unique_values\": 3,\n        \"samples\": [\n          \"Online\",\n          \"Offline\",\n          \"online\"\n        ],\n        \"semantic_type\": \"\",\n        \"description\": \"\"\n      }\n    },\n    {\n      \"column\": \"Units Sold\",\n      \"properties\": {\n        \"dtype\": \"number\",\n        \"std\": 2905.198996399036,\n        \"min\": 2.0,\n        \"max\": 9999.0,\n        \"num_unique_values\": 1239,\n        \"samples\": [\n          4681.0,\n          7069.0,\n          7923.0\n        ],\n        \"semantic_type\": \"\",\n        \"description\": \"\"\n      }\n    },\n    {\n      \"column\": \"Unit Price\",\n      \"properties\": {\n        \"dtype\": \"number\",\n        \"std\": 217.3234595194511,\n        \"min\": 9.33,\n        \"max\": 668.27,\n        \"num_unique_values\": 12,\n        \"samples\": [\n          152.58,\n          437.2,\n          205.7\n        ],\n        \"semantic_type\": \"\",\n        \"description\": \"\"\n      }\n    },\n    {\n      \"column\": \"Unit Cost\",\n      \"properties\": {\n        \"dtype\": \"number\",\n        \"std\": 176.15887275845523,\n        \"min\": 6.92,\n        \"max\": 524.96,\n        \"num_unique_values\": 12,\n        \"samples\": [\n          97.44,\n          263.33,\n          117.11\n        ],\n        \"semantic_type\": \"\",\n        \"description\": \"\"\n      }\n    }\n  ]\n}"
            }
          },
          "metadata": {},
          "execution_count": 5
        }
      ]
    },
    {
      "cell_type": "code",
      "source": [
        "print(events_data.shape)"
      ],
      "metadata": {
        "colab": {
          "base_uri": "https://localhost:8080/"
        },
        "id": "bWtm4xF6x2za",
        "outputId": "7ae7d6ab-bb26-44ef-ca41-869225b638d9"
      },
      "execution_count": null,
      "outputs": [
        {
          "output_type": "stream",
          "name": "stdout",
          "text": [
            "(1330, 10)\n"
          ]
        }
      ]
    },
    {
      "cell_type": "markdown",
      "source": [
        " В таблиці events_data можемо побачити колонки в яких містяться дані щодо ідентифікаторів замовлення та продуктів, дані щодо дати замовлення, дати відправлення, пріоритету замовлення, коду країни, каналу продажів, інформацію щодо проданих одиниць, ціни за одиницю та вартості одиниці продукту. Дана таблиця містить 1330 рядків та 10 колонок."
      ],
      "metadata": {
        "id": "R-D0_jgl-p-R"
      }
    },
    {
      "cell_type": "code",
      "source": [
        "products_data.head()"
      ],
      "metadata": {
        "colab": {
          "base_uri": "https://localhost:8080/",
          "height": 206
        },
        "id": "jslT47V3-qRD",
        "outputId": "9c577fbf-388b-4d55-c910-63ee77a3ad6b"
      },
      "execution_count": null,
      "outputs": [
        {
          "output_type": "execute_result",
          "data": {
            "text/plain": [
              "     id        item_type\n",
              "0  2103           Cereal\n",
              "1  7940        Household\n",
              "2  2455          Clothes\n",
              "3  1270        Beverages\n",
              "4  8681  Office Supplies"
            ],
            "text/html": [
              "\n",
              "  <div id=\"df-632d5eb2-e94f-4906-8a30-4406de2c8e42\" class=\"colab-df-container\">\n",
              "    <div>\n",
              "<style scoped>\n",
              "    .dataframe tbody tr th:only-of-type {\n",
              "        vertical-align: middle;\n",
              "    }\n",
              "\n",
              "    .dataframe tbody tr th {\n",
              "        vertical-align: top;\n",
              "    }\n",
              "\n",
              "    .dataframe thead th {\n",
              "        text-align: right;\n",
              "    }\n",
              "</style>\n",
              "<table border=\"1\" class=\"dataframe\">\n",
              "  <thead>\n",
              "    <tr style=\"text-align: right;\">\n",
              "      <th></th>\n",
              "      <th>id</th>\n",
              "      <th>item_type</th>\n",
              "    </tr>\n",
              "  </thead>\n",
              "  <tbody>\n",
              "    <tr>\n",
              "      <th>0</th>\n",
              "      <td>2103</td>\n",
              "      <td>Cereal</td>\n",
              "    </tr>\n",
              "    <tr>\n",
              "      <th>1</th>\n",
              "      <td>7940</td>\n",
              "      <td>Household</td>\n",
              "    </tr>\n",
              "    <tr>\n",
              "      <th>2</th>\n",
              "      <td>2455</td>\n",
              "      <td>Clothes</td>\n",
              "    </tr>\n",
              "    <tr>\n",
              "      <th>3</th>\n",
              "      <td>1270</td>\n",
              "      <td>Beverages</td>\n",
              "    </tr>\n",
              "    <tr>\n",
              "      <th>4</th>\n",
              "      <td>8681</td>\n",
              "      <td>Office Supplies</td>\n",
              "    </tr>\n",
              "  </tbody>\n",
              "</table>\n",
              "</div>\n",
              "    <div class=\"colab-df-buttons\">\n",
              "\n",
              "  <div class=\"colab-df-container\">\n",
              "    <button class=\"colab-df-convert\" onclick=\"convertToInteractive('df-632d5eb2-e94f-4906-8a30-4406de2c8e42')\"\n",
              "            title=\"Convert this dataframe to an interactive table.\"\n",
              "            style=\"display:none;\">\n",
              "\n",
              "  <svg xmlns=\"http://www.w3.org/2000/svg\" height=\"24px\" viewBox=\"0 -960 960 960\">\n",
              "    <path d=\"M120-120v-720h720v720H120Zm60-500h600v-160H180v160Zm220 220h160v-160H400v160Zm0 220h160v-160H400v160ZM180-400h160v-160H180v160Zm440 0h160v-160H620v160ZM180-180h160v-160H180v160Zm440 0h160v-160H620v160Z\"/>\n",
              "  </svg>\n",
              "    </button>\n",
              "\n",
              "  <style>\n",
              "    .colab-df-container {\n",
              "      display:flex;\n",
              "      gap: 12px;\n",
              "    }\n",
              "\n",
              "    .colab-df-convert {\n",
              "      background-color: #E8F0FE;\n",
              "      border: none;\n",
              "      border-radius: 50%;\n",
              "      cursor: pointer;\n",
              "      display: none;\n",
              "      fill: #1967D2;\n",
              "      height: 32px;\n",
              "      padding: 0 0 0 0;\n",
              "      width: 32px;\n",
              "    }\n",
              "\n",
              "    .colab-df-convert:hover {\n",
              "      background-color: #E2EBFA;\n",
              "      box-shadow: 0px 1px 2px rgba(60, 64, 67, 0.3), 0px 1px 3px 1px rgba(60, 64, 67, 0.15);\n",
              "      fill: #174EA6;\n",
              "    }\n",
              "\n",
              "    .colab-df-buttons div {\n",
              "      margin-bottom: 4px;\n",
              "    }\n",
              "\n",
              "    [theme=dark] .colab-df-convert {\n",
              "      background-color: #3B4455;\n",
              "      fill: #D2E3FC;\n",
              "    }\n",
              "\n",
              "    [theme=dark] .colab-df-convert:hover {\n",
              "      background-color: #434B5C;\n",
              "      box-shadow: 0px 1px 3px 1px rgba(0, 0, 0, 0.15);\n",
              "      filter: drop-shadow(0px 1px 2px rgba(0, 0, 0, 0.3));\n",
              "      fill: #FFFFFF;\n",
              "    }\n",
              "  </style>\n",
              "\n",
              "    <script>\n",
              "      const buttonEl =\n",
              "        document.querySelector('#df-632d5eb2-e94f-4906-8a30-4406de2c8e42 button.colab-df-convert');\n",
              "      buttonEl.style.display =\n",
              "        google.colab.kernel.accessAllowed ? 'block' : 'none';\n",
              "\n",
              "      async function convertToInteractive(key) {\n",
              "        const element = document.querySelector('#df-632d5eb2-e94f-4906-8a30-4406de2c8e42');\n",
              "        const dataTable =\n",
              "          await google.colab.kernel.invokeFunction('convertToInteractive',\n",
              "                                                    [key], {});\n",
              "        if (!dataTable) return;\n",
              "\n",
              "        const docLinkHtml = 'Like what you see? Visit the ' +\n",
              "          '<a target=\"_blank\" href=https://colab.research.google.com/notebooks/data_table.ipynb>data table notebook</a>'\n",
              "          + ' to learn more about interactive tables.';\n",
              "        element.innerHTML = '';\n",
              "        dataTable['output_type'] = 'display_data';\n",
              "        await google.colab.output.renderOutput(dataTable, element);\n",
              "        const docLink = document.createElement('div');\n",
              "        docLink.innerHTML = docLinkHtml;\n",
              "        element.appendChild(docLink);\n",
              "      }\n",
              "    </script>\n",
              "  </div>\n",
              "\n",
              "\n",
              "    <div id=\"df-b0e07661-160a-4cd6-a2a7-b9eeb3b857bb\">\n",
              "      <button class=\"colab-df-quickchart\" onclick=\"quickchart('df-b0e07661-160a-4cd6-a2a7-b9eeb3b857bb')\"\n",
              "                title=\"Suggest charts\"\n",
              "                style=\"display:none;\">\n",
              "\n",
              "<svg xmlns=\"http://www.w3.org/2000/svg\" height=\"24px\"viewBox=\"0 0 24 24\"\n",
              "     width=\"24px\">\n",
              "    <g>\n",
              "        <path d=\"M19 3H5c-1.1 0-2 .9-2 2v14c0 1.1.9 2 2 2h14c1.1 0 2-.9 2-2V5c0-1.1-.9-2-2-2zM9 17H7v-7h2v7zm4 0h-2V7h2v10zm4 0h-2v-4h2v4z\"/>\n",
              "    </g>\n",
              "</svg>\n",
              "      </button>\n",
              "\n",
              "<style>\n",
              "  .colab-df-quickchart {\n",
              "      --bg-color: #E8F0FE;\n",
              "      --fill-color: #1967D2;\n",
              "      --hover-bg-color: #E2EBFA;\n",
              "      --hover-fill-color: #174EA6;\n",
              "      --disabled-fill-color: #AAA;\n",
              "      --disabled-bg-color: #DDD;\n",
              "  }\n",
              "\n",
              "  [theme=dark] .colab-df-quickchart {\n",
              "      --bg-color: #3B4455;\n",
              "      --fill-color: #D2E3FC;\n",
              "      --hover-bg-color: #434B5C;\n",
              "      --hover-fill-color: #FFFFFF;\n",
              "      --disabled-bg-color: #3B4455;\n",
              "      --disabled-fill-color: #666;\n",
              "  }\n",
              "\n",
              "  .colab-df-quickchart {\n",
              "    background-color: var(--bg-color);\n",
              "    border: none;\n",
              "    border-radius: 50%;\n",
              "    cursor: pointer;\n",
              "    display: none;\n",
              "    fill: var(--fill-color);\n",
              "    height: 32px;\n",
              "    padding: 0;\n",
              "    width: 32px;\n",
              "  }\n",
              "\n",
              "  .colab-df-quickchart:hover {\n",
              "    background-color: var(--hover-bg-color);\n",
              "    box-shadow: 0 1px 2px rgba(60, 64, 67, 0.3), 0 1px 3px 1px rgba(60, 64, 67, 0.15);\n",
              "    fill: var(--button-hover-fill-color);\n",
              "  }\n",
              "\n",
              "  .colab-df-quickchart-complete:disabled,\n",
              "  .colab-df-quickchart-complete:disabled:hover {\n",
              "    background-color: var(--disabled-bg-color);\n",
              "    fill: var(--disabled-fill-color);\n",
              "    box-shadow: none;\n",
              "  }\n",
              "\n",
              "  .colab-df-spinner {\n",
              "    border: 2px solid var(--fill-color);\n",
              "    border-color: transparent;\n",
              "    border-bottom-color: var(--fill-color);\n",
              "    animation:\n",
              "      spin 1s steps(1) infinite;\n",
              "  }\n",
              "\n",
              "  @keyframes spin {\n",
              "    0% {\n",
              "      border-color: transparent;\n",
              "      border-bottom-color: var(--fill-color);\n",
              "      border-left-color: var(--fill-color);\n",
              "    }\n",
              "    20% {\n",
              "      border-color: transparent;\n",
              "      border-left-color: var(--fill-color);\n",
              "      border-top-color: var(--fill-color);\n",
              "    }\n",
              "    30% {\n",
              "      border-color: transparent;\n",
              "      border-left-color: var(--fill-color);\n",
              "      border-top-color: var(--fill-color);\n",
              "      border-right-color: var(--fill-color);\n",
              "    }\n",
              "    40% {\n",
              "      border-color: transparent;\n",
              "      border-right-color: var(--fill-color);\n",
              "      border-top-color: var(--fill-color);\n",
              "    }\n",
              "    60% {\n",
              "      border-color: transparent;\n",
              "      border-right-color: var(--fill-color);\n",
              "    }\n",
              "    80% {\n",
              "      border-color: transparent;\n",
              "      border-right-color: var(--fill-color);\n",
              "      border-bottom-color: var(--fill-color);\n",
              "    }\n",
              "    90% {\n",
              "      border-color: transparent;\n",
              "      border-bottom-color: var(--fill-color);\n",
              "    }\n",
              "  }\n",
              "</style>\n",
              "\n",
              "      <script>\n",
              "        async function quickchart(key) {\n",
              "          const quickchartButtonEl =\n",
              "            document.querySelector('#' + key + ' button');\n",
              "          quickchartButtonEl.disabled = true;  // To prevent multiple clicks.\n",
              "          quickchartButtonEl.classList.add('colab-df-spinner');\n",
              "          try {\n",
              "            const charts = await google.colab.kernel.invokeFunction(\n",
              "                'suggestCharts', [key], {});\n",
              "          } catch (error) {\n",
              "            console.error('Error during call to suggestCharts:', error);\n",
              "          }\n",
              "          quickchartButtonEl.classList.remove('colab-df-spinner');\n",
              "          quickchartButtonEl.classList.add('colab-df-quickchart-complete');\n",
              "        }\n",
              "        (() => {\n",
              "          let quickchartButtonEl =\n",
              "            document.querySelector('#df-b0e07661-160a-4cd6-a2a7-b9eeb3b857bb button');\n",
              "          quickchartButtonEl.style.display =\n",
              "            google.colab.kernel.accessAllowed ? 'block' : 'none';\n",
              "        })();\n",
              "      </script>\n",
              "    </div>\n",
              "    </div>\n",
              "  </div>\n"
            ],
            "application/vnd.google.colaboratory.intrinsic+json": {
              "type": "dataframe",
              "variable_name": "products_data",
              "summary": "{\n  \"name\": \"products_data\",\n  \"rows\": 12,\n  \"fields\": [\n    {\n      \"column\": \"id\",\n      \"properties\": {\n        \"dtype\": \"number\",\n        \"std\": 2937,\n        \"min\": 1270,\n        \"max\": 8969,\n        \"num_unique_values\": 12,\n        \"samples\": [\n          8969,\n          8293,\n          2103\n        ],\n        \"semantic_type\": \"\",\n        \"description\": \"\"\n      }\n    },\n    {\n      \"column\": \"item_type\",\n      \"properties\": {\n        \"dtype\": \"string\",\n        \"num_unique_values\": 12,\n        \"samples\": [\n          \"Snacks\",\n          \"Cosmetics\",\n          \"Cereal\"\n        ],\n        \"semantic_type\": \"\",\n        \"description\": \"\"\n      }\n    }\n  ]\n}"
            }
          },
          "metadata": {},
          "execution_count": 7
        }
      ]
    },
    {
      "cell_type": "code",
      "source": [
        "print(products_data.shape)"
      ],
      "metadata": {
        "colab": {
          "base_uri": "https://localhost:8080/"
        },
        "id": "lIF4p5uwyCSr",
        "outputId": "9133e9b7-cf03-4463-b752-303b18354d4e"
      },
      "execution_count": null,
      "outputs": [
        {
          "output_type": "stream",
          "name": "stdout",
          "text": [
            "(12, 2)\n"
          ]
        }
      ]
    },
    {
      "cell_type": "markdown",
      "source": [
        "В таблиці products_data можемо побачити колонки в яких містяться дані щодо ідентифікатора та категорії продуктів. Дана таблиця містить 12 рядків та 2 колонки."
      ],
      "metadata": {
        "id": "eJXPY99n-u9D"
      }
    },
    {
      "cell_type": "markdown",
      "source": [
        "### Ключові поля, що поєднують таблиці в датасеті\n",
        "- таблиці events_data та products_data поєднують такі ключові поля як id та Product ID;\n",
        "- таблиці events_data та countries_data поєднують такі ключові поля як Country Code та alpha-3"
      ],
      "metadata": {
        "id": "t4UtCUbUFNKk"
      }
    },
    {
      "cell_type": "markdown",
      "source": [
        "# 2. Data cleaning"
      ],
      "metadata": {
        "id": "LpVRAj1iqj7V"
      }
    },
    {
      "cell_type": "code",
      "source": [
        "print(countries_data.isna().sum())"
      ],
      "metadata": {
        "colab": {
          "base_uri": "https://localhost:8080/"
        },
        "id": "5JBdCzTlqnFD",
        "outputId": "574ef0ec-b329-4926-eab4-90adfba36efe"
      },
      "execution_count": null,
      "outputs": [
        {
          "output_type": "stream",
          "name": "stdout",
          "text": [
            "name          0\n",
            "alpha-2       1\n",
            "alpha-3       0\n",
            "region        1\n",
            "sub-region    1\n",
            "dtype: int64\n"
          ]
        }
      ]
    },
    {
      "cell_type": "code",
      "source": [
        "print(countries_data.isna().sum() / countries_data.shape[0] * 100)"
      ],
      "metadata": {
        "colab": {
          "base_uri": "https://localhost:8080/"
        },
        "id": "R7_IVonZzXPQ",
        "outputId": "21360b17-40db-4ef0-89c7-ea10b0cd5a9e"
      },
      "execution_count": null,
      "outputs": [
        {
          "output_type": "stream",
          "name": "stdout",
          "text": [
            "name          0.000000\n",
            "alpha-2       0.401606\n",
            "alpha-3       0.000000\n",
            "region        0.401606\n",
            "sub-region    0.401606\n",
            "dtype: float64\n"
          ]
        }
      ]
    },
    {
      "cell_type": "markdown",
      "source": [
        "Таблиця countries_data містить пропущені значення. Доля пропущених значень у вказаній таблиці займає приблизно 0.4%."
      ],
      "metadata": {
        "id": "LKg-NPJZ1AY3"
      }
    },
    {
      "cell_type": "code",
      "source": [
        "print(events_data.isna().sum())"
      ],
      "metadata": {
        "colab": {
          "base_uri": "https://localhost:8080/"
        },
        "id": "ndIGzmuz8Pyt",
        "outputId": "5834f881-92c1-4df3-cc91-b4a69fbc441b"
      },
      "execution_count": null,
      "outputs": [
        {
          "output_type": "stream",
          "name": "stdout",
          "text": [
            "Order ID           0\n",
            "Order Date         0\n",
            "Ship Date          0\n",
            "Order Priority     0\n",
            "Country Code      82\n",
            "Product ID         0\n",
            "Sales Channel      0\n",
            "Units Sold         2\n",
            "Unit Price         0\n",
            "Unit Cost          0\n",
            "dtype: int64\n"
          ]
        }
      ]
    },
    {
      "cell_type": "code",
      "source": [
        "print(events_data.isna().sum() / events_data.shape[0] * 100)"
      ],
      "metadata": {
        "colab": {
          "base_uri": "https://localhost:8080/"
        },
        "id": "Pn7AAFdI8a1Q",
        "outputId": "1927646d-2395-4af1-8f43-d77e7177abc9"
      },
      "execution_count": null,
      "outputs": [
        {
          "output_type": "stream",
          "name": "stdout",
          "text": [
            "Order ID          0.000000\n",
            "Order Date        0.000000\n",
            "Ship Date         0.000000\n",
            "Order Priority    0.000000\n",
            "Country Code      6.165414\n",
            "Product ID        0.000000\n",
            "Sales Channel     0.000000\n",
            "Units Sold        0.150376\n",
            "Unit Price        0.000000\n",
            "Unit Cost         0.000000\n",
            "dtype: float64\n"
          ]
        }
      ]
    },
    {
      "cell_type": "markdown",
      "source": [
        "Таблиця events_data містить пропущені значення в колонках Country Code та Units Sold. Доля пропущених значень у колонці Country Code займає 6.165414%, а в колонці Units Sold - 0.150376%."
      ],
      "metadata": {
        "id": "fbplJe0f9AvR"
      }
    },
    {
      "cell_type": "code",
      "source": [
        "print(products_data.isna().sum())"
      ],
      "metadata": {
        "colab": {
          "base_uri": "https://localhost:8080/"
        },
        "id": "R5c_Kobr803R",
        "outputId": "fbab9f98-a71c-492b-ae77-554e84c945cb"
      },
      "execution_count": null,
      "outputs": [
        {
          "output_type": "stream",
          "name": "stdout",
          "text": [
            "id           0\n",
            "item_type    0\n",
            "dtype: int64\n"
          ]
        }
      ]
    },
    {
      "cell_type": "markdown",
      "source": [
        "Таблиця products_data не містить пропущених значень."
      ],
      "metadata": {
        "id": "j-YEVkPb9JbG"
      }
    },
    {
      "cell_type": "code",
      "source": [
        "countries_data[\"region\"] = countries_data[\"region\"].fillna('Unknown')\n",
        "countries_data[\"sub-region\"] = countries_data[\"sub-region\"].fillna('Unknown')\n",
        "countries_data[\"alpha-2\"] = countries_data[\"alpha-2\"].fillna('Unknown')\n"
      ],
      "metadata": {
        "id": "f95BwqVrBaLx"
      },
      "execution_count": null,
      "outputs": []
    },
    {
      "cell_type": "markdown",
      "source": [
        "Так як таблиця countries_data в колонках region, sub-region та alpha-2 містить пропущені значення, заповнюємо ці пропуски конкретним значенням \"Unknown\", бо вказані колонки містять не числові дані. Тому для подальшого аналізу даних краще заповнити пропущені значення у вказаних колонках."
      ],
      "metadata": {
        "id": "fmOEGJB_E0zs"
      }
    },
    {
      "cell_type": "code",
      "source": [
        "events_data[\"Country Code\"] = events_data[\"Country Code\"].fillna('Unknown')\n"
      ],
      "metadata": {
        "id": "u65gp-cFIOQg"
      },
      "execution_count": null,
      "outputs": []
    },
    {
      "cell_type": "markdown",
      "source": [
        "Колонка Country Code в таблиці events_data має категоріальний тип даних та містить інформацію про коди країн, тому відсутні значення в цій колонці краще заповнити конкретним значенням \"Unknown\".\n",
        "\"Unknown\" дає можливість аналізувати ці країни окремо або ігнорувати їх при потребі.\n"
      ],
      "metadata": {
        "id": "wctFXsvUKIRx"
      }
    },
    {
      "cell_type": "code",
      "source": [
        "events_data[\"Units Sold\"] = events_data[\"Units Sold\"].fillna(events_data[\"Units Sold\"].median())"
      ],
      "metadata": {
        "id": "ZyLUBzB1PbVx"
      },
      "execution_count": null,
      "outputs": []
    },
    {
      "cell_type": "markdown",
      "source": [
        "Колонка Country Code в таблиці events_data має числовий тип даних, це ключовий показник обсягу продажів. Тому заповнюємо пропущені значення в цій колонці медіаною для повноти даних та збереження всіх рядків."
      ],
      "metadata": {
        "id": "QwA8ny_fRld-"
      }
    },
    {
      "cell_type": "code",
      "source": [
        "countries_data.info()"
      ],
      "metadata": {
        "colab": {
          "base_uri": "https://localhost:8080/"
        },
        "id": "9Ysc2O3XSCGE",
        "outputId": "5b9e593f-33a1-45b2-e6f0-ac4b1f2a93a7"
      },
      "execution_count": null,
      "outputs": [
        {
          "output_type": "stream",
          "name": "stdout",
          "text": [
            "<class 'pandas.core.frame.DataFrame'>\n",
            "RangeIndex: 249 entries, 0 to 248\n",
            "Data columns (total 5 columns):\n",
            " #   Column      Non-Null Count  Dtype \n",
            "---  ------      --------------  ----- \n",
            " 0   name        249 non-null    object\n",
            " 1   alpha-2     249 non-null    object\n",
            " 2   alpha-3     249 non-null    object\n",
            " 3   region      249 non-null    object\n",
            " 4   sub-region  249 non-null    object\n",
            "dtypes: object(5)\n",
            "memory usage: 9.9+ KB\n"
          ]
        }
      ]
    },
    {
      "cell_type": "markdown",
      "source": [
        "Типи даних в таблиці countries_data відображено коректно"
      ],
      "metadata": {
        "id": "qP3jQehtl9TM"
      }
    },
    {
      "cell_type": "code",
      "source": [
        "events_data.info()"
      ],
      "metadata": {
        "colab": {
          "base_uri": "https://localhost:8080/"
        },
        "id": "9oV9dusckn7m",
        "outputId": "dcd98f14-7583-4d5a-90d8-eb61e675e226"
      },
      "execution_count": null,
      "outputs": [
        {
          "output_type": "stream",
          "name": "stdout",
          "text": [
            "<class 'pandas.core.frame.DataFrame'>\n",
            "RangeIndex: 1330 entries, 0 to 1329\n",
            "Data columns (total 10 columns):\n",
            " #   Column          Non-Null Count  Dtype  \n",
            "---  ------          --------------  -----  \n",
            " 0   Order ID        1330 non-null   int64  \n",
            " 1   Order Date      1330 non-null   object \n",
            " 2   Ship Date       1330 non-null   object \n",
            " 3   Order Priority  1330 non-null   object \n",
            " 4   Country Code    1330 non-null   object \n",
            " 5   Product ID      1330 non-null   int64  \n",
            " 6   Sales Channel   1330 non-null   object \n",
            " 7   Units Sold      1330 non-null   float64\n",
            " 8   Unit Price      1330 non-null   float64\n",
            " 9   Unit Cost       1330 non-null   float64\n",
            "dtypes: float64(3), int64(2), object(5)\n",
            "memory usage: 104.0+ KB\n"
          ]
        }
      ]
    },
    {
      "cell_type": "markdown",
      "source": [
        "Можемо побачити, що в таблиці events_data в колонках Order Date та Ship Date некоректно відображено типи даних, тому здійснимо перетворення цих даних в тип datetime."
      ],
      "metadata": {
        "id": "bEuHliPemIKg"
      }
    },
    {
      "cell_type": "code",
      "source": [
        "events_data[\"Order Date\"] = pd.to_datetime(events_data[\"Order Date\"])\n",
        "events_data[\"Ship Date\"] = pd.to_datetime(events_data[\"Ship Date\"])\n"
      ],
      "metadata": {
        "id": "MQ0kvrzvmgkT"
      },
      "execution_count": null,
      "outputs": []
    },
    {
      "cell_type": "code",
      "source": [
        "events_data.info()"
      ],
      "metadata": {
        "colab": {
          "base_uri": "https://localhost:8080/"
        },
        "id": "3_3XwVxBoB4n",
        "outputId": "7b1b8bc7-c1ce-4faa-8dde-1284bdab581e"
      },
      "execution_count": null,
      "outputs": [
        {
          "output_type": "stream",
          "name": "stdout",
          "text": [
            "<class 'pandas.core.frame.DataFrame'>\n",
            "RangeIndex: 1330 entries, 0 to 1329\n",
            "Data columns (total 10 columns):\n",
            " #   Column          Non-Null Count  Dtype         \n",
            "---  ------          --------------  -----         \n",
            " 0   Order ID        1330 non-null   int64         \n",
            " 1   Order Date      1330 non-null   datetime64[ns]\n",
            " 2   Ship Date       1330 non-null   datetime64[ns]\n",
            " 3   Order Priority  1330 non-null   object        \n",
            " 4   Country Code    1330 non-null   object        \n",
            " 5   Product ID      1330 non-null   int64         \n",
            " 6   Sales Channel   1330 non-null   object        \n",
            " 7   Units Sold      1330 non-null   float64       \n",
            " 8   Unit Price      1330 non-null   float64       \n",
            " 9   Unit Cost       1330 non-null   float64       \n",
            "dtypes: datetime64[ns](2), float64(3), int64(2), object(3)\n",
            "memory usage: 104.0+ KB\n"
          ]
        }
      ]
    },
    {
      "cell_type": "markdown",
      "source": [
        "Тепер в таблиці events_data типи даних відображено коректно"
      ],
      "metadata": {
        "id": "ihkQul_woVz9"
      }
    },
    {
      "cell_type": "code",
      "source": [
        "products_data.info()"
      ],
      "metadata": {
        "colab": {
          "base_uri": "https://localhost:8080/"
        },
        "id": "TK41ZjNAk0Q_",
        "outputId": "699db089-c1e2-4e03-b555-62b26dcc000c"
      },
      "execution_count": null,
      "outputs": [
        {
          "output_type": "stream",
          "name": "stdout",
          "text": [
            "<class 'pandas.core.frame.DataFrame'>\n",
            "RangeIndex: 12 entries, 0 to 11\n",
            "Data columns (total 2 columns):\n",
            " #   Column     Non-Null Count  Dtype \n",
            "---  ------     --------------  ----- \n",
            " 0   id         12 non-null     int64 \n",
            " 1   item_type  12 non-null     object\n",
            "dtypes: int64(1), object(1)\n",
            "memory usage: 324.0+ bytes\n"
          ]
        }
      ]
    },
    {
      "cell_type": "markdown",
      "source": [
        "Типи даних в таблиці products_data відображено коректно"
      ],
      "metadata": {
        "id": "H_T9_49ioJ3c"
      }
    },
    {
      "cell_type": "markdown",
      "source": [
        "Тепер потрібно дослідити дані на наявність дублікатів та за потреби зробити перетворення для усунення дублікатів"
      ],
      "metadata": {
        "id": "pE1Oq4-8tSUf"
      }
    },
    {
      "cell_type": "code",
      "source": [
        "countries_data.columns = countries_data.columns.str.strip()\n",
        "text_cols = countries_data.select_dtypes(include='object').columns\n",
        "\n",
        "countries_data[text_cols] = (\n",
        "    countries_data[text_cols]\n",
        "    .astype(str)\n",
        "    .apply(lambda col: col.str.strip()\n",
        "                      .str.replace(r\"\\s+\", \" \", regex=True)\n",
        "                      .str.lower())\n",
        ")\n",
        "\n",
        "countries_data = countries_data.drop_duplicates()\n",
        "\n",
        "duplicate_rows = countries_data.duplicated()\n",
        "print(duplicate_rows)\n",
        "print(duplicate_rows.sum())\n"
      ],
      "metadata": {
        "colab": {
          "base_uri": "https://localhost:8080/"
        },
        "id": "AgxxK1otokuc",
        "outputId": "36a0e773-1c63-4cfa-8eaf-378f9b44afb1"
      },
      "execution_count": null,
      "outputs": [
        {
          "output_type": "stream",
          "name": "stdout",
          "text": [
            "0      False\n",
            "1      False\n",
            "2      False\n",
            "3      False\n",
            "4      False\n",
            "       ...  \n",
            "244    False\n",
            "245    False\n",
            "246    False\n",
            "247    False\n",
            "248    False\n",
            "Length: 249, dtype: bool\n",
            "0\n"
          ]
        }
      ]
    },
    {
      "cell_type": "code",
      "source": [
        "events_data.columns = events_data.columns.str.strip()\n",
        "text_cols = events_data.select_dtypes(include='object').columns\n",
        "\n",
        "events_data[text_cols] = (\n",
        "    events_data[text_cols]\n",
        "    .astype(str)\n",
        "    .apply(lambda col: col.str.strip()\n",
        "                      .str.replace(r\"\\s+\", \" \", regex=True)\n",
        "                      .str.lower())\n",
        ")\n",
        "\n",
        "events_data = events_data.drop_duplicates()\n",
        "\n",
        "duplicate_rows = events_data.duplicated()\n",
        "print(duplicate_rows)\n",
        "print(duplicate_rows.sum())"
      ],
      "metadata": {
        "colab": {
          "base_uri": "https://localhost:8080/"
        },
        "id": "TwjRHkodrx0N",
        "outputId": "c07c08b0-b660-416d-aa34-5f66d2fdfd09"
      },
      "execution_count": null,
      "outputs": [
        {
          "output_type": "stream",
          "name": "stdout",
          "text": [
            "0       False\n",
            "1       False\n",
            "2       False\n",
            "3       False\n",
            "4       False\n",
            "        ...  \n",
            "1325    False\n",
            "1326    False\n",
            "1327    False\n",
            "1328    False\n",
            "1329    False\n",
            "Length: 1330, dtype: bool\n",
            "0\n"
          ]
        }
      ]
    },
    {
      "cell_type": "code",
      "source": [
        "products_data.columns = products_data.columns.str.strip()\n",
        "text_cols = products_data.select_dtypes(include='object').columns\n",
        "\n",
        "products_data[text_cols] = (\n",
        "    products_data[text_cols]\n",
        "    .astype(str)\n",
        "    .apply(lambda col: col.str.strip()\n",
        "                      .str.replace(r\"\\s+\", \" \", regex=True)\n",
        "                      .str.lower())\n",
        ")\n",
        "\n",
        "products_data = products_data.drop_duplicates()\n",
        "\n",
        "duplicate_rows = products_data.duplicated()\n",
        "print(duplicate_rows)\n",
        "print(duplicate_rows.sum())"
      ],
      "metadata": {
        "colab": {
          "base_uri": "https://localhost:8080/"
        },
        "id": "EzjO7ny7sXGX",
        "outputId": "78b98656-5669-4204-a5ae-180a8def549f"
      },
      "execution_count": null,
      "outputs": [
        {
          "output_type": "stream",
          "name": "stdout",
          "text": [
            "0     False\n",
            "1     False\n",
            "2     False\n",
            "3     False\n",
            "4     False\n",
            "5     False\n",
            "6     False\n",
            "7     False\n",
            "8     False\n",
            "9     False\n",
            "10    False\n",
            "11    False\n",
            "dtype: bool\n",
            "0\n"
          ]
        }
      ]
    },
    {
      "cell_type": "markdown",
      "source": [
        "В датасеті проведено очищення назв колонок, тобто видалено пробіли зліва/справа від назв колонок.\n",
        "\n",
        "Очищено значення у всіх текстових колонках:\n",
        "-  видалено пробіли по краях;\n",
        "- перетворено багаторазові пробіли на один;\n",
        "- приведено до нижнього регістру.\n",
        "\n",
        "Також видалено повні дублікати рядків.\n",
        "\n",
        "При перевірці даних в датасеті дублікатів не виявлено.\n"
      ],
      "metadata": {
        "id": "iqvWJswAtLxG"
      }
    },
    {
      "cell_type": "markdown",
      "source": [
        "Тепер перевіримо дані на наявність аномалій"
      ],
      "metadata": {
        "id": "YXezG97awAXK"
      }
    },
    {
      "cell_type": "code",
      "source": [
        "countries_data.describe()"
      ],
      "metadata": {
        "colab": {
          "base_uri": "https://localhost:8080/",
          "height": 175
        },
        "id": "cNqkCvryv_Ef",
        "outputId": "cff940b8-6dd6-4217-f782-8201e768567f"
      },
      "execution_count": null,
      "outputs": [
        {
          "output_type": "execute_result",
          "data": {
            "text/plain": [
              "               name alpha-2 alpha-3  region          sub-region\n",
              "count           249     249     249     249                 249\n",
              "unique          249     249     249       6                  18\n",
              "top     afghanistan      af     afg  africa  sub-saharan africa\n",
              "freq              1       1       1      60                  53"
            ],
            "text/html": [
              "\n",
              "  <div id=\"df-78a274a8-762d-4059-9373-76e6d297f729\" class=\"colab-df-container\">\n",
              "    <div>\n",
              "<style scoped>\n",
              "    .dataframe tbody tr th:only-of-type {\n",
              "        vertical-align: middle;\n",
              "    }\n",
              "\n",
              "    .dataframe tbody tr th {\n",
              "        vertical-align: top;\n",
              "    }\n",
              "\n",
              "    .dataframe thead th {\n",
              "        text-align: right;\n",
              "    }\n",
              "</style>\n",
              "<table border=\"1\" class=\"dataframe\">\n",
              "  <thead>\n",
              "    <tr style=\"text-align: right;\">\n",
              "      <th></th>\n",
              "      <th>name</th>\n",
              "      <th>alpha-2</th>\n",
              "      <th>alpha-3</th>\n",
              "      <th>region</th>\n",
              "      <th>sub-region</th>\n",
              "    </tr>\n",
              "  </thead>\n",
              "  <tbody>\n",
              "    <tr>\n",
              "      <th>count</th>\n",
              "      <td>249</td>\n",
              "      <td>249</td>\n",
              "      <td>249</td>\n",
              "      <td>249</td>\n",
              "      <td>249</td>\n",
              "    </tr>\n",
              "    <tr>\n",
              "      <th>unique</th>\n",
              "      <td>249</td>\n",
              "      <td>249</td>\n",
              "      <td>249</td>\n",
              "      <td>6</td>\n",
              "      <td>18</td>\n",
              "    </tr>\n",
              "    <tr>\n",
              "      <th>top</th>\n",
              "      <td>afghanistan</td>\n",
              "      <td>af</td>\n",
              "      <td>afg</td>\n",
              "      <td>africa</td>\n",
              "      <td>sub-saharan africa</td>\n",
              "    </tr>\n",
              "    <tr>\n",
              "      <th>freq</th>\n",
              "      <td>1</td>\n",
              "      <td>1</td>\n",
              "      <td>1</td>\n",
              "      <td>60</td>\n",
              "      <td>53</td>\n",
              "    </tr>\n",
              "  </tbody>\n",
              "</table>\n",
              "</div>\n",
              "    <div class=\"colab-df-buttons\">\n",
              "\n",
              "  <div class=\"colab-df-container\">\n",
              "    <button class=\"colab-df-convert\" onclick=\"convertToInteractive('df-78a274a8-762d-4059-9373-76e6d297f729')\"\n",
              "            title=\"Convert this dataframe to an interactive table.\"\n",
              "            style=\"display:none;\">\n",
              "\n",
              "  <svg xmlns=\"http://www.w3.org/2000/svg\" height=\"24px\" viewBox=\"0 -960 960 960\">\n",
              "    <path d=\"M120-120v-720h720v720H120Zm60-500h600v-160H180v160Zm220 220h160v-160H400v160Zm0 220h160v-160H400v160ZM180-400h160v-160H180v160Zm440 0h160v-160H620v160ZM180-180h160v-160H180v160Zm440 0h160v-160H620v160Z\"/>\n",
              "  </svg>\n",
              "    </button>\n",
              "\n",
              "  <style>\n",
              "    .colab-df-container {\n",
              "      display:flex;\n",
              "      gap: 12px;\n",
              "    }\n",
              "\n",
              "    .colab-df-convert {\n",
              "      background-color: #E8F0FE;\n",
              "      border: none;\n",
              "      border-radius: 50%;\n",
              "      cursor: pointer;\n",
              "      display: none;\n",
              "      fill: #1967D2;\n",
              "      height: 32px;\n",
              "      padding: 0 0 0 0;\n",
              "      width: 32px;\n",
              "    }\n",
              "\n",
              "    .colab-df-convert:hover {\n",
              "      background-color: #E2EBFA;\n",
              "      box-shadow: 0px 1px 2px rgba(60, 64, 67, 0.3), 0px 1px 3px 1px rgba(60, 64, 67, 0.15);\n",
              "      fill: #174EA6;\n",
              "    }\n",
              "\n",
              "    .colab-df-buttons div {\n",
              "      margin-bottom: 4px;\n",
              "    }\n",
              "\n",
              "    [theme=dark] .colab-df-convert {\n",
              "      background-color: #3B4455;\n",
              "      fill: #D2E3FC;\n",
              "    }\n",
              "\n",
              "    [theme=dark] .colab-df-convert:hover {\n",
              "      background-color: #434B5C;\n",
              "      box-shadow: 0px 1px 3px 1px rgba(0, 0, 0, 0.15);\n",
              "      filter: drop-shadow(0px 1px 2px rgba(0, 0, 0, 0.3));\n",
              "      fill: #FFFFFF;\n",
              "    }\n",
              "  </style>\n",
              "\n",
              "    <script>\n",
              "      const buttonEl =\n",
              "        document.querySelector('#df-78a274a8-762d-4059-9373-76e6d297f729 button.colab-df-convert');\n",
              "      buttonEl.style.display =\n",
              "        google.colab.kernel.accessAllowed ? 'block' : 'none';\n",
              "\n",
              "      async function convertToInteractive(key) {\n",
              "        const element = document.querySelector('#df-78a274a8-762d-4059-9373-76e6d297f729');\n",
              "        const dataTable =\n",
              "          await google.colab.kernel.invokeFunction('convertToInteractive',\n",
              "                                                    [key], {});\n",
              "        if (!dataTable) return;\n",
              "\n",
              "        const docLinkHtml = 'Like what you see? Visit the ' +\n",
              "          '<a target=\"_blank\" href=https://colab.research.google.com/notebooks/data_table.ipynb>data table notebook</a>'\n",
              "          + ' to learn more about interactive tables.';\n",
              "        element.innerHTML = '';\n",
              "        dataTable['output_type'] = 'display_data';\n",
              "        await google.colab.output.renderOutput(dataTable, element);\n",
              "        const docLink = document.createElement('div');\n",
              "        docLink.innerHTML = docLinkHtml;\n",
              "        element.appendChild(docLink);\n",
              "      }\n",
              "    </script>\n",
              "  </div>\n",
              "\n",
              "\n",
              "    <div id=\"df-d0ff93c1-0d04-4d7b-9232-2ca107bceb99\">\n",
              "      <button class=\"colab-df-quickchart\" onclick=\"quickchart('df-d0ff93c1-0d04-4d7b-9232-2ca107bceb99')\"\n",
              "                title=\"Suggest charts\"\n",
              "                style=\"display:none;\">\n",
              "\n",
              "<svg xmlns=\"http://www.w3.org/2000/svg\" height=\"24px\"viewBox=\"0 0 24 24\"\n",
              "     width=\"24px\">\n",
              "    <g>\n",
              "        <path d=\"M19 3H5c-1.1 0-2 .9-2 2v14c0 1.1.9 2 2 2h14c1.1 0 2-.9 2-2V5c0-1.1-.9-2-2-2zM9 17H7v-7h2v7zm4 0h-2V7h2v10zm4 0h-2v-4h2v4z\"/>\n",
              "    </g>\n",
              "</svg>\n",
              "      </button>\n",
              "\n",
              "<style>\n",
              "  .colab-df-quickchart {\n",
              "      --bg-color: #E8F0FE;\n",
              "      --fill-color: #1967D2;\n",
              "      --hover-bg-color: #E2EBFA;\n",
              "      --hover-fill-color: #174EA6;\n",
              "      --disabled-fill-color: #AAA;\n",
              "      --disabled-bg-color: #DDD;\n",
              "  }\n",
              "\n",
              "  [theme=dark] .colab-df-quickchart {\n",
              "      --bg-color: #3B4455;\n",
              "      --fill-color: #D2E3FC;\n",
              "      --hover-bg-color: #434B5C;\n",
              "      --hover-fill-color: #FFFFFF;\n",
              "      --disabled-bg-color: #3B4455;\n",
              "      --disabled-fill-color: #666;\n",
              "  }\n",
              "\n",
              "  .colab-df-quickchart {\n",
              "    background-color: var(--bg-color);\n",
              "    border: none;\n",
              "    border-radius: 50%;\n",
              "    cursor: pointer;\n",
              "    display: none;\n",
              "    fill: var(--fill-color);\n",
              "    height: 32px;\n",
              "    padding: 0;\n",
              "    width: 32px;\n",
              "  }\n",
              "\n",
              "  .colab-df-quickchart:hover {\n",
              "    background-color: var(--hover-bg-color);\n",
              "    box-shadow: 0 1px 2px rgba(60, 64, 67, 0.3), 0 1px 3px 1px rgba(60, 64, 67, 0.15);\n",
              "    fill: var(--button-hover-fill-color);\n",
              "  }\n",
              "\n",
              "  .colab-df-quickchart-complete:disabled,\n",
              "  .colab-df-quickchart-complete:disabled:hover {\n",
              "    background-color: var(--disabled-bg-color);\n",
              "    fill: var(--disabled-fill-color);\n",
              "    box-shadow: none;\n",
              "  }\n",
              "\n",
              "  .colab-df-spinner {\n",
              "    border: 2px solid var(--fill-color);\n",
              "    border-color: transparent;\n",
              "    border-bottom-color: var(--fill-color);\n",
              "    animation:\n",
              "      spin 1s steps(1) infinite;\n",
              "  }\n",
              "\n",
              "  @keyframes spin {\n",
              "    0% {\n",
              "      border-color: transparent;\n",
              "      border-bottom-color: var(--fill-color);\n",
              "      border-left-color: var(--fill-color);\n",
              "    }\n",
              "    20% {\n",
              "      border-color: transparent;\n",
              "      border-left-color: var(--fill-color);\n",
              "      border-top-color: var(--fill-color);\n",
              "    }\n",
              "    30% {\n",
              "      border-color: transparent;\n",
              "      border-left-color: var(--fill-color);\n",
              "      border-top-color: var(--fill-color);\n",
              "      border-right-color: var(--fill-color);\n",
              "    }\n",
              "    40% {\n",
              "      border-color: transparent;\n",
              "      border-right-color: var(--fill-color);\n",
              "      border-top-color: var(--fill-color);\n",
              "    }\n",
              "    60% {\n",
              "      border-color: transparent;\n",
              "      border-right-color: var(--fill-color);\n",
              "    }\n",
              "    80% {\n",
              "      border-color: transparent;\n",
              "      border-right-color: var(--fill-color);\n",
              "      border-bottom-color: var(--fill-color);\n",
              "    }\n",
              "    90% {\n",
              "      border-color: transparent;\n",
              "      border-bottom-color: var(--fill-color);\n",
              "    }\n",
              "  }\n",
              "</style>\n",
              "\n",
              "      <script>\n",
              "        async function quickchart(key) {\n",
              "          const quickchartButtonEl =\n",
              "            document.querySelector('#' + key + ' button');\n",
              "          quickchartButtonEl.disabled = true;  // To prevent multiple clicks.\n",
              "          quickchartButtonEl.classList.add('colab-df-spinner');\n",
              "          try {\n",
              "            const charts = await google.colab.kernel.invokeFunction(\n",
              "                'suggestCharts', [key], {});\n",
              "          } catch (error) {\n",
              "            console.error('Error during call to suggestCharts:', error);\n",
              "          }\n",
              "          quickchartButtonEl.classList.remove('colab-df-spinner');\n",
              "          quickchartButtonEl.classList.add('colab-df-quickchart-complete');\n",
              "        }\n",
              "        (() => {\n",
              "          let quickchartButtonEl =\n",
              "            document.querySelector('#df-d0ff93c1-0d04-4d7b-9232-2ca107bceb99 button');\n",
              "          quickchartButtonEl.style.display =\n",
              "            google.colab.kernel.accessAllowed ? 'block' : 'none';\n",
              "        })();\n",
              "      </script>\n",
              "    </div>\n",
              "    </div>\n",
              "  </div>\n"
            ],
            "application/vnd.google.colaboratory.intrinsic+json": {
              "type": "dataframe",
              "summary": "{\n  \"name\": \"countries_data\",\n  \"rows\": 4,\n  \"fields\": [\n    {\n      \"column\": \"name\",\n      \"properties\": {\n        \"dtype\": \"string\",\n        \"num_unique_values\": 3,\n        \"samples\": [\n          \"249\",\n          \"afghanistan\",\n          \"1\"\n        ],\n        \"semantic_type\": \"\",\n        \"description\": \"\"\n      }\n    },\n    {\n      \"column\": \"alpha-2\",\n      \"properties\": {\n        \"dtype\": \"string\",\n        \"num_unique_values\": 3,\n        \"samples\": [\n          \"249\",\n          \"af\",\n          \"1\"\n        ],\n        \"semantic_type\": \"\",\n        \"description\": \"\"\n      }\n    },\n    {\n      \"column\": \"alpha-3\",\n      \"properties\": {\n        \"dtype\": \"string\",\n        \"num_unique_values\": 3,\n        \"samples\": [\n          \"249\",\n          \"afg\",\n          \"1\"\n        ],\n        \"semantic_type\": \"\",\n        \"description\": \"\"\n      }\n    },\n    {\n      \"column\": \"region\",\n      \"properties\": {\n        \"dtype\": \"string\",\n        \"num_unique_values\": 4,\n        \"samples\": [\n          6,\n          \"60\",\n          \"249\"\n        ],\n        \"semantic_type\": \"\",\n        \"description\": \"\"\n      }\n    },\n    {\n      \"column\": \"sub-region\",\n      \"properties\": {\n        \"dtype\": \"string\",\n        \"num_unique_values\": 4,\n        \"samples\": [\n          18,\n          \"53\",\n          \"249\"\n        ],\n        \"semantic_type\": \"\",\n        \"description\": \"\"\n      }\n    }\n  ]\n}"
            }
          },
          "metadata": {},
          "execution_count": 25
        }
      ]
    },
    {
      "cell_type": "code",
      "source": [
        "events_data.describe()"
      ],
      "metadata": {
        "colab": {
          "base_uri": "https://localhost:8080/",
          "height": 300
        },
        "id": "f27M-6PRwRNS",
        "outputId": "7ea1780d-489e-4ac9-fb3b-455aed24ef8a"
      },
      "execution_count": null,
      "outputs": [
        {
          "output_type": "execute_result",
          "data": {
            "text/plain": [
              "           Order ID                     Order Date  \\\n",
              "count  1.330000e+03                           1330   \n",
              "mean   5.412048e+08  2013-10-12 06:09:12.180451072   \n",
              "min    1.006406e+08            2010-01-01 00:00:00   \n",
              "25%    3.190004e+08            2011-12-16 06:00:00   \n",
              "50%    5.387164e+08            2013-10-17 00:00:00   \n",
              "75%    7.544628e+08            2015-08-28 18:00:00   \n",
              "max    9.998797e+08            2017-07-23 00:00:00   \n",
              "std    2.573882e+08                            NaN   \n",
              "\n",
              "                           Ship Date   Product ID   Units Sold   Unit Price  \\\n",
              "count                           1330  1330.000000  1330.000000  1330.000000   \n",
              "mean   2013-11-06 00:46:33.383458816  5788.096241  4952.216541   264.893541   \n",
              "min              2010-01-10 00:00:00  1270.000000     2.000000     9.330000   \n",
              "25%              2012-01-03 00:00:00  3127.000000  2360.750000    81.730000   \n",
              "50%              2013-11-09 00:00:00  5988.000000  4962.000000   154.060000   \n",
              "75%              2015-10-03 18:00:00  8681.000000  7458.750000   437.200000   \n",
              "max              2017-08-31 00:00:00  8969.000000  9999.000000   668.270000   \n",
              "std                              NaN  2820.728878  2903.012194   217.323460   \n",
              "\n",
              "         Unit Cost  \n",
              "count  1330.000000  \n",
              "mean    187.246812  \n",
              "min       6.920000  \n",
              "25%      35.840000  \n",
              "50%      97.440000  \n",
              "75%     263.330000  \n",
              "max     524.960000  \n",
              "std     176.158873  "
            ],
            "text/html": [
              "\n",
              "  <div id=\"df-1da8ead1-b7ff-4141-abf1-f2813cef6827\" class=\"colab-df-container\">\n",
              "    <div>\n",
              "<style scoped>\n",
              "    .dataframe tbody tr th:only-of-type {\n",
              "        vertical-align: middle;\n",
              "    }\n",
              "\n",
              "    .dataframe tbody tr th {\n",
              "        vertical-align: top;\n",
              "    }\n",
              "\n",
              "    .dataframe thead th {\n",
              "        text-align: right;\n",
              "    }\n",
              "</style>\n",
              "<table border=\"1\" class=\"dataframe\">\n",
              "  <thead>\n",
              "    <tr style=\"text-align: right;\">\n",
              "      <th></th>\n",
              "      <th>Order ID</th>\n",
              "      <th>Order Date</th>\n",
              "      <th>Ship Date</th>\n",
              "      <th>Product ID</th>\n",
              "      <th>Units Sold</th>\n",
              "      <th>Unit Price</th>\n",
              "      <th>Unit Cost</th>\n",
              "    </tr>\n",
              "  </thead>\n",
              "  <tbody>\n",
              "    <tr>\n",
              "      <th>count</th>\n",
              "      <td>1.330000e+03</td>\n",
              "      <td>1330</td>\n",
              "      <td>1330</td>\n",
              "      <td>1330.000000</td>\n",
              "      <td>1330.000000</td>\n",
              "      <td>1330.000000</td>\n",
              "      <td>1330.000000</td>\n",
              "    </tr>\n",
              "    <tr>\n",
              "      <th>mean</th>\n",
              "      <td>5.412048e+08</td>\n",
              "      <td>2013-10-12 06:09:12.180451072</td>\n",
              "      <td>2013-11-06 00:46:33.383458816</td>\n",
              "      <td>5788.096241</td>\n",
              "      <td>4952.216541</td>\n",
              "      <td>264.893541</td>\n",
              "      <td>187.246812</td>\n",
              "    </tr>\n",
              "    <tr>\n",
              "      <th>min</th>\n",
              "      <td>1.006406e+08</td>\n",
              "      <td>2010-01-01 00:00:00</td>\n",
              "      <td>2010-01-10 00:00:00</td>\n",
              "      <td>1270.000000</td>\n",
              "      <td>2.000000</td>\n",
              "      <td>9.330000</td>\n",
              "      <td>6.920000</td>\n",
              "    </tr>\n",
              "    <tr>\n",
              "      <th>25%</th>\n",
              "      <td>3.190004e+08</td>\n",
              "      <td>2011-12-16 06:00:00</td>\n",
              "      <td>2012-01-03 00:00:00</td>\n",
              "      <td>3127.000000</td>\n",
              "      <td>2360.750000</td>\n",
              "      <td>81.730000</td>\n",
              "      <td>35.840000</td>\n",
              "    </tr>\n",
              "    <tr>\n",
              "      <th>50%</th>\n",
              "      <td>5.387164e+08</td>\n",
              "      <td>2013-10-17 00:00:00</td>\n",
              "      <td>2013-11-09 00:00:00</td>\n",
              "      <td>5988.000000</td>\n",
              "      <td>4962.000000</td>\n",
              "      <td>154.060000</td>\n",
              "      <td>97.440000</td>\n",
              "    </tr>\n",
              "    <tr>\n",
              "      <th>75%</th>\n",
              "      <td>7.544628e+08</td>\n",
              "      <td>2015-08-28 18:00:00</td>\n",
              "      <td>2015-10-03 18:00:00</td>\n",
              "      <td>8681.000000</td>\n",
              "      <td>7458.750000</td>\n",
              "      <td>437.200000</td>\n",
              "      <td>263.330000</td>\n",
              "    </tr>\n",
              "    <tr>\n",
              "      <th>max</th>\n",
              "      <td>9.998797e+08</td>\n",
              "      <td>2017-07-23 00:00:00</td>\n",
              "      <td>2017-08-31 00:00:00</td>\n",
              "      <td>8969.000000</td>\n",
              "      <td>9999.000000</td>\n",
              "      <td>668.270000</td>\n",
              "      <td>524.960000</td>\n",
              "    </tr>\n",
              "    <tr>\n",
              "      <th>std</th>\n",
              "      <td>2.573882e+08</td>\n",
              "      <td>NaN</td>\n",
              "      <td>NaN</td>\n",
              "      <td>2820.728878</td>\n",
              "      <td>2903.012194</td>\n",
              "      <td>217.323460</td>\n",
              "      <td>176.158873</td>\n",
              "    </tr>\n",
              "  </tbody>\n",
              "</table>\n",
              "</div>\n",
              "    <div class=\"colab-df-buttons\">\n",
              "\n",
              "  <div class=\"colab-df-container\">\n",
              "    <button class=\"colab-df-convert\" onclick=\"convertToInteractive('df-1da8ead1-b7ff-4141-abf1-f2813cef6827')\"\n",
              "            title=\"Convert this dataframe to an interactive table.\"\n",
              "            style=\"display:none;\">\n",
              "\n",
              "  <svg xmlns=\"http://www.w3.org/2000/svg\" height=\"24px\" viewBox=\"0 -960 960 960\">\n",
              "    <path d=\"M120-120v-720h720v720H120Zm60-500h600v-160H180v160Zm220 220h160v-160H400v160Zm0 220h160v-160H400v160ZM180-400h160v-160H180v160Zm440 0h160v-160H620v160ZM180-180h160v-160H180v160Zm440 0h160v-160H620v160Z\"/>\n",
              "  </svg>\n",
              "    </button>\n",
              "\n",
              "  <style>\n",
              "    .colab-df-container {\n",
              "      display:flex;\n",
              "      gap: 12px;\n",
              "    }\n",
              "\n",
              "    .colab-df-convert {\n",
              "      background-color: #E8F0FE;\n",
              "      border: none;\n",
              "      border-radius: 50%;\n",
              "      cursor: pointer;\n",
              "      display: none;\n",
              "      fill: #1967D2;\n",
              "      height: 32px;\n",
              "      padding: 0 0 0 0;\n",
              "      width: 32px;\n",
              "    }\n",
              "\n",
              "    .colab-df-convert:hover {\n",
              "      background-color: #E2EBFA;\n",
              "      box-shadow: 0px 1px 2px rgba(60, 64, 67, 0.3), 0px 1px 3px 1px rgba(60, 64, 67, 0.15);\n",
              "      fill: #174EA6;\n",
              "    }\n",
              "\n",
              "    .colab-df-buttons div {\n",
              "      margin-bottom: 4px;\n",
              "    }\n",
              "\n",
              "    [theme=dark] .colab-df-convert {\n",
              "      background-color: #3B4455;\n",
              "      fill: #D2E3FC;\n",
              "    }\n",
              "\n",
              "    [theme=dark] .colab-df-convert:hover {\n",
              "      background-color: #434B5C;\n",
              "      box-shadow: 0px 1px 3px 1px rgba(0, 0, 0, 0.15);\n",
              "      filter: drop-shadow(0px 1px 2px rgba(0, 0, 0, 0.3));\n",
              "      fill: #FFFFFF;\n",
              "    }\n",
              "  </style>\n",
              "\n",
              "    <script>\n",
              "      const buttonEl =\n",
              "        document.querySelector('#df-1da8ead1-b7ff-4141-abf1-f2813cef6827 button.colab-df-convert');\n",
              "      buttonEl.style.display =\n",
              "        google.colab.kernel.accessAllowed ? 'block' : 'none';\n",
              "\n",
              "      async function convertToInteractive(key) {\n",
              "        const element = document.querySelector('#df-1da8ead1-b7ff-4141-abf1-f2813cef6827');\n",
              "        const dataTable =\n",
              "          await google.colab.kernel.invokeFunction('convertToInteractive',\n",
              "                                                    [key], {});\n",
              "        if (!dataTable) return;\n",
              "\n",
              "        const docLinkHtml = 'Like what you see? Visit the ' +\n",
              "          '<a target=\"_blank\" href=https://colab.research.google.com/notebooks/data_table.ipynb>data table notebook</a>'\n",
              "          + ' to learn more about interactive tables.';\n",
              "        element.innerHTML = '';\n",
              "        dataTable['output_type'] = 'display_data';\n",
              "        await google.colab.output.renderOutput(dataTable, element);\n",
              "        const docLink = document.createElement('div');\n",
              "        docLink.innerHTML = docLinkHtml;\n",
              "        element.appendChild(docLink);\n",
              "      }\n",
              "    </script>\n",
              "  </div>\n",
              "\n",
              "\n",
              "    <div id=\"df-c0748f0e-52f0-4a9b-a859-dc1faed0674a\">\n",
              "      <button class=\"colab-df-quickchart\" onclick=\"quickchart('df-c0748f0e-52f0-4a9b-a859-dc1faed0674a')\"\n",
              "                title=\"Suggest charts\"\n",
              "                style=\"display:none;\">\n",
              "\n",
              "<svg xmlns=\"http://www.w3.org/2000/svg\" height=\"24px\"viewBox=\"0 0 24 24\"\n",
              "     width=\"24px\">\n",
              "    <g>\n",
              "        <path d=\"M19 3H5c-1.1 0-2 .9-2 2v14c0 1.1.9 2 2 2h14c1.1 0 2-.9 2-2V5c0-1.1-.9-2-2-2zM9 17H7v-7h2v7zm4 0h-2V7h2v10zm4 0h-2v-4h2v4z\"/>\n",
              "    </g>\n",
              "</svg>\n",
              "      </button>\n",
              "\n",
              "<style>\n",
              "  .colab-df-quickchart {\n",
              "      --bg-color: #E8F0FE;\n",
              "      --fill-color: #1967D2;\n",
              "      --hover-bg-color: #E2EBFA;\n",
              "      --hover-fill-color: #174EA6;\n",
              "      --disabled-fill-color: #AAA;\n",
              "      --disabled-bg-color: #DDD;\n",
              "  }\n",
              "\n",
              "  [theme=dark] .colab-df-quickchart {\n",
              "      --bg-color: #3B4455;\n",
              "      --fill-color: #D2E3FC;\n",
              "      --hover-bg-color: #434B5C;\n",
              "      --hover-fill-color: #FFFFFF;\n",
              "      --disabled-bg-color: #3B4455;\n",
              "      --disabled-fill-color: #666;\n",
              "  }\n",
              "\n",
              "  .colab-df-quickchart {\n",
              "    background-color: var(--bg-color);\n",
              "    border: none;\n",
              "    border-radius: 50%;\n",
              "    cursor: pointer;\n",
              "    display: none;\n",
              "    fill: var(--fill-color);\n",
              "    height: 32px;\n",
              "    padding: 0;\n",
              "    width: 32px;\n",
              "  }\n",
              "\n",
              "  .colab-df-quickchart:hover {\n",
              "    background-color: var(--hover-bg-color);\n",
              "    box-shadow: 0 1px 2px rgba(60, 64, 67, 0.3), 0 1px 3px 1px rgba(60, 64, 67, 0.15);\n",
              "    fill: var(--button-hover-fill-color);\n",
              "  }\n",
              "\n",
              "  .colab-df-quickchart-complete:disabled,\n",
              "  .colab-df-quickchart-complete:disabled:hover {\n",
              "    background-color: var(--disabled-bg-color);\n",
              "    fill: var(--disabled-fill-color);\n",
              "    box-shadow: none;\n",
              "  }\n",
              "\n",
              "  .colab-df-spinner {\n",
              "    border: 2px solid var(--fill-color);\n",
              "    border-color: transparent;\n",
              "    border-bottom-color: var(--fill-color);\n",
              "    animation:\n",
              "      spin 1s steps(1) infinite;\n",
              "  }\n",
              "\n",
              "  @keyframes spin {\n",
              "    0% {\n",
              "      border-color: transparent;\n",
              "      border-bottom-color: var(--fill-color);\n",
              "      border-left-color: var(--fill-color);\n",
              "    }\n",
              "    20% {\n",
              "      border-color: transparent;\n",
              "      border-left-color: var(--fill-color);\n",
              "      border-top-color: var(--fill-color);\n",
              "    }\n",
              "    30% {\n",
              "      border-color: transparent;\n",
              "      border-left-color: var(--fill-color);\n",
              "      border-top-color: var(--fill-color);\n",
              "      border-right-color: var(--fill-color);\n",
              "    }\n",
              "    40% {\n",
              "      border-color: transparent;\n",
              "      border-right-color: var(--fill-color);\n",
              "      border-top-color: var(--fill-color);\n",
              "    }\n",
              "    60% {\n",
              "      border-color: transparent;\n",
              "      border-right-color: var(--fill-color);\n",
              "    }\n",
              "    80% {\n",
              "      border-color: transparent;\n",
              "      border-right-color: var(--fill-color);\n",
              "      border-bottom-color: var(--fill-color);\n",
              "    }\n",
              "    90% {\n",
              "      border-color: transparent;\n",
              "      border-bottom-color: var(--fill-color);\n",
              "    }\n",
              "  }\n",
              "</style>\n",
              "\n",
              "      <script>\n",
              "        async function quickchart(key) {\n",
              "          const quickchartButtonEl =\n",
              "            document.querySelector('#' + key + ' button');\n",
              "          quickchartButtonEl.disabled = true;  // To prevent multiple clicks.\n",
              "          quickchartButtonEl.classList.add('colab-df-spinner');\n",
              "          try {\n",
              "            const charts = await google.colab.kernel.invokeFunction(\n",
              "                'suggestCharts', [key], {});\n",
              "          } catch (error) {\n",
              "            console.error('Error during call to suggestCharts:', error);\n",
              "          }\n",
              "          quickchartButtonEl.classList.remove('colab-df-spinner');\n",
              "          quickchartButtonEl.classList.add('colab-df-quickchart-complete');\n",
              "        }\n",
              "        (() => {\n",
              "          let quickchartButtonEl =\n",
              "            document.querySelector('#df-c0748f0e-52f0-4a9b-a859-dc1faed0674a button');\n",
              "          quickchartButtonEl.style.display =\n",
              "            google.colab.kernel.accessAllowed ? 'block' : 'none';\n",
              "        })();\n",
              "      </script>\n",
              "    </div>\n",
              "    </div>\n",
              "  </div>\n"
            ],
            "application/vnd.google.colaboratory.intrinsic+json": {
              "type": "dataframe",
              "summary": "{\n  \"name\": \"events_data\",\n  \"rows\": 8,\n  \"fields\": [\n    {\n      \"column\": \"Order ID\",\n      \"properties\": {\n        \"dtype\": \"number\",\n        \"std\": 335746836.33709085,\n        \"min\": 1330.0,\n        \"max\": 999879729.0,\n        \"num_unique_values\": 8,\n        \"samples\": [\n          541204760.2428571,\n          754462754.0,\n          1330.0\n        ],\n        \"semantic_type\": \"\",\n        \"description\": \"\"\n      }\n    },\n    {\n      \"column\": \"Order Date\",\n      \"properties\": {\n        \"dtype\": \"date\",\n        \"min\": \"1970-01-01 00:00:00.000001330\",\n        \"max\": \"2017-07-23 00:00:00\",\n        \"num_unique_values\": 7,\n        \"samples\": [\n          \"1330\",\n          \"2013-10-12 06:09:12.180451072\",\n          \"2015-08-28 18:00:00\"\n        ],\n        \"semantic_type\": \"\",\n        \"description\": \"\"\n      }\n    },\n    {\n      \"column\": \"Ship Date\",\n      \"properties\": {\n        \"dtype\": \"date\",\n        \"min\": \"1970-01-01 00:00:00.000001330\",\n        \"max\": \"2017-08-31 00:00:00\",\n        \"num_unique_values\": 7,\n        \"samples\": [\n          \"1330\",\n          \"2013-11-06 00:46:33.383458816\",\n          \"2015-10-03 18:00:00\"\n        ],\n        \"semantic_type\": \"\",\n        \"description\": \"\"\n      }\n    },\n    {\n      \"column\": \"Product ID\",\n      \"properties\": {\n        \"dtype\": \"number\",\n        \"std\": 3071.201259325377,\n        \"min\": 1270.0,\n        \"max\": 8969.0,\n        \"num_unique_values\": 8,\n        \"samples\": [\n          5788.096240601504,\n          8681.0,\n          1330.0\n        ],\n        \"semantic_type\": \"\",\n        \"description\": \"\"\n      }\n    },\n    {\n      \"column\": \"Units Sold\",\n      \"properties\": {\n        \"dtype\": \"number\",\n        \"std\": 3301.5698682587745,\n        \"min\": 2.0,\n        \"max\": 9999.0,\n        \"num_unique_values\": 8,\n        \"samples\": [\n          4952.216541353383,\n          7458.75,\n          1330.0\n        ],\n        \"semantic_type\": \"\",\n        \"description\": \"\"\n      }\n    },\n    {\n      \"column\": \"Unit Price\",\n      \"properties\": {\n        \"dtype\": \"number\",\n        \"std\": 431.62641204302764,\n        \"min\": 9.33,\n        \"max\": 1330.0,\n        \"num_unique_values\": 8,\n        \"samples\": [\n          264.89354135338345,\n          437.2,\n          1330.0\n        ],\n        \"semantic_type\": \"\",\n        \"description\": \"\"\n      }\n    },\n    {\n      \"column\": \"Unit Cost\",\n      \"properties\": {\n        \"dtype\": \"number\",\n        \"std\": 436.128066124073,\n        \"min\": 6.92,\n        \"max\": 1330.0,\n        \"num_unique_values\": 8,\n        \"samples\": [\n          187.2468120300752,\n          263.33,\n          1330.0\n        ],\n        \"semantic_type\": \"\",\n        \"description\": \"\"\n      }\n    }\n  ]\n}"
            }
          },
          "metadata": {},
          "execution_count": 26
        }
      ]
    },
    {
      "cell_type": "code",
      "source": [
        "products_data.describe()"
      ],
      "metadata": {
        "colab": {
          "base_uri": "https://localhost:8080/",
          "height": 300
        },
        "id": "T9Js9s5gwVOK",
        "outputId": "b0069cf3-0d71-4285-9769-f9b6a9dfea1b"
      },
      "execution_count": null,
      "outputs": [
        {
          "output_type": "execute_result",
          "data": {
            "text/plain": [
              "                id\n",
              "count    12.000000\n",
              "mean   5802.166667\n",
              "std    2937.985452\n",
              "min    1270.000000\n",
              "25%    2959.000000\n",
              "50%    6659.500000\n",
              "75%    8390.000000\n",
              "max    8969.000000"
            ],
            "text/html": [
              "\n",
              "  <div id=\"df-8db39500-06b5-478d-a3f5-a69be4cd4747\" class=\"colab-df-container\">\n",
              "    <div>\n",
              "<style scoped>\n",
              "    .dataframe tbody tr th:only-of-type {\n",
              "        vertical-align: middle;\n",
              "    }\n",
              "\n",
              "    .dataframe tbody tr th {\n",
              "        vertical-align: top;\n",
              "    }\n",
              "\n",
              "    .dataframe thead th {\n",
              "        text-align: right;\n",
              "    }\n",
              "</style>\n",
              "<table border=\"1\" class=\"dataframe\">\n",
              "  <thead>\n",
              "    <tr style=\"text-align: right;\">\n",
              "      <th></th>\n",
              "      <th>id</th>\n",
              "    </tr>\n",
              "  </thead>\n",
              "  <tbody>\n",
              "    <tr>\n",
              "      <th>count</th>\n",
              "      <td>12.000000</td>\n",
              "    </tr>\n",
              "    <tr>\n",
              "      <th>mean</th>\n",
              "      <td>5802.166667</td>\n",
              "    </tr>\n",
              "    <tr>\n",
              "      <th>std</th>\n",
              "      <td>2937.985452</td>\n",
              "    </tr>\n",
              "    <tr>\n",
              "      <th>min</th>\n",
              "      <td>1270.000000</td>\n",
              "    </tr>\n",
              "    <tr>\n",
              "      <th>25%</th>\n",
              "      <td>2959.000000</td>\n",
              "    </tr>\n",
              "    <tr>\n",
              "      <th>50%</th>\n",
              "      <td>6659.500000</td>\n",
              "    </tr>\n",
              "    <tr>\n",
              "      <th>75%</th>\n",
              "      <td>8390.000000</td>\n",
              "    </tr>\n",
              "    <tr>\n",
              "      <th>max</th>\n",
              "      <td>8969.000000</td>\n",
              "    </tr>\n",
              "  </tbody>\n",
              "</table>\n",
              "</div>\n",
              "    <div class=\"colab-df-buttons\">\n",
              "\n",
              "  <div class=\"colab-df-container\">\n",
              "    <button class=\"colab-df-convert\" onclick=\"convertToInteractive('df-8db39500-06b5-478d-a3f5-a69be4cd4747')\"\n",
              "            title=\"Convert this dataframe to an interactive table.\"\n",
              "            style=\"display:none;\">\n",
              "\n",
              "  <svg xmlns=\"http://www.w3.org/2000/svg\" height=\"24px\" viewBox=\"0 -960 960 960\">\n",
              "    <path d=\"M120-120v-720h720v720H120Zm60-500h600v-160H180v160Zm220 220h160v-160H400v160Zm0 220h160v-160H400v160ZM180-400h160v-160H180v160Zm440 0h160v-160H620v160ZM180-180h160v-160H180v160Zm440 0h160v-160H620v160Z\"/>\n",
              "  </svg>\n",
              "    </button>\n",
              "\n",
              "  <style>\n",
              "    .colab-df-container {\n",
              "      display:flex;\n",
              "      gap: 12px;\n",
              "    }\n",
              "\n",
              "    .colab-df-convert {\n",
              "      background-color: #E8F0FE;\n",
              "      border: none;\n",
              "      border-radius: 50%;\n",
              "      cursor: pointer;\n",
              "      display: none;\n",
              "      fill: #1967D2;\n",
              "      height: 32px;\n",
              "      padding: 0 0 0 0;\n",
              "      width: 32px;\n",
              "    }\n",
              "\n",
              "    .colab-df-convert:hover {\n",
              "      background-color: #E2EBFA;\n",
              "      box-shadow: 0px 1px 2px rgba(60, 64, 67, 0.3), 0px 1px 3px 1px rgba(60, 64, 67, 0.15);\n",
              "      fill: #174EA6;\n",
              "    }\n",
              "\n",
              "    .colab-df-buttons div {\n",
              "      margin-bottom: 4px;\n",
              "    }\n",
              "\n",
              "    [theme=dark] .colab-df-convert {\n",
              "      background-color: #3B4455;\n",
              "      fill: #D2E3FC;\n",
              "    }\n",
              "\n",
              "    [theme=dark] .colab-df-convert:hover {\n",
              "      background-color: #434B5C;\n",
              "      box-shadow: 0px 1px 3px 1px rgba(0, 0, 0, 0.15);\n",
              "      filter: drop-shadow(0px 1px 2px rgba(0, 0, 0, 0.3));\n",
              "      fill: #FFFFFF;\n",
              "    }\n",
              "  </style>\n",
              "\n",
              "    <script>\n",
              "      const buttonEl =\n",
              "        document.querySelector('#df-8db39500-06b5-478d-a3f5-a69be4cd4747 button.colab-df-convert');\n",
              "      buttonEl.style.display =\n",
              "        google.colab.kernel.accessAllowed ? 'block' : 'none';\n",
              "\n",
              "      async function convertToInteractive(key) {\n",
              "        const element = document.querySelector('#df-8db39500-06b5-478d-a3f5-a69be4cd4747');\n",
              "        const dataTable =\n",
              "          await google.colab.kernel.invokeFunction('convertToInteractive',\n",
              "                                                    [key], {});\n",
              "        if (!dataTable) return;\n",
              "\n",
              "        const docLinkHtml = 'Like what you see? Visit the ' +\n",
              "          '<a target=\"_blank\" href=https://colab.research.google.com/notebooks/data_table.ipynb>data table notebook</a>'\n",
              "          + ' to learn more about interactive tables.';\n",
              "        element.innerHTML = '';\n",
              "        dataTable['output_type'] = 'display_data';\n",
              "        await google.colab.output.renderOutput(dataTable, element);\n",
              "        const docLink = document.createElement('div');\n",
              "        docLink.innerHTML = docLinkHtml;\n",
              "        element.appendChild(docLink);\n",
              "      }\n",
              "    </script>\n",
              "  </div>\n",
              "\n",
              "\n",
              "    <div id=\"df-4c103195-877f-4cfa-ad0b-b8ed6f53cb0d\">\n",
              "      <button class=\"colab-df-quickchart\" onclick=\"quickchart('df-4c103195-877f-4cfa-ad0b-b8ed6f53cb0d')\"\n",
              "                title=\"Suggest charts\"\n",
              "                style=\"display:none;\">\n",
              "\n",
              "<svg xmlns=\"http://www.w3.org/2000/svg\" height=\"24px\"viewBox=\"0 0 24 24\"\n",
              "     width=\"24px\">\n",
              "    <g>\n",
              "        <path d=\"M19 3H5c-1.1 0-2 .9-2 2v14c0 1.1.9 2 2 2h14c1.1 0 2-.9 2-2V5c0-1.1-.9-2-2-2zM9 17H7v-7h2v7zm4 0h-2V7h2v10zm4 0h-2v-4h2v4z\"/>\n",
              "    </g>\n",
              "</svg>\n",
              "      </button>\n",
              "\n",
              "<style>\n",
              "  .colab-df-quickchart {\n",
              "      --bg-color: #E8F0FE;\n",
              "      --fill-color: #1967D2;\n",
              "      --hover-bg-color: #E2EBFA;\n",
              "      --hover-fill-color: #174EA6;\n",
              "      --disabled-fill-color: #AAA;\n",
              "      --disabled-bg-color: #DDD;\n",
              "  }\n",
              "\n",
              "  [theme=dark] .colab-df-quickchart {\n",
              "      --bg-color: #3B4455;\n",
              "      --fill-color: #D2E3FC;\n",
              "      --hover-bg-color: #434B5C;\n",
              "      --hover-fill-color: #FFFFFF;\n",
              "      --disabled-bg-color: #3B4455;\n",
              "      --disabled-fill-color: #666;\n",
              "  }\n",
              "\n",
              "  .colab-df-quickchart {\n",
              "    background-color: var(--bg-color);\n",
              "    border: none;\n",
              "    border-radius: 50%;\n",
              "    cursor: pointer;\n",
              "    display: none;\n",
              "    fill: var(--fill-color);\n",
              "    height: 32px;\n",
              "    padding: 0;\n",
              "    width: 32px;\n",
              "  }\n",
              "\n",
              "  .colab-df-quickchart:hover {\n",
              "    background-color: var(--hover-bg-color);\n",
              "    box-shadow: 0 1px 2px rgba(60, 64, 67, 0.3), 0 1px 3px 1px rgba(60, 64, 67, 0.15);\n",
              "    fill: var(--button-hover-fill-color);\n",
              "  }\n",
              "\n",
              "  .colab-df-quickchart-complete:disabled,\n",
              "  .colab-df-quickchart-complete:disabled:hover {\n",
              "    background-color: var(--disabled-bg-color);\n",
              "    fill: var(--disabled-fill-color);\n",
              "    box-shadow: none;\n",
              "  }\n",
              "\n",
              "  .colab-df-spinner {\n",
              "    border: 2px solid var(--fill-color);\n",
              "    border-color: transparent;\n",
              "    border-bottom-color: var(--fill-color);\n",
              "    animation:\n",
              "      spin 1s steps(1) infinite;\n",
              "  }\n",
              "\n",
              "  @keyframes spin {\n",
              "    0% {\n",
              "      border-color: transparent;\n",
              "      border-bottom-color: var(--fill-color);\n",
              "      border-left-color: var(--fill-color);\n",
              "    }\n",
              "    20% {\n",
              "      border-color: transparent;\n",
              "      border-left-color: var(--fill-color);\n",
              "      border-top-color: var(--fill-color);\n",
              "    }\n",
              "    30% {\n",
              "      border-color: transparent;\n",
              "      border-left-color: var(--fill-color);\n",
              "      border-top-color: var(--fill-color);\n",
              "      border-right-color: var(--fill-color);\n",
              "    }\n",
              "    40% {\n",
              "      border-color: transparent;\n",
              "      border-right-color: var(--fill-color);\n",
              "      border-top-color: var(--fill-color);\n",
              "    }\n",
              "    60% {\n",
              "      border-color: transparent;\n",
              "      border-right-color: var(--fill-color);\n",
              "    }\n",
              "    80% {\n",
              "      border-color: transparent;\n",
              "      border-right-color: var(--fill-color);\n",
              "      border-bottom-color: var(--fill-color);\n",
              "    }\n",
              "    90% {\n",
              "      border-color: transparent;\n",
              "      border-bottom-color: var(--fill-color);\n",
              "    }\n",
              "  }\n",
              "</style>\n",
              "\n",
              "      <script>\n",
              "        async function quickchart(key) {\n",
              "          const quickchartButtonEl =\n",
              "            document.querySelector('#' + key + ' button');\n",
              "          quickchartButtonEl.disabled = true;  // To prevent multiple clicks.\n",
              "          quickchartButtonEl.classList.add('colab-df-spinner');\n",
              "          try {\n",
              "            const charts = await google.colab.kernel.invokeFunction(\n",
              "                'suggestCharts', [key], {});\n",
              "          } catch (error) {\n",
              "            console.error('Error during call to suggestCharts:', error);\n",
              "          }\n",
              "          quickchartButtonEl.classList.remove('colab-df-spinner');\n",
              "          quickchartButtonEl.classList.add('colab-df-quickchart-complete');\n",
              "        }\n",
              "        (() => {\n",
              "          let quickchartButtonEl =\n",
              "            document.querySelector('#df-4c103195-877f-4cfa-ad0b-b8ed6f53cb0d button');\n",
              "          quickchartButtonEl.style.display =\n",
              "            google.colab.kernel.accessAllowed ? 'block' : 'none';\n",
              "        })();\n",
              "      </script>\n",
              "    </div>\n",
              "    </div>\n",
              "  </div>\n"
            ],
            "application/vnd.google.colaboratory.intrinsic+json": {
              "type": "dataframe",
              "summary": "{\n  \"name\": \"products_data\",\n  \"rows\": 8,\n  \"fields\": [\n    {\n      \"column\": \"id\",\n      \"properties\": {\n        \"dtype\": \"number\",\n        \"std\": 3310.7582360223387,\n        \"min\": 12.0,\n        \"max\": 8969.0,\n        \"num_unique_values\": 8,\n        \"samples\": [\n          5802.166666666667,\n          6659.5,\n          12.0\n        ],\n        \"semantic_type\": \"\",\n        \"description\": \"\"\n      }\n    }\n  ]\n}"
            }
          },
          "metadata": {},
          "execution_count": 27
        }
      ]
    },
    {
      "cell_type": "markdown",
      "source": [
        "Викидів чи аномалій в даних не видно."
      ],
      "metadata": {
        "id": "T0J8RC3Uysgd"
      }
    },
    {
      "cell_type": "markdown",
      "source": [
        "# 3. Data analysis and visualization"
      ],
      "metadata": {
        "id": "HD5EU3bC0rCx"
      }
    },
    {
      "cell_type": "code",
      "source": [
        "inner_join = pd.merge(countries_data, events_data,  left_on=\"alpha-3\",\n",
        "    right_on=\"Country Code\",\n",
        "    how=\"inner\"\n",
        ")\n",
        "\n",
        "inner_join = inner_join.rename(columns={\"name\": \"country name\"})\n",
        "\n",
        "final_merged_data = pd.merge(\n",
        "    inner_join,\n",
        "    products_data,\n",
        "    left_on=\"Product ID\",\n",
        "    right_on=\"id\",\n",
        "    how=\"inner\")\n",
        "\n",
        "final_merged_data = final_merged_data.drop(columns=[\"id\"])\n"
      ],
      "metadata": {
        "id": "kKDotj8evslI"
      },
      "execution_count": null,
      "outputs": []
    },
    {
      "cell_type": "markdown",
      "source": [
        "Для подальшого аналізу датасету проводимо об'єднання трьох таблиць.\n",
        "Видаляємо непотрібні для аналізу колонки та перейменовуємо деякі колонки."
      ],
      "metadata": {
        "id": "JzAkuSKuyICn"
      }
    },
    {
      "cell_type": "markdown",
      "source": [
        "Проведемо аналіз ключових метрик діяльності компанії: загальна кількість замовлень, загальний прибуток, загальна кількість охоплених країн тощо."
      ],
      "metadata": {
        "id": "NIs0oZ4T33Qs"
      }
    },
    {
      "cell_type": "code",
      "source": [
        "final_merged_data[\"Profit\"] = (final_merged_data[\"Unit Price\"] - final_merged_data[\"Unit Cost\"]) * final_merged_data[\"Units Sold\"] # Додаємо нову колонку, де буде відображено розрахунок прибутку\n",
        "\n",
        "total_orders = final_merged_data[\"Order ID\"].nunique() # 1. Загальна кількість замовлень\n",
        "\n",
        "total_profit = final_merged_data[\"Profit\"].sum() # 2. Загальний прибуток\n",
        "\n",
        "total_countries = final_merged_data[\"country name\"].nunique() # 3. Кількість унікальних країн\n",
        "\n",
        "total_units_sold = final_merged_data[\"Units Sold\"].sum() # 4. Загальна кількість проданих одиниць товару\n",
        "\n",
        "unique_products = final_merged_data[\"Product ID\"].nunique() # 5. Кількість унікальних продуктів\n",
        "\n",
        "avg_profit_per_order = total_profit / total_orders # 6. Середній прибуток з одного замовлення\n",
        "\n",
        "avg_profit_per_unit = final_merged_data[\"Profit\"].sum() / final_merged_data[\"Units Sold\"].sum() # 7. Середній прибуток на одиницю товару\n",
        "\n",
        "orders_by_channel = final_merged_data[\"Sales Channel\"].value_counts() # 8. Кількість замовлень за каналом\n",
        "\n",
        "unique_regions = final_merged_data[\"region\"].nunique()\n",
        "unique_subregions = final_merged_data[\"sub-region\"].nunique() # 9. Кількість унікальних регіонів та субрегіонів\n",
        "\n",
        "print(\"ЗАГАЛЬНІ БІЗНЕС-МЕТРИКИ:\")\n",
        "print(f\"Кількість унікальних замовлень: {total_orders}\")\n",
        "print(f\"Загальний прибуток: {total_profit:,.2f}\")\n",
        "print(f\"Кількість охоплених країн: {total_countries}\")\n",
        "print(f\"Загальна кількість проданих одиниць: {total_units_sold:,.0f}\")\n",
        "print(f\"Кількість унікальних продуктів: {unique_products}\")\n",
        "print(f\"Середній прибуток із замовлення: {avg_profit_per_order:,.2f}\")\n",
        "print(f\"Середній прибуток на одиницю товару: {avg_profit_per_unit:,.2f}\")\n",
        "print(f\"Замовлення за каналами продажу:\\n{orders_by_channel}\")\n",
        "print(f\"Регіони: {unique_regions} | Субрегіони: {unique_subregions}\")\n"
      ],
      "metadata": {
        "colab": {
          "base_uri": "https://localhost:8080/"
        },
        "id": "XK45bYYL34XO",
        "outputId": "d7af996a-b2f0-4712-a41d-3a09567ccc41"
      },
      "execution_count": null,
      "outputs": [
        {
          "output_type": "stream",
          "name": "stdout",
          "text": [
            "ЗАГАЛЬНІ БІЗНЕС-МЕТРИКИ:\n",
            "Кількість унікальних замовлень: 1248\n",
            "Загальний прибуток: 474,117,209.18\n",
            "Кількість охоплених країн: 45\n",
            "Загальна кількість проданих одиниць: 6,181,595\n",
            "Кількість унікальних продуктів: 12\n",
            "Середній прибуток із замовлення: 379,901.61\n",
            "Середній прибуток на одиницю товару: 76.70\n",
            "Замовлення за каналами продажу:\n",
            "Sales Channel\n",
            "online     625\n",
            "offline    623\n",
            "Name: count, dtype: int64\n",
            "Регіони: 2 | Субрегіони: 5\n"
          ]
        }
      ]
    },
    {
      "cell_type": "markdown",
      "source": [
        "Тепер проаналізуємо продажі (доходи, витрати, прибутки, популярність товарів) та зробимо відповідні візуалізації в розрізі:\n",
        "- категорій товарів;\n",
        "- географії (країн, регіонів);\n",
        "- каналів продажу (онлайн або офлайн)."
      ],
      "metadata": {
        "id": "lmdMTApQ7d18"
      }
    },
    {
      "cell_type": "markdown",
      "source": [
        "**Аналіз продажів в розрізі категорій товарів.**"
      ],
      "metadata": {
        "id": "IVOJd3KU9pzA"
      }
    },
    {
      "cell_type": "code",
      "source": [
        "final_merged_data[\"Revenue\"] = final_merged_data[\"Unit Price\"] * final_merged_data[\"Units Sold\"] # Дохід = Unit Price * Units Sold\n",
        "final_merged_data[\"Cost\"] = final_merged_data[\"Unit Cost\"] * final_merged_data[\"Units Sold\"] # Витрати = Unit Cost * Units Sold\n",
        "\n",
        "# Аналіз за категорією товару\n",
        "category_stats = final_merged_data.groupby(\"item_type\").agg({\n",
        "    \"Units Sold\": \"sum\",\n",
        "    \"Revenue\": \"sum\",\n",
        "    \"Cost\": \"sum\",\n",
        "    \"Profit\": \"sum\",\n",
        "    \"Order ID\": \"nunique\"\n",
        "}).rename(columns={\n",
        "    \"Units Sold\": \"Total Units Sold\",\n",
        "    \"Revenue\": \"Total Revenue\",\n",
        "    \"Cost\": \"Total Cost\",\n",
        "    \"Profit\": \"Total Profit\",\n",
        "    \"Order ID\": \"Number of Orders\"\n",
        "}).sort_values(by=\"Total Units Sold\", ascending=False)\n",
        "\n",
        "# Округлимо значення для кращого вигляду\n",
        "category_stats = category_stats.round(2)\n"
      ],
      "metadata": {
        "id": "RimgfkfT8b1z"
      },
      "execution_count": null,
      "outputs": []
    },
    {
      "cell_type": "code",
      "source": [
        "plt.style.use('ggplot')\n",
        "\n",
        "# Шрифт та стиль\n",
        "plt.rcParams.update({\n",
        "    'font.size': 12,\n",
        "    'figure.figsize': (12, 6),\n",
        "    'axes.titlesize': 16,\n",
        "    'axes.labelsize': 14,\n",
        "    'xtick.labelsize': 10,\n",
        "    'ytick.labelsize': 10\n",
        "})"
      ],
      "metadata": {
        "id": "lZ6QfVD3_T91"
      },
      "execution_count": null,
      "outputs": []
    },
    {
      "cell_type": "code",
      "source": [
        "top_units = category_stats.sort_values(\"Total Units Sold\", ascending=False).head(10)\n",
        "\n",
        "plt.figure(figsize=(10, 6))\n",
        "bars = plt.barh(top_units.index[::-1], top_units[\"Total Units Sold\"][::-1], color='#6baed6')  # М’який блакитний\n",
        "\n",
        "plt.title(\"Топ-10 категорій за кількістю проданих одиниць\", fontsize=14)\n",
        "plt.xlabel(\"Кількість одиниць\", fontsize=12)\n",
        "\n",
        "# Значення всередині кожного бару\n",
        "for bar in bars:\n",
        "    width = bar.get_width()\n",
        "    plt.text(width - width * 0.01, bar.get_y() + bar.get_height() / 2,\n",
        "             f'{int(width):,}', va='center', ha='right', color='white', fontsize=9)\n",
        "\n",
        "plt.tight_layout()\n",
        "plt.show()\n"
      ],
      "metadata": {
        "colab": {
          "base_uri": "https://localhost:8080/",
          "height": 601
        },
        "id": "4iR7l-qj_fxg",
        "outputId": "a2df16ae-b15a-4881-e2be-73d30aaf11f4"
      },
      "execution_count": null,
      "outputs": [
        {
          "output_type": "display_data",
          "data": {
            "text/plain": [
              "<Figure size 1000x600 with 1 Axes>"
            ],
            "image/png": "[encoded data removed]"
          },
          "metadata": {}
        }
      ]
    },
    {
      "cell_type": "code",
      "source": [
        "top_profit = category_stats.sort_values(\"Total Profit\", ascending=False).head(10)\n",
        "\n",
        "plt.figure(figsize=(10, 6))\n",
        "bars = plt.barh(top_profit.index[::-1], top_profit[\"Total Profit\"][::-1], color='#74c476')  # М’який зелений\n",
        "\n",
        "plt.title(\"Топ-10 категорій за прибутком\", fontsize=14)\n",
        "plt.xlabel(\"Прибуток, $\", fontsize=12)\n",
        "plt.gca().xaxis.set_major_formatter(ticker.StrMethodFormatter('{x:,.0f}'))\n",
        "\n",
        "# Підписи всередині барів\n",
        "for bar in bars:\n",
        "    width = bar.get_width()\n",
        "    plt.text(width - width * 0.01, bar.get_y() + bar.get_height() / 2,\n",
        "             f'{int(width):,}', va='center', ha='right', color='white', fontsize=9)\n",
        "\n",
        "plt.tight_layout()\n",
        "plt.show()"
      ],
      "metadata": {
        "colab": {
          "base_uri": "https://localhost:8080/",
          "height": 601
        },
        "id": "qNoVosM9_uN4",
        "outputId": "e4a67f7f-ce93-41c0-8fce-7886e6b18ead"
      },
      "execution_count": null,
      "outputs": [
        {
          "output_type": "display_data",
          "data": {
            "text/plain": [
              "<Figure size 1000x600 with 1 Axes>"
            ],
            "image/png": "[encoded data removed]"
          },
          "metadata": {}
        }
      ]
    },
    {
      "cell_type": "code",
      "source": [
        "top_revenue_cost = category_stats.sort_values(\"Total Revenue\", ascending=False).head(10)\n",
        "\n",
        "plt.figure(figsize=(14, 7))\n",
        "\n",
        "categories = top_revenue_cost.index\n",
        "x = range(len(categories))\n",
        "\n",
        "costs = top_revenue_cost[\"Total Cost\"]\n",
        "profits = top_revenue_cost[\"Total Profit\"]\n",
        "\n",
        "# М’які кольори: синій (витрати) і зелений (прибуток)\n",
        "bar_costs = plt.bar(x, costs, label=\"Витрати\", color='#6baed6')\n",
        "bar_profits = plt.bar(x, profits, bottom=costs, label=\"Прибуток\", color='#74c476')\n",
        "\n",
        "# Підписи всередині барів\n",
        "for i in x:\n",
        "    cost_val = costs.iloc[i]\n",
        "    profit_val = profits.iloc[i]\n",
        "\n",
        "    # Витрати\n",
        "    plt.text(i, cost_val / 2, f'${int(cost_val):,}', ha='center', va='center', color='white', fontsize=9)\n",
        "\n",
        "    # Прибуток\n",
        "    plt.text(i, cost_val + profit_val / 2, f'${int(profit_val):,}', ha='center', va='center', color='white', fontsize=9)\n",
        "\n",
        "plt.xticks(x, categories, rotation=45, ha='right')\n",
        "plt.title(\"Фінансовий аналіз по категоріях товарів (структура доходу)\", fontsize=14)\n",
        "plt.ylabel(\"Сума, $\", fontsize=12)\n",
        "plt.legend()\n",
        "plt.tight_layout()\n",
        "plt.show()"
      ],
      "metadata": {
        "colab": {
          "base_uri": "https://localhost:8080/",
          "height": 701
        },
        "id": "18KlWXhy_1oe",
        "outputId": "352ba0c2-9415-439c-c44a-998e9763ea49"
      },
      "execution_count": null,
      "outputs": [
        {
          "output_type": "display_data",
          "data": {
            "text/plain": [
              "<Figure size 1400x700 with 1 Axes>"
            ],
            "image/png": "[encoded data removed]"
          },
          "metadata": {}
        }
      ]
    },
    {
      "cell_type": "code",
      "source": [
        "plt.style.use('ggplot')\n",
        "\n",
        "top_revenue_share = category_stats.sort_values(\"Total Revenue\", ascending=False).head(10)\n",
        "\n",
        "labels = top_revenue_share.index\n",
        "sizes = top_revenue_share[\"Total Revenue\"]\n",
        "\n",
        "# М'яка палітра кольорів (пастельні відтінки)\n",
        "colors = ['#66c2a5', '#fc8d62', '#8da0cb', '#e78ac3', '#a6d854',\n",
        "          '#ffd92f', '#e5c494', '#b3b3b3', '#80b1d3', '#fdb462']\n",
        "\n",
        "plt.figure(figsize=(8, 8))\n",
        "plt.pie(sizes, labels=labels, colors=colors, autopct='%1.1f%%', startangle=140)\n",
        "plt.title(\"Частка доходу по категоріях товарів (топ-10)\", fontsize=14)\n",
        "plt.axis('equal')\n",
        "\n",
        "plt.tight_layout()\n",
        "plt.show()"
      ],
      "metadata": {
        "colab": {
          "base_uri": "https://localhost:8080/",
          "height": 803
        },
        "id": "1HWDYPW5vYxd",
        "outputId": "a9cc239e-49db-4804-923c-e406540342f7"
      },
      "execution_count": null,
      "outputs": [
        {
          "output_type": "display_data",
          "data": {
            "text/plain": [
              "<Figure size 800x800 with 1 Axes>"
            ],
            "image/png": "[encoded data removed]"
          },
          "metadata": {}
        }
      ]
    },
    {
      "cell_type": "code",
      "source": [
        "orders_by_category = category_stats.sort_values(\"Number of Orders\", ascending=False)\n",
        "\n",
        "plt.figure(figsize=(10, 6))\n",
        "bars = plt.barh(orders_by_category.index[::-1], orders_by_category[\"Number of Orders\"][::-1], color='#6baed6')  # м’який блакитний\n",
        "\n",
        "plt.title(\"Кількість замовлень по категоріях товарів\", fontsize=14)\n",
        "plt.xlabel(\"Замовлення\", fontsize=12)\n",
        "\n",
        "# Додаємо підписи всередину кожного бару\n",
        "for bar in bars:\n",
        "    width = bar.get_width()\n",
        "    plt.text(width - width * 0.01, bar.get_y() + bar.get_height() / 2,\n",
        "             f'{int(width):,}', ha='right', va='center', color='white', fontsize=9)\n",
        "\n",
        "plt.tight_layout()\n",
        "plt.show()"
      ],
      "metadata": {
        "colab": {
          "base_uri": "https://localhost:8080/",
          "height": 607
        },
        "id": "2BgndBM1AI2G",
        "outputId": "6f37260c-f8ce-4427-ad65-5d5435cc3aa1"
      },
      "execution_count": null,
      "outputs": [
        {
          "output_type": "display_data",
          "data": {
            "text/plain": [
              "<Figure size 1000x600 with 1 Axes>"
            ],
            "image/png": "[encoded data removed]"
          },
          "metadata": {}
        }
      ]
    },
    {
      "cell_type": "markdown",
      "source": [
        "**ТОП -5 категорій за прибутком:**\n",
        "\n",
        "- Cosmetics -\t88.0M\t- Висока рентабельність, хороша маржа;\n",
        "- Office Supplies\t- 73.4M\t- Високий обсяг, стабільний попит;\n",
        "- Household\t- 69.1M\t- Високий прибуток попри найменшу кількість замовлень;\n",
        "- Baby Food\t- 50.2M\t- Менше замовлень, але висока маржа\n",
        "- Clothes\t- 42.5M\t- Популярність + прибуток"
      ],
      "metadata": {
        "id": "hMT4c-8JsBDv"
      }
    },
    {
      "cell_type": "markdown",
      "source": [
        "\n",
        "**1. Найменш ефективні категорії:**\n",
        "- Fruits — низький прибуток (1.2M) при досить великому обсязі продажів → низька маржа\n",
        "- Beverages — популярні, але прибуток низький → велика конкуренція або висока собівартість\n",
        "- Snacks — прибуток помірний, але нижчий за інші споживчі товари.\n",
        "\n",
        "**2. Категорії з найменшою кількістю замовлень:**\n",
        "- Household — лише 91 замовлення, але понад $69M прибутку → великі обсяги на замовлення.\n",
        "\n",
        "Можливо, це B2B або гуртові продажі."
      ],
      "metadata": {
        "id": "8SAsOcFTsacX"
      }
    },
    {
      "cell_type": "markdown",
      "source": [
        "**Аналіз продажів в розрізі географії (країн, регіонів).**"
      ],
      "metadata": {
        "id": "H6QWvrPDAS8U"
      }
    },
    {
      "cell_type": "code",
      "source": [
        "country_stats = final_merged_data.groupby(\"country name\").agg({\n",
        "    \"Units Sold\": \"sum\",\n",
        "    \"Revenue\": \"sum\",\n",
        "    \"Cost\": \"sum\",\n",
        "    \"Profit\": \"sum\",\n",
        "    \"Order ID\": \"nunique\"\n",
        "}).rename(columns={\n",
        "    \"Units Sold\": \"Total Units Sold\",\n",
        "    \"Revenue\": \"Total Revenue\",\n",
        "    \"Cost\": \"Total Cost\",\n",
        "    \"Profit\": \"Total Profit\",\n",
        "    \"Order ID\": \"Number of Orders\"\n",
        "}).sort_values(by=\"Total Profit\", ascending=False).round(2)"
      ],
      "metadata": {
        "id": "bAzkdiYxCSVl"
      },
      "execution_count": null,
      "outputs": []
    },
    {
      "cell_type": "code",
      "source": [
        "region_stats = final_merged_data.groupby(\"region\").agg({\n",
        "    \"Units Sold\": \"sum\",\n",
        "    \"Revenue\": \"sum\",\n",
        "    \"Cost\": \"sum\",\n",
        "    \"Profit\": \"sum\",\n",
        "    \"Order ID\": \"nunique\"\n",
        "}).rename(columns={\n",
        "    \"Units Sold\": \"Total Units Sold\",\n",
        "    \"Revenue\": \"Total Revenue\",\n",
        "    \"Cost\": \"Total Cost\",\n",
        "    \"Profit\": \"Total Profit\",\n",
        "    \"Order ID\": \"Number of Orders\"\n",
        "}).sort_values(by=\"Total Profit\", ascending=False).round(2)"
      ],
      "metadata": {
        "id": "0WF706JgCZzx"
      },
      "execution_count": null,
      "outputs": []
    },
    {
      "cell_type": "code",
      "source": [
        "plt.style.use('ggplot')\n",
        "plt.rcParams.update({\n",
        "    'font.size': 12,\n",
        "    'figure.figsize': (12, 6),\n",
        "    'axes.titlesize': 16,\n",
        "    'axes.labelsize': 14,\n",
        "    'xtick.labelsize': 10,\n",
        "    'ytick.labelsize': 10\n",
        "})"
      ],
      "metadata": {
        "id": "xGrSYvswD4Fp"
      },
      "execution_count": null,
      "outputs": []
    },
    {
      "cell_type": "code",
      "source": [
        "# 1. Агрегування по країнах\n",
        "country_stats = final_merged_data.groupby([\"country name\", \"alpha-3\"]).agg({\n",
        "    \"Units Sold\": \"sum\",\n",
        "    \"Revenue\": \"sum\",\n",
        "    \"Cost\": \"sum\",\n",
        "    \"Profit\": \"sum\",\n",
        "    \"Order ID\": \"nunique\"\n",
        "}).rename(columns={\n",
        "    \"Units Sold\": \"Total Units Sold\",\n",
        "    \"Revenue\": \"Total Revenue\",\n",
        "    \"Cost\": \"Total Cost\",\n",
        "    \"Profit\": \"Total Profit\",\n",
        "    \"Order ID\": \"Number of Orders\"\n",
        "}).reset_index().round(2)\n",
        "\n",
        "# 2. Верхній регістр alpha-3\n",
        "country_stats[\"alpha-3\"] = country_stats[\"alpha-3\"].str.upper()\n",
        "\n",
        "# 3. Власна м’яка кольорова палітра\n",
        "custom_colors = [\n",
        "    \"#f7fcf5\",  # світлий відтінок\n",
        "    \"#c7e9c0\",\n",
        "    \"#74c476\",\n",
        "    \"#238b45\",\n",
        "    \"#084081\"   # темно-синьо-фіолетовий, менш насичений\n",
        "]\n",
        "\n",
        "# 4. Побудова карти\n",
        "choropleth = px.choropleth(\n",
        "    country_stats,\n",
        "    locations=\"alpha-3\",\n",
        "    color=\"Total Profit\",\n",
        "    hover_name=\"country name\",\n",
        "    color_continuous_scale=custom_colors,\n",
        "    title=\"📍 Прибутковість по країнах\"\n",
        ")\n",
        "\n",
        "# 5. Підказки з форматуванням\n",
        "choropleth.update_traces(\n",
        "    hovertemplate=\"<b>%{hovertext}</b><br>Прибуток: $%{z:,.0f}<extra></extra>\"\n",
        ")\n",
        "\n",
        "# 6. Підписи країн\n",
        "scatter_labels = go.Scattergeo(\n",
        "    locationmode='ISO-3',\n",
        "    locations=country_stats[\"alpha-3\"],\n",
        "    text=country_stats[\"country name\"],\n",
        "    mode='text',\n",
        "    textfont=dict(size=10, color='#333333', family=\"Arial\"),\n",
        "    hoverinfo='skip',\n",
        "    showlegend=False\n",
        ")\n",
        "\n",
        "choropleth.add_trace(scatter_labels)\n",
        "\n",
        "# 7. Геооформлення\n",
        "choropleth.update_geos(\n",
        "    projection_type=\"natural earth\",\n",
        "    showland=True,\n",
        "    landcolor=\"whitesmoke\",\n",
        "    showocean=True,\n",
        "    oceancolor=\"aliceblue\",\n",
        "    showlakes=True,\n",
        "    lakecolor=\"aliceblue\",\n",
        "    showcountries=True,\n",
        "    countrycolor=\"gray\",\n",
        "    lonaxis=dict(range=[10, 70]),\n",
        "    lataxis=dict(range=[35, 70])\n",
        ")\n",
        "\n",
        "# 8. Стиль\n",
        "choropleth.update_layout(\n",
        "    title_font=dict(size=20, family=\"Arial\", color=\"black\"),\n",
        "    font=dict(family=\"Arial\", size=12),\n",
        "    margin=dict(l=20, r=20, t=50, b=20),\n",
        "    coloraxis_colorbar=dict(\n",
        "        title=\"Прибуток ($)\",\n",
        "        ticksuffix=\" $\",\n",
        "        titlefont=dict(size=14),\n",
        "        tickfont=dict(size=12)\n",
        "    )\n",
        ")\n",
        "\n",
        "# 9. Відображення\n",
        "choropleth.show()"
      ],
      "metadata": {
        "colab": {
          "base_uri": "https://localhost:8080/",
          "height": 542
        },
        "id": "9L_id3RLG2Eb",
        "outputId": "bfe13b12-ae7c-48e1-b2a5-c8f62d90a760"
      },
      "execution_count": null,
      "outputs": [
        {
          "output_type": "display_data",
          "data": {
            "text/html": [
              "<html>\n",
              "<head><meta charset=\"utf-8\" /></head>\n",
              "<body>\n",
              "    <div>            <script src=\"https://cdnjs.cloudflare.com/ajax/libs/mathjax/2.7.5/MathJax.js?config=TeX-AMS-MML_SVG\"></script><script type=\"text/javascript\">if (window.MathJax && window.MathJax.Hub && window.MathJax.Hub.Config) {window.MathJax.Hub.Config({SVG: {font: \"STIX-Web\"}});}</script>                <script type=\"text/javascript\">window.PlotlyConfig = {MathJaxConfig: 'local'};</script>\n",
              "        <script charset=\"utf-8\" src=\"https://cdn.plot.ly/plotly-2.35.2.min.js\"></script>                <div id=\"c1b0bcaf-8ff3-4d27-8bb3-bc099e405ae3\" class=\"plotly-graph-div\" style=\"height:525px; width:100%;\"></div>            <script type=\"text/javascript\">                                    window.PLOTLYENV=window.PLOTLYENV || {};                                    if (document.getElementById(\"c1b0bcaf-8ff3-4d27-8bb3-bc099e405ae3\")) {                    Plotly.newPlot(                        \"c1b0bcaf-8ff3-4d27-8bb3-bc099e405ae3\",                        [{\"coloraxis\":\"coloraxis\",\"geo\":\"geo\",\"hovertemplate\":\"\\u003cb\\u003e%{hovertext}\\u003c\\u002fb\\u003e\\u003cbr\\u003eПрибуток: $%{z:,.0f}\\u003cextra\\u003e\\u003c\\u002fextra\\u003e\",\"hovertext\":[\"albania\",\"andorra\",\"armenia\",\"austria\",\"belarus\",\"belgium\",\"bosnia and herzegovina\",\"bulgaria\",\"croatia\",\"cyprus\",\"czech republic\",\"denmark\",\"estonia\",\"finland\",\"france\",\"georgia\",\"germany\",\"greece\",\"hungary\",\"iceland\",\"ireland\",\"italy\",\"latvia\",\"liechtenstein\",\"lithuania\",\"luxembourg\",\"macedonia\",\"malta\",\"monaco\",\"montenegro\",\"netherlands\",\"norway\",\"poland\",\"portugal\",\"romania\",\"russia\",\"san marino\",\"serbia\",\"slovakia\",\"slovenia\",\"spain\",\"sweden\",\"switzerland\",\"ukraine\",\"united kingdom\"],\"locations\":[\"ALB\",\"AND\",\"ARM\",\"AUT\",\"BLR\",\"BEL\",\"BIH\",\"BGR\",\"HRV\",\"CYP\",\"CZE\",\"DNK\",\"EST\",\"FIN\",\"FRA\",\"GEO\",\"DEU\",\"GRC\",\"HUN\",\"ISL\",\"IRL\",\"ITA\",\"LVA\",\"LIE\",\"LTU\",\"LUX\",\"MKD\",\"MLT\",\"MCO\",\"MNE\",\"NLD\",\"NOR\",\"POL\",\"PRT\",\"ROU\",\"RUS\",\"SMR\",\"SRB\",\"SVK\",\"SVN\",\"ESP\",\"SWE\",\"CHE\",\"UKR\",\"GBR\"],\"name\":\"\",\"z\":[10490706.02,15410036.63,9422353.18,10027509.64,11852421.05,7476060.14,13257602.77,10408342.61,7442577.17,10032220.56,13635593.78,9617418.06,7828593.56,7525362.83,10842345.66,5697679.21,11582919.1,12324450.13,13786231.03,7278112.15,9830365.71,10913921.97,10759285.29,8397411.11,7997297.83,9870766.11,13684099.95,14610127.88,4797048.77,11169660.56,5762490.7,9875771.81,10671100.99,11345407.59,10793548.69,13267682.64,13792992.81,11853514.38,12052790.03,12123524.52,8286000.42,11155328.59,11037297.6,14804925.74,9326312.21],\"type\":\"choropleth\"},{\"hoverinfo\":\"skip\",\"locationmode\":\"ISO-3\",\"locations\":[\"ALB\",\"AND\",\"ARM\",\"AUT\",\"BLR\",\"BEL\",\"BIH\",\"BGR\",\"HRV\",\"CYP\",\"CZE\",\"DNK\",\"EST\",\"FIN\",\"FRA\",\"GEO\",\"DEU\",\"GRC\",\"HUN\",\"ISL\",\"IRL\",\"ITA\",\"LVA\",\"LIE\",\"LTU\",\"LUX\",\"MKD\",\"MLT\",\"MCO\",\"MNE\",\"NLD\",\"NOR\",\"POL\",\"PRT\",\"ROU\",\"RUS\",\"SMR\",\"SRB\",\"SVK\",\"SVN\",\"ESP\",\"SWE\",\"CHE\",\"UKR\",\"GBR\"],\"mode\":\"text\",\"showlegend\":false,\"text\":[\"albania\",\"andorra\",\"armenia\",\"austria\",\"belarus\",\"belgium\",\"bosnia and herzegovina\",\"bulgaria\",\"croatia\",\"cyprus\",\"czech republic\",\"denmark\",\"estonia\",\"finland\",\"france\",\"georgia\",\"germany\",\"greece\",\"hungary\",\"iceland\",\"ireland\",\"italy\",\"latvia\",\"liechtenstein\",\"lithuania\",\"luxembourg\",\"macedonia\",\"malta\",\"monaco\",\"montenegro\",\"netherlands\",\"norway\",\"poland\",\"portugal\",\"romania\",\"russia\",\"san marino\",\"serbia\",\"slovakia\",\"slovenia\",\"spain\",\"sweden\",\"switzerland\",\"ukraine\",\"united kingdom\"],\"textfont\":{\"color\":\"#333333\",\"family\":\"Arial\",\"size\":10},\"type\":\"scattergeo\"}],                        {\"template\":{\"data\":{\"histogram2dcontour\":[{\"type\":\"histogram2dcontour\",\"colorbar\":{\"outlinewidth\":0,\"ticks\":\"\"},\"colorscale\":[[0.0,\"#0d0887\"],[0.1111111111111111,\"#46039f\"],[0.2222222222222222,\"#7201a8\"],[0.3333333333333333,\"#9c179e\"],[0.4444444444444444,\"#bd3786\"],[0.5555555555555556,\"#d8576b\"],[0.6666666666666666,\"#ed7953\"],[0.7777777777777778,\"#fb9f3a\"],[0.8888888888888888,\"#fdca26\"],[1.0,\"#f0f921\"]]}],\"choropleth\":[{\"type\":\"choropleth\",\"colorbar\":{\"outlinewidth\":0,\"ticks\":\"\"}}],\"histogram2d\":[{\"type\":\"histogram2d\",\"colorbar\":{\"outlinewidth\":0,\"ticks\":\"\"},\"colorscale\":[[0.0,\"#0d0887\"],[0.1111111111111111,\"#46039f\"],[0.2222222222222222,\"#7201a8\"],[0.3333333333333333,\"#9c179e\"],[0.4444444444444444,\"#bd3786\"],[0.5555555555555556,\"#d8576b\"],[0.6666666666666666,\"#ed7953\"],[0.7777777777777778,\"#fb9f3a\"],[0.8888888888888888,\"#fdca26\"],[1.0,\"#f0f921\"]]}],\"heatmap\":[{\"type\":\"heatmap\",\"colorbar\":{\"outlinewidth\":0,\"ticks\":\"\"},\"colorscale\":[[0.0,\"#0d0887\"],[0.1111111111111111,\"#46039f\"],[0.2222222222222222,\"#7201a8\"],[0.3333333333333333,\"#9c179e\"],[0.4444444444444444,\"#bd3786\"],[0.5555555555555556,\"#d8576b\"],[0.6666666666666666,\"#ed7953\"],[0.7777777777777778,\"#fb9f3a\"],[0.8888888888888888,\"#fdca26\"],[1.0,\"#f0f921\"]]}],\"heatmapgl\":[{\"type\":\"heatmapgl\",\"colorbar\":{\"outlinewidth\":0,\"ticks\":\"\"},\"colorscale\":[[0.0,\"#0d0887\"],[0.1111111111111111,\"#46039f\"],[0.2222222222222222,\"#7201a8\"],[0.3333333333333333,\"#9c179e\"],[0.4444444444444444,\"#bd3786\"],[0.5555555555555556,\"#d8576b\"],[0.6666666666666666,\"#ed7953\"],[0.7777777777777778,\"#fb9f3a\"],[0.8888888888888888,\"#fdca26\"],[1.0,\"#f0f921\"]]}],\"contourcarpet\":[{\"type\":\"contourcarpet\",\"colorbar\":{\"outlinewidth\":0,\"ticks\":\"\"}}],\"contour\":[{\"type\":\"contour\",\"colorbar\":{\"outlinewidth\":0,\"ticks\":\"\"},\"colorscale\":[[0.0,\"#0d0887\"],[0.1111111111111111,\"#46039f\"],[0.2222222222222222,\"#7201a8\"],[0.3333333333333333,\"#9c179e\"],[0.4444444444444444,\"#bd3786\"],[0.5555555555555556,\"#d8576b\"],[0.6666666666666666,\"#ed7953\"],[0.7777777777777778,\"#fb9f3a\"],[0.8888888888888888,\"#fdca26\"],[1.0,\"#f0f921\"]]}],\"surface\":[{\"type\":\"surface\",\"colorbar\":{\"outlinewidth\":0,\"ticks\":\"\"},\"colorscale\":[[0.0,\"#0d0887\"],[0.1111111111111111,\"#46039f\"],[0.2222222222222222,\"#7201a8\"],[0.3333333333333333,\"#9c179e\"],[0.4444444444444444,\"#bd3786\"],[0.5555555555555556,\"#d8576b\"],[0.6666666666666666,\"#ed7953\"],[0.7777777777777778,\"#fb9f3a\"],[0.8888888888888888,\"#fdca26\"],[1.0,\"#f0f921\"]]}],\"mesh3d\":[{\"type\":\"mesh3d\",\"colorbar\":{\"outlinewidth\":0,\"ticks\":\"\"}}],\"scatter\":[{\"fillpattern\":{\"fillmode\":\"overlay\",\"size\":10,\"solidity\":0.2},\"type\":\"scatter\"}],\"parcoords\":[{\"type\":\"parcoords\",\"line\":{\"colorbar\":{\"outlinewidth\":0,\"ticks\":\"\"}}}],\"scatterpolargl\":[{\"type\":\"scatterpolargl\",\"marker\":{\"colorbar\":{\"outlinewidth\":0,\"ticks\":\"\"}}}],\"bar\":[{\"error_x\":{\"color\":\"#2a3f5f\"},\"error_y\":{\"color\":\"#2a3f5f\"},\"marker\":{\"line\":{\"color\":\"#E5ECF6\",\"width\":0.5},\"pattern\":{\"fillmode\":\"overlay\",\"size\":10,\"solidity\":0.2}},\"type\":\"bar\"}],\"scattergeo\":[{\"type\":\"scattergeo\",\"marker\":{\"colorbar\":{\"outlinewidth\":0,\"ticks\":\"\"}}}],\"scatterpolar\":[{\"type\":\"scatterpolar\",\"marker\":{\"colorbar\":{\"outlinewidth\":0,\"ticks\":\"\"}}}],\"histogram\":[{\"marker\":{\"pattern\":{\"fillmode\":\"overlay\",\"size\":10,\"solidity\":0.2}},\"type\":\"histogram\"}],\"scattergl\":[{\"type\":\"scattergl\",\"marker\":{\"colorbar\":{\"outlinewidth\":0,\"ticks\":\"\"}}}],\"scatter3d\":[{\"type\":\"scatter3d\",\"line\":{\"colorbar\":{\"outlinewidth\":0,\"ticks\":\"\"}},\"marker\":{\"colorbar\":{\"outlinewidth\":0,\"ticks\":\"\"}}}],\"scattermapbox\":[{\"type\":\"scattermapbox\",\"marker\":{\"colorbar\":{\"outlinewidth\":0,\"ticks\":\"\"}}}],\"scatterternary\":[{\"type\":\"scatterternary\",\"marker\":{\"colorbar\":{\"outlinewidth\":0,\"ticks\":\"\"}}}],\"scattercarpet\":[{\"type\":\"scattercarpet\",\"marker\":{\"colorbar\":{\"outlinewidth\":0,\"ticks\":\"\"}}}],\"carpet\":[{\"aaxis\":{\"endlinecolor\":\"#2a3f5f\",\"gridcolor\":\"white\",\"linecolor\":\"white\",\"minorgridcolor\":\"white\",\"startlinecolor\":\"#2a3f5f\"},\"baxis\":{\"endlinecolor\":\"#2a3f5f\",\"gridcolor\":\"white\",\"linecolor\":\"white\",\"minorgridcolor\":\"white\",\"startlinecolor\":\"#2a3f5f\"},\"type\":\"carpet\"}],\"table\":[{\"cells\":{\"fill\":{\"color\":\"#EBF0F8\"},\"line\":{\"color\":\"white\"}},\"header\":{\"fill\":{\"color\":\"#C8D4E3\"},\"line\":{\"color\":\"white\"}},\"type\":\"table\"}],\"barpolar\":[{\"marker\":{\"line\":{\"color\":\"#E5ECF6\",\"width\":0.5},\"pattern\":{\"fillmode\":\"overlay\",\"size\":10,\"solidity\":0.2}},\"type\":\"barpolar\"}],\"pie\":[{\"automargin\":true,\"type\":\"pie\"}]},\"layout\":{\"autotypenumbers\":\"strict\",\"colorway\":[\"#636efa\",\"#EF553B\",\"#00cc96\",\"#ab63fa\",\"#FFA15A\",\"#19d3f3\",\"#FF6692\",\"#B6E880\",\"#FF97FF\",\"#FECB52\"],\"font\":{\"color\":\"#2a3f5f\"},\"hovermode\":\"closest\",\"hoverlabel\":{\"align\":\"left\"},\"paper_bgcolor\":\"white\",\"plot_bgcolor\":\"#E5ECF6\",\"polar\":{\"bgcolor\":\"#E5ECF6\",\"angularaxis\":{\"gridcolor\":\"white\",\"linecolor\":\"white\",\"ticks\":\"\"},\"radialaxis\":{\"gridcolor\":\"white\",\"linecolor\":\"white\",\"ticks\":\"\"}},\"ternary\":{\"bgcolor\":\"#E5ECF6\",\"aaxis\":{\"gridcolor\":\"white\",\"linecolor\":\"white\",\"ticks\":\"\"},\"baxis\":{\"gridcolor\":\"white\",\"linecolor\":\"white\",\"ticks\":\"\"},\"caxis\":{\"gridcolor\":\"white\",\"linecolor\":\"white\",\"ticks\":\"\"}},\"coloraxis\":{\"colorbar\":{\"outlinewidth\":0,\"ticks\":\"\"}},\"colorscale\":{\"sequential\":[[0.0,\"#0d0887\"],[0.1111111111111111,\"#46039f\"],[0.2222222222222222,\"#7201a8\"],[0.3333333333333333,\"#9c179e\"],[0.4444444444444444,\"#bd3786\"],[0.5555555555555556,\"#d8576b\"],[0.6666666666666666,\"#ed7953\"],[0.7777777777777778,\"#fb9f3a\"],[0.8888888888888888,\"#fdca26\"],[1.0,\"#f0f921\"]],\"sequentialminus\":[[0.0,\"#0d0887\"],[0.1111111111111111,\"#46039f\"],[0.2222222222222222,\"#7201a8\"],[0.3333333333333333,\"#9c179e\"],[0.4444444444444444,\"#bd3786\"],[0.5555555555555556,\"#d8576b\"],[0.6666666666666666,\"#ed7953\"],[0.7777777777777778,\"#fb9f3a\"],[0.8888888888888888,\"#fdca26\"],[1.0,\"#f0f921\"]],\"diverging\":[[0,\"#8e0152\"],[0.1,\"#c51b7d\"],[0.2,\"#de77ae\"],[0.3,\"#f1b6da\"],[0.4,\"#fde0ef\"],[0.5,\"#f7f7f7\"],[0.6,\"#e6f5d0\"],[0.7,\"#b8e186\"],[0.8,\"#7fbc41\"],[0.9,\"#4d9221\"],[1,\"#276419\"]]},\"xaxis\":{\"gridcolor\":\"white\",\"linecolor\":\"white\",\"ticks\":\"\",\"title\":{\"standoff\":15},\"zerolinecolor\":\"white\",\"automargin\":true,\"zerolinewidth\":2},\"yaxis\":{\"gridcolor\":\"white\",\"linecolor\":\"white\",\"ticks\":\"\",\"title\":{\"standoff\":15},\"zerolinecolor\":\"white\",\"automargin\":true,\"zerolinewidth\":2},\"scene\":{\"xaxis\":{\"backgroundcolor\":\"#E5ECF6\",\"gridcolor\":\"white\",\"linecolor\":\"white\",\"showbackground\":true,\"ticks\":\"\",\"zerolinecolor\":\"white\",\"gridwidth\":2},\"yaxis\":{\"backgroundcolor\":\"#E5ECF6\",\"gridcolor\":\"white\",\"linecolor\":\"white\",\"showbackground\":true,\"ticks\":\"\",\"zerolinecolor\":\"white\",\"gridwidth\":2},\"zaxis\":{\"backgroundcolor\":\"#E5ECF6\",\"gridcolor\":\"white\",\"linecolor\":\"white\",\"showbackground\":true,\"ticks\":\"\",\"zerolinecolor\":\"white\",\"gridwidth\":2}},\"shapedefaults\":{\"line\":{\"color\":\"#2a3f5f\"}},\"annotationdefaults\":{\"arrowcolor\":\"#2a3f5f\",\"arrowhead\":0,\"arrowwidth\":1},\"geo\":{\"bgcolor\":\"white\",\"landcolor\":\"#E5ECF6\",\"subunitcolor\":\"white\",\"showland\":true,\"showlakes\":true,\"lakecolor\":\"white\"},\"title\":{\"x\":0.05},\"mapbox\":{\"style\":\"light\"}}},\"geo\":{\"domain\":{\"x\":[0.0,1.0],\"y\":[0.0,1.0]},\"center\":{},\"projection\":{\"type\":\"natural earth\"},\"lonaxis\":{\"range\":[10,70]},\"lataxis\":{\"range\":[35,70]},\"showland\":true,\"landcolor\":\"whitesmoke\",\"showocean\":true,\"oceancolor\":\"aliceblue\",\"showlakes\":true,\"lakecolor\":\"aliceblue\",\"showcountries\":true,\"countrycolor\":\"gray\"},\"coloraxis\":{\"colorbar\":{\"title\":{\"text\":\"Прибуток ($)\",\"font\":{\"size\":14}},\"tickfont\":{\"size\":12},\"ticksuffix\":\" $\"},\"colorscale\":[[0.0,\"#f7fcf5\"],[0.25,\"#c7e9c0\"],[0.5,\"#74c476\"],[0.75,\"#238b45\"],[1.0,\"#084081\"]]},\"legend\":{\"tracegroupgap\":0},\"title\":{\"text\":\"📍 Прибутковість по країнах\",\"font\":{\"size\":20,\"family\":\"Arial\",\"color\":\"black\"}},\"font\":{\"family\":\"Arial\",\"size\":12},\"margin\":{\"l\":20,\"r\":20,\"t\":50,\"b\":20}},                        {\"responsive\": true}                    ).then(function(){\n",
              "                            \n",
              "var gd = document.getElementById('c1b0bcaf-8ff3-4d27-8bb3-bc099e405ae3');\n",
              "var x = new MutationObserver(function (mutations, observer) {{\n",
              "        var display = window.getComputedStyle(gd).display;\n",
              "        if (!display || display === 'none') {{\n",
              "            console.log([gd, 'removed!']);\n",
              "            Plotly.purge(gd);\n",
              "            observer.disconnect();\n",
              "        }}\n",
              "}});\n",
              "\n",
              "// Listen for the removal of the full notebook cells\n",
              "var notebookContainer = gd.closest('#notebook-container');\n",
              "if (notebookContainer) {{\n",
              "    x.observe(notebookContainer, {childList: true});\n",
              "}}\n",
              "\n",
              "// Listen for the clearing of the current output cell\n",
              "var outputEl = gd.closest('.output');\n",
              "if (outputEl) {{\n",
              "    x.observe(outputEl, {childList: true});\n",
              "}}\n",
              "\n",
              "                        })                };                            </script>        </div>\n",
              "</body>\n",
              "</html>"
            ]
          },
          "metadata": {}
        }
      ]
    },
    {
      "cell_type": "code",
      "source": [
        "# Стиль графіка\n",
        "plt.style.use('ggplot')\n",
        "\n",
        "# Вибір і сортування топ-10 країн з найбільшим прибутком (зверху вниз)\n",
        "top_10_profit = country_stats.head(10).reset_index().sort_values(by=\"Total Profit\", ascending=False)\n",
        "\n",
        "# Побудова графіка\n",
        "fig, ax = plt.subplots(figsize=(12, 7))\n",
        "bars = ax.barh(top_10_profit[\"country name\"], top_10_profit[\"Total Profit\"], color='#6baed6')\n",
        "\n",
        "# Заголовок і підписи\n",
        "ax.set_title(\"Топ-10 країн з найвищим прибутком\", fontsize=16, fontweight='bold', pad=15)\n",
        "ax.set_xlabel(\"Прибуток (USD)\", fontsize=12)\n",
        "ax.set_ylabel(\"Країна\", fontsize=12)\n",
        "\n",
        "# Інверсія осі Y, щоб найбільший був зверху\n",
        "ax.invert_yaxis()\n",
        "\n",
        "# Додавання підписів\n",
        "for bar in bars:\n",
        "    width = bar.get_width()\n",
        "    ax.text(width * 0.5, bar.get_y() + bar.get_height() / 2,\n",
        "            f\"${width:,.0f}\", ha='center', va='center',\n",
        "            fontsize=10, color='white', fontweight='bold')\n",
        "\n",
        "# Показ графіка\n",
        "plt.tight_layout()\n",
        "plt.show()"
      ],
      "metadata": {
        "colab": {
          "base_uri": "https://localhost:8080/",
          "height": 707
        },
        "id": "McFzVWTMDPP1",
        "outputId": "6ce15c83-3cd4-40e7-a323-0b67ccad8b4d"
      },
      "execution_count": null,
      "outputs": [
        {
          "output_type": "display_data",
          "data": {
            "text/plain": [
              "<Figure size 1200x700 with 1 Axes>"
            ],
            "image/png": "[encoded data removed]"
          },
          "metadata": {}
        }
      ]
    },
    {
      "cell_type": "code",
      "source": [
        "# Стиль графіка\n",
        "plt.style.use('ggplot')\n",
        "\n",
        "# Вибір топ-10 країн з найнижчим прибутком\n",
        "bottom_10_profit = country_stats.sort_values(by=\"Total Profit\", ascending=True).head(10).reset_index()\n",
        "\n",
        "# Побудова графіка\n",
        "fig, ax = plt.subplots(figsize=(12, 7))\n",
        "bars = ax.barh(bottom_10_profit[\"country name\"], bottom_10_profit[\"Total Profit\"], color='#74c476')  # м’який зелений\n",
        "\n",
        "# Заголовок і підписи\n",
        "ax.set_title(\"Топ-10 країн з найнижчим прибутком\", fontsize=16, fontweight='bold', pad=15)\n",
        "ax.set_xlabel(\"Прибуток (USD)\", fontsize=12)\n",
        "ax.set_ylabel(\"Країна\", fontsize=12)\n",
        "\n",
        "# Інверсія осі Y, щоб найменший був вгорі\n",
        "ax.invert_yaxis()\n",
        "\n",
        "# Додавання підписів\n",
        "for bar in bars:\n",
        "    width = bar.get_width()\n",
        "    ax.text(width * 0.5, bar.get_y() + bar.get_height() / 2,\n",
        "            f\"${width:,.0f}\", ha='center', va='center',\n",
        "            fontsize=10, color='white', fontweight='bold')\n",
        "\n",
        "# Показ графіка\n",
        "plt.tight_layout()\n",
        "plt.show()"
      ],
      "metadata": {
        "colab": {
          "base_uri": "https://localhost:8080/",
          "height": 707
        },
        "id": "j8VYzQv7EZW7",
        "outputId": "33589c5f-d315-4d68-fe86-0963916a02bd"
      },
      "execution_count": null,
      "outputs": [
        {
          "output_type": "display_data",
          "data": {
            "text/plain": [
              "<Figure size 1200x700 with 1 Axes>"
            ],
            "image/png": "[encoded data removed]"
          },
          "metadata": {}
        }
      ]
    },
    {
      "cell_type": "code",
      "source": [
        "# Стиль графіка\n",
        "plt.style.use('ggplot')\n",
        "\n",
        "# Дані\n",
        "labels = region_stats.index\n",
        "profits = region_stats[\"Total Profit\"]\n",
        "\n",
        "# Кольори (чередування м’якого зеленого та блакитного)\n",
        "colors = ['#74c476', '#6baed6'] * (len(profits) // 2 + 1)\n",
        "\n",
        "# Побудова pie chart\n",
        "fig, ax = plt.subplots(figsize=(8, 8))\n",
        "wedges, texts, autotexts = ax.pie(\n",
        "    profits,\n",
        "    labels=labels,\n",
        "    autopct=lambda pct: f'{pct:.1f}%\\n(${int(pct/100 * profits.sum() / 1_000_000)}M)',\n",
        "    startangle=140,\n",
        "    colors=colors[:len(profits)],\n",
        "    wedgeprops=dict(edgecolor='white')\n",
        ")\n",
        "\n",
        "# Заголовок\n",
        "ax.set_title(\"Розподіл прибутку по регіонах\", fontsize=16, fontweight='bold', pad=20)\n",
        "\n",
        "# Покращення вигляду підписів\n",
        "for autotext in autotexts:\n",
        "    autotext.set_color('black')\n",
        "    autotext.set_fontsize(10)\n",
        "    autotext.set_fontweight('bold')\n",
        "\n",
        "# Показ\n",
        "plt.tight_layout()\n",
        "plt.show()"
      ],
      "metadata": {
        "colab": {
          "base_uri": "https://localhost:8080/",
          "height": 806
        },
        "id": "gkHSvuQqF5vY",
        "outputId": "144ef4f6-e6e9-45b0-cb1d-3dab554c0786"
      },
      "execution_count": null,
      "outputs": [
        {
          "output_type": "display_data",
          "data": {
            "text/plain": [
              "<Figure size 800x800 with 1 Axes>"
            ],
            "image/png": "[encoded data removed]"
          },
          "metadata": {}
        }
      ]
    },
    {
      "cell_type": "markdown",
      "source": [
        "**ТОП-10 країн за чистим прибутком:**\n",
        "- Andorra - Висока маржа, стабільна кількість замовлень;\n",
        "- Ukraine - Високі обсяги продажів і дуже вигідні маржі;\n",
        "- Malta - Хороший баланс між обсягами і ефективністю;\n",
        "- San Marino - Часті замовлення, стабільний прибуток;\n",
        "- Hungary - Висока прибутковість при меншій кількості угод;\n",
        "- Macedonia - Активний ринок із відносно високим ROI;\n",
        "- Czech Republic - Потужна країна з високим доходом;\n",
        "- Russia - Великий ринок з високим обігом;\n",
        "- Bosnia & Herzegovina - Схожа на Україну за поведінкою;\n",
        "-Greece - Ефективна країна, хоча й нижче за доходом.\n",
        "\n"
      ],
      "metadata": {
        "id": "w1_GJXQ9uNi0"
      }
    },
    {
      "cell_type": "markdown",
      "source": [
        "**Країни з низьким прибутком:**\n",
        "- Monaco - Мала кількість замовлень (13), вузький ринок;\n",
        "- Netherlands - Середній обсяг замовлень, але низький чек;\n",
        "- Georgia - Мала база замовлень + менший середній дохід."
      ],
      "metadata": {
        "id": "p7UmSyKCvX8o"
      }
    },
    {
      "cell_type": "markdown",
      "source": [
        "1. Критична залежність від одного регіону (Europe)\n",
        "\n",
        "Europe генерує понад 94% прибутку, отже:\n",
        "- бізнес фактично концентрований у одному регіоні.\n",
        "- це високий операційний ризик: будь-які економічні, політичні чи логістичні збої в Європі можуть паралізувати весь прибуток компанії.\n",
        "\n",
        "2. Недореалізований потенціал ринку Азії\n",
        "Asia — величезний ринок, але прибуток мізерний ($25M):\n",
        "\n",
        "Це або низький обсяг продажів, або високі витрати, або невдале позиціонування продукту.\n",
        "\n",
        "\n"
      ],
      "metadata": {
        "id": "ro61rDQGGWQ4"
      }
    },
    {
      "cell_type": "markdown",
      "source": [
        "**Аналіз продажів в розрізі каналів продажу (онлайн або офлайн).**"
      ],
      "metadata": {
        "id": "SbeFSPGSXS0b"
      }
    },
    {
      "cell_type": "code",
      "source": [
        "channel_stats = final_merged_data.groupby(\"Sales Channel\").agg({\n",
        "    \"Units Sold\": \"sum\",\n",
        "    \"Revenue\": \"sum\",\n",
        "    \"Cost\": \"sum\",\n",
        "    \"Profit\": \"sum\",\n",
        "    \"Order ID\": \"nunique\"\n",
        "}).rename(columns={\n",
        "    \"Units Sold\": \"Total Units Sold\",\n",
        "    \"Revenue\": \"Total Revenue\",\n",
        "    \"Cost\": \"Total Cost\",\n",
        "    \"Profit\": \"Total Profit\",\n",
        "    \"Order ID\": \"Number of Orders\"\n",
        "}).sort_values(by=\"Total Profit\", ascending=False).round(2)\n"
      ],
      "metadata": {
        "id": "QnU6mJ9WXfvT"
      },
      "execution_count": null,
      "outputs": []
    },
    {
      "cell_type": "code",
      "source": [
        "# Дані\n",
        "channels = channel_stats.index.tolist()\n",
        "\n",
        "fig = go.Figure()\n",
        "\n",
        "# Витрати (нижній шар)\n",
        "fig.add_trace(go.Bar(\n",
        "    x=channels,\n",
        "    y=channel_stats[\"Total Cost\"],\n",
        "    name=\"Витрати\",\n",
        "    marker_color='#6baed6',  # м’який блакитний\n",
        "    hovertemplate='Канал: %{x}<br>Витрати: %{y:,.0f} $'\n",
        "))\n",
        "\n",
        "# Прибуток (верхній шар)\n",
        "fig.add_trace(go.Bar(\n",
        "    x=channels,\n",
        "    y=channel_stats[\"Total Profit\"],\n",
        "    name=\"Прибуток\",\n",
        "    marker_color='#74c476',  # м’який зелений\n",
        "    hovertemplate='Канал: %{x}<br>Прибуток: %{y:,.0f} $'\n",
        "))\n",
        "\n",
        "# Оформлення графіка\n",
        "fig.update_layout(\n",
        "    title=\"Фінансовий аналіз каналів продажу (структура доходу)\",\n",
        "    xaxis_title=\"Канал продажу\",\n",
        "    yaxis_title=\"Сума, $\",\n",
        "    barmode='stack',\n",
        "    template='ggplot2',\n",
        "    legend=dict(title=\"Метрика\"),\n",
        "    font=dict(family=\"Arial\", size=14)\n",
        ")\n",
        "\n",
        "fig.show()"
      ],
      "metadata": {
        "colab": {
          "base_uri": "https://localhost:8080/",
          "height": 542
        },
        "id": "bMym1k3NZzla",
        "outputId": "780b1845-0c90-4965-c7a4-f1becf455678"
      },
      "execution_count": null,
      "outputs": [
        {
          "output_type": "display_data",
          "data": {
            "text/html": [
              "<html>\n",
              "<head><meta charset=\"utf-8\" /></head>\n",
              "<body>\n",
              "    <div>            <script src=\"https://cdnjs.cloudflare.com/ajax/libs/mathjax/2.7.5/MathJax.js?config=TeX-AMS-MML_SVG\"></script><script type=\"text/javascript\">if (window.MathJax && window.MathJax.Hub && window.MathJax.Hub.Config) {window.MathJax.Hub.Config({SVG: {font: \"STIX-Web\"}});}</script>                <script type=\"text/javascript\">window.PlotlyConfig = {MathJaxConfig: 'local'};</script>\n",
              "        <script charset=\"utf-8\" src=\"https://cdn.plot.ly/plotly-2.35.2.min.js\"></script>                <div id=\"490388fb-2d82-46ed-8cb8-5a5a4c7bd569\" class=\"plotly-graph-div\" style=\"height:525px; width:100%;\"></div>            <script type=\"text/javascript\">                                    window.PLOTLYENV=window.PLOTLYENV || {};                                    if (document.getElementById(\"490388fb-2d82-46ed-8cb8-5a5a4c7bd569\")) {                    Plotly.newPlot(                        \"490388fb-2d82-46ed-8cb8-5a5a4c7bd569\",                        [{\"hovertemplate\":\"Канал: %{x}\\u003cbr\\u003eВитрати: %{y:,.0f} $\",\"marker\":{\"color\":\"#6baed6\"},\"name\":\"Витрати\",\"x\":[\"offline\",\"online\"],\"y\":[573609926.15,553755588.37],\"type\":\"bar\"},{\"hovertemplate\":\"Канал: %{x}\\u003cbr\\u003eПрибуток: %{y:,.0f} $\",\"marker\":{\"color\":\"#74c476\"},\"name\":\"Прибуток\",\"x\":[\"offline\",\"online\"],\"y\":[238919501.53,235197707.65],\"type\":\"bar\"}],                        {\"template\":{\"data\":{\"barpolar\":[{\"marker\":{\"line\":{\"color\":\"rgb(237,237,237)\",\"width\":0.5},\"pattern\":{\"fillmode\":\"overlay\",\"size\":10,\"solidity\":0.2}},\"type\":\"barpolar\"}],\"bar\":[{\"error_x\":{\"color\":\"rgb(51,51,51)\"},\"error_y\":{\"color\":\"rgb(51,51,51)\"},\"marker\":{\"line\":{\"color\":\"rgb(237,237,237)\",\"width\":0.5},\"pattern\":{\"fillmode\":\"overlay\",\"size\":10,\"solidity\":0.2}},\"type\":\"bar\"}],\"carpet\":[{\"aaxis\":{\"endlinecolor\":\"rgb(51,51,51)\",\"gridcolor\":\"white\",\"linecolor\":\"white\",\"minorgridcolor\":\"white\",\"startlinecolor\":\"rgb(51,51,51)\"},\"baxis\":{\"endlinecolor\":\"rgb(51,51,51)\",\"gridcolor\":\"white\",\"linecolor\":\"white\",\"minorgridcolor\":\"white\",\"startlinecolor\":\"rgb(51,51,51)\"},\"type\":\"carpet\"}],\"choropleth\":[{\"colorbar\":{\"outlinewidth\":0,\"tickcolor\":\"rgb(237,237,237)\",\"ticklen\":6,\"ticks\":\"inside\"},\"type\":\"choropleth\"}],\"contourcarpet\":[{\"colorbar\":{\"outlinewidth\":0,\"tickcolor\":\"rgb(237,237,237)\",\"ticklen\":6,\"ticks\":\"inside\"},\"type\":\"contourcarpet\"}],\"contour\":[{\"colorbar\":{\"outlinewidth\":0,\"tickcolor\":\"rgb(237,237,237)\",\"ticklen\":6,\"ticks\":\"inside\"},\"colorscale\":[[0,\"rgb(20,44,66)\"],[1,\"rgb(90,179,244)\"]],\"type\":\"contour\"}],\"heatmapgl\":[{\"colorbar\":{\"outlinewidth\":0,\"tickcolor\":\"rgb(237,237,237)\",\"ticklen\":6,\"ticks\":\"inside\"},\"colorscale\":[[0,\"rgb(20,44,66)\"],[1,\"rgb(90,179,244)\"]],\"type\":\"heatmapgl\"}],\"heatmap\":[{\"colorbar\":{\"outlinewidth\":0,\"tickcolor\":\"rgb(237,237,237)\",\"ticklen\":6,\"ticks\":\"inside\"},\"colorscale\":[[0,\"rgb(20,44,66)\"],[1,\"rgb(90,179,244)\"]],\"type\":\"heatmap\"}],\"histogram2dcontour\":[{\"colorbar\":{\"outlinewidth\":0,\"tickcolor\":\"rgb(237,237,237)\",\"ticklen\":6,\"ticks\":\"inside\"},\"colorscale\":[[0,\"rgb(20,44,66)\"],[1,\"rgb(90,179,244)\"]],\"type\":\"histogram2dcontour\"}],\"histogram2d\":[{\"colorbar\":{\"outlinewidth\":0,\"tickcolor\":\"rgb(237,237,237)\",\"ticklen\":6,\"ticks\":\"inside\"},\"colorscale\":[[0,\"rgb(20,44,66)\"],[1,\"rgb(90,179,244)\"]],\"type\":\"histogram2d\"}],\"histogram\":[{\"marker\":{\"pattern\":{\"fillmode\":\"overlay\",\"size\":10,\"solidity\":0.2}},\"type\":\"histogram\"}],\"mesh3d\":[{\"colorbar\":{\"outlinewidth\":0,\"tickcolor\":\"rgb(237,237,237)\",\"ticklen\":6,\"ticks\":\"inside\"},\"type\":\"mesh3d\"}],\"parcoords\":[{\"line\":{\"colorbar\":{\"outlinewidth\":0,\"tickcolor\":\"rgb(237,237,237)\",\"ticklen\":6,\"ticks\":\"inside\"}},\"type\":\"parcoords\"}],\"pie\":[{\"automargin\":true,\"type\":\"pie\"}],\"scatter3d\":[{\"line\":{\"colorbar\":{\"outlinewidth\":0,\"tickcolor\":\"rgb(237,237,237)\",\"ticklen\":6,\"ticks\":\"inside\"}},\"marker\":{\"colorbar\":{\"outlinewidth\":0,\"tickcolor\":\"rgb(237,237,237)\",\"ticklen\":6,\"ticks\":\"inside\"}},\"type\":\"scatter3d\"}],\"scattercarpet\":[{\"marker\":{\"colorbar\":{\"outlinewidth\":0,\"tickcolor\":\"rgb(237,237,237)\",\"ticklen\":6,\"ticks\":\"inside\"}},\"type\":\"scattercarpet\"}],\"scattergeo\":[{\"marker\":{\"colorbar\":{\"outlinewidth\":0,\"tickcolor\":\"rgb(237,237,237)\",\"ticklen\":6,\"ticks\":\"inside\"}},\"type\":\"scattergeo\"}],\"scattergl\":[{\"marker\":{\"colorbar\":{\"outlinewidth\":0,\"tickcolor\":\"rgb(237,237,237)\",\"ticklen\":6,\"ticks\":\"inside\"}},\"type\":\"scattergl\"}],\"scattermapbox\":[{\"marker\":{\"colorbar\":{\"outlinewidth\":0,\"tickcolor\":\"rgb(237,237,237)\",\"ticklen\":6,\"ticks\":\"inside\"}},\"type\":\"scattermapbox\"}],\"scatterpolargl\":[{\"marker\":{\"colorbar\":{\"outlinewidth\":0,\"tickcolor\":\"rgb(237,237,237)\",\"ticklen\":6,\"ticks\":\"inside\"}},\"type\":\"scatterpolargl\"}],\"scatterpolar\":[{\"marker\":{\"colorbar\":{\"outlinewidth\":0,\"tickcolor\":\"rgb(237,237,237)\",\"ticklen\":6,\"ticks\":\"inside\"}},\"type\":\"scatterpolar\"}],\"scatter\":[{\"fillpattern\":{\"fillmode\":\"overlay\",\"size\":10,\"solidity\":0.2},\"type\":\"scatter\"}],\"scatterternary\":[{\"marker\":{\"colorbar\":{\"outlinewidth\":0,\"tickcolor\":\"rgb(237,237,237)\",\"ticklen\":6,\"ticks\":\"inside\"}},\"type\":\"scatterternary\"}],\"surface\":[{\"colorbar\":{\"outlinewidth\":0,\"tickcolor\":\"rgb(237,237,237)\",\"ticklen\":6,\"ticks\":\"inside\"},\"colorscale\":[[0,\"rgb(20,44,66)\"],[1,\"rgb(90,179,244)\"]],\"type\":\"surface\"}],\"table\":[{\"cells\":{\"fill\":{\"color\":\"rgb(237,237,237)\"},\"line\":{\"color\":\"white\"}},\"header\":{\"fill\":{\"color\":\"rgb(217,217,217)\"},\"line\":{\"color\":\"white\"}},\"type\":\"table\"}]},\"layout\":{\"annotationdefaults\":{\"arrowhead\":0,\"arrowwidth\":1},\"autotypenumbers\":\"strict\",\"coloraxis\":{\"colorbar\":{\"outlinewidth\":0,\"tickcolor\":\"rgb(237,237,237)\",\"ticklen\":6,\"ticks\":\"inside\"}},\"colorscale\":{\"sequential\":[[0,\"rgb(20,44,66)\"],[1,\"rgb(90,179,244)\"]],\"sequentialminus\":[[0,\"rgb(20,44,66)\"],[1,\"rgb(90,179,244)\"]]},\"colorway\":[\"#F8766D\",\"#A3A500\",\"#00BF7D\",\"#00B0F6\",\"#E76BF3\"],\"font\":{\"color\":\"rgb(51,51,51)\"},\"geo\":{\"bgcolor\":\"white\",\"lakecolor\":\"white\",\"landcolor\":\"rgb(237,237,237)\",\"showlakes\":true,\"showland\":true,\"subunitcolor\":\"white\"},\"hoverlabel\":{\"align\":\"left\"},\"hovermode\":\"closest\",\"paper_bgcolor\":\"white\",\"plot_bgcolor\":\"rgb(237,237,237)\",\"polar\":{\"angularaxis\":{\"gridcolor\":\"white\",\"linecolor\":\"white\",\"showgrid\":true,\"tickcolor\":\"rgb(51,51,51)\",\"ticks\":\"outside\"},\"bgcolor\":\"rgb(237,237,237)\",\"radialaxis\":{\"gridcolor\":\"white\",\"linecolor\":\"white\",\"showgrid\":true,\"tickcolor\":\"rgb(51,51,51)\",\"ticks\":\"outside\"}},\"scene\":{\"xaxis\":{\"backgroundcolor\":\"rgb(237,237,237)\",\"gridcolor\":\"white\",\"gridwidth\":2,\"linecolor\":\"white\",\"showbackground\":true,\"showgrid\":true,\"tickcolor\":\"rgb(51,51,51)\",\"ticks\":\"outside\",\"zerolinecolor\":\"white\"},\"yaxis\":{\"backgroundcolor\":\"rgb(237,237,237)\",\"gridcolor\":\"white\",\"gridwidth\":2,\"linecolor\":\"white\",\"showbackground\":true,\"showgrid\":true,\"tickcolor\":\"rgb(51,51,51)\",\"ticks\":\"outside\",\"zerolinecolor\":\"white\"},\"zaxis\":{\"backgroundcolor\":\"rgb(237,237,237)\",\"gridcolor\":\"white\",\"gridwidth\":2,\"linecolor\":\"white\",\"showbackground\":true,\"showgrid\":true,\"tickcolor\":\"rgb(51,51,51)\",\"ticks\":\"outside\",\"zerolinecolor\":\"white\"}},\"shapedefaults\":{\"fillcolor\":\"black\",\"line\":{\"width\":0},\"opacity\":0.3},\"ternary\":{\"aaxis\":{\"gridcolor\":\"white\",\"linecolor\":\"white\",\"showgrid\":true,\"tickcolor\":\"rgb(51,51,51)\",\"ticks\":\"outside\"},\"baxis\":{\"gridcolor\":\"white\",\"linecolor\":\"white\",\"showgrid\":true,\"tickcolor\":\"rgb(51,51,51)\",\"ticks\":\"outside\"},\"bgcolor\":\"rgb(237,237,237)\",\"caxis\":{\"gridcolor\":\"white\",\"linecolor\":\"white\",\"showgrid\":true,\"tickcolor\":\"rgb(51,51,51)\",\"ticks\":\"outside\"}},\"xaxis\":{\"automargin\":true,\"gridcolor\":\"white\",\"linecolor\":\"white\",\"showgrid\":true,\"tickcolor\":\"rgb(51,51,51)\",\"ticks\":\"outside\",\"title\":{\"standoff\":15},\"zerolinecolor\":\"white\"},\"yaxis\":{\"automargin\":true,\"gridcolor\":\"white\",\"linecolor\":\"white\",\"showgrid\":true,\"tickcolor\":\"rgb(51,51,51)\",\"ticks\":\"outside\",\"title\":{\"standoff\":15},\"zerolinecolor\":\"white\"}}},\"font\":{\"family\":\"Arial\",\"size\":14},\"title\":{\"text\":\"Фінансовий аналіз каналів продажу (структура доходу)\"},\"xaxis\":{\"title\":{\"text\":\"Канал продажу\"}},\"yaxis\":{\"title\":{\"text\":\"Сума, $\"}},\"barmode\":\"stack\",\"legend\":{\"title\":{\"text\":\"Метрика\"}}},                        {\"responsive\": true}                    ).then(function(){\n",
              "                            \n",
              "var gd = document.getElementById('490388fb-2d82-46ed-8cb8-5a5a4c7bd569');\n",
              "var x = new MutationObserver(function (mutations, observer) {{\n",
              "        var display = window.getComputedStyle(gd).display;\n",
              "        if (!display || display === 'none') {{\n",
              "            console.log([gd, 'removed!']);\n",
              "            Plotly.purge(gd);\n",
              "            observer.disconnect();\n",
              "        }}\n",
              "}});\n",
              "\n",
              "// Listen for the removal of the full notebook cells\n",
              "var notebookContainer = gd.closest('#notebook-container');\n",
              "if (notebookContainer) {{\n",
              "    x.observe(notebookContainer, {childList: true});\n",
              "}}\n",
              "\n",
              "// Listen for the clearing of the current output cell\n",
              "var outputEl = gd.closest('.output');\n",
              "if (outputEl) {{\n",
              "    x.observe(outputEl, {childList: true});\n",
              "}}\n",
              "\n",
              "                        })                };                            </script>        </div>\n",
              "</body>\n",
              "</html>"
            ]
          },
          "metadata": {}
        }
      ]
    },
    {
      "cell_type": "code",
      "source": [
        "# Стиль графіка\n",
        "plt.style.use('ggplot')\n",
        "\n",
        "# Дані для побудови\n",
        "labels = channel_stats.index\n",
        "revenues = channel_stats[\"Total Revenue\"]\n",
        "\n",
        "# Кольори: м’який зелений для Online, м’який блакитний для Offline (або навпаки)\n",
        "colors = ['#74c476', '#6baed6'] if 'Online' in labels[0] else ['#6baed6', '#74c476']\n",
        "\n",
        "# Побудова pie chart\n",
        "fig, ax = plt.subplots(figsize=(8, 8))\n",
        "wedges, texts, autotexts = ax.pie(\n",
        "    revenues,\n",
        "    labels=labels,\n",
        "    autopct=lambda pct: f'{pct:.1f}%\\n(${int(pct/100 * revenues.sum() / 1_000_000)}M)',\n",
        "    startangle=140,\n",
        "    colors=colors,\n",
        "    wedgeprops=dict(edgecolor='white')\n",
        ")\n",
        "\n",
        "# Заголовок\n",
        "ax.set_title(\"Розподіл доходу за каналами продажу\", fontsize=16, fontweight='bold', pad=20)\n",
        "\n",
        "# Стилізація підписів\n",
        "for autotext in autotexts:\n",
        "    autotext.set_color('black')\n",
        "    autotext.set_fontsize(10)\n",
        "    autotext.set_fontweight('bold')\n",
        "\n",
        "# Показ графіка\n",
        "plt.tight_layout()\n",
        "plt.show()"
      ],
      "metadata": {
        "colab": {
          "base_uri": "https://localhost:8080/",
          "height": 806
        },
        "id": "oL8RTB-7H73v",
        "outputId": "f17d77c7-add4-47f9-da77-803e79f1cc4c"
      },
      "execution_count": null,
      "outputs": [
        {
          "output_type": "display_data",
          "data": {
            "text/plain": [
              "<Figure size 800x800 with 1 Axes>"
            ],
            "image/png": "[encoded data removed]"
          },
          "metadata": {}
        }
      ]
    },
    {
      "cell_type": "markdown",
      "source": [
        "**1. Загальна ефективність — майже паритет:**\n",
        "- Онлайн і офлайн показують дуже схожі обсяги замовлень, прибутку та продажів.\n",
        "- Різниця в прибутку — всього ~ $3.1M (~1.3%).\n",
        "\n",
        "**2.Офлайн = трохи більше продажів, трохи більше прибутку:**\n",
        "- +65,000 одиниць товарів продано більше в офлайні.\n",
        "- Прибуток на замовлення (середній):\n",
        "\n",
        "Offline: $238.9M / 623 ≈ $383K\n",
        "\n",
        "Online: $235.2M / 625 ≈ $376K\n",
        "\n",
        "**3. Вартість реалізації трохи вища офлайн:**\n",
        "\n",
        "Це логічно, адже офлайн-канал включає:\n",
        "- складські витрати,\n",
        "- логістику до точок,\n",
        "- персонал, обслуговування."
      ],
      "metadata": {
        "id": "4eNN9Yylw3Z9"
      }
    },
    {
      "cell_type": "markdown",
      "source": [
        "Тепер проаналізуємо інтервал часу між замовленням та його відвантаженням та зробимо відповідні візуалізації в розрізі:\n",
        "\n",
        "- категорій товарів;\n",
        "- країн;\n",
        "- регіонів."
      ],
      "metadata": {
        "id": "mK9DCJBaaE-O"
      }
    },
    {
      "cell_type": "markdown",
      "source": [
        "**Аналіз  інтервалу часу між замовленням та його відвантаженням в розрізі категорій товарів.**"
      ],
      "metadata": {
        "id": "ug8yAg6rbm0X"
      }
    },
    {
      "cell_type": "code",
      "source": [
        "final_merged_data[\"Shipping Time (days)\"] = (final_merged_data[\"Ship Date\"] - final_merged_data[\"Order Date\"]).dt.days # Додамо в датасет нову колонку та зробимо розрахунок часу доставки"
      ],
      "metadata": {
        "id": "Yod6MxPacFbl"
      },
      "execution_count": null,
      "outputs": []
    },
    {
      "cell_type": "code",
      "source": [
        "shipping_stats = final_merged_data.groupby(\"item_type\").agg({\n",
        "    \"Shipping Time (days)\": [\"mean\", \"min\", \"max\", \"count\"]\n",
        "}).round(1)\n",
        "\n",
        "# Покращимо назви колонок\n",
        "shipping_stats.columns = [\n",
        "    \"Average Shipping Time (days)\",\n",
        "    \"Min Shipping Time\",\n",
        "    \"Max Shipping Time\",\n",
        "    \"Number of Orders\"\n",
        "]\n",
        "\n",
        "# Відсортуємо за середнім часом доставки\n",
        "shipping_stats = shipping_stats.sort_values(\"Average Shipping Time (days)\", ascending=False)\n",
        "print(f\"Аналіз інтервалу часу між замовленням та його відвантаженням в розрізі категорій товарів: \\n{shipping_stats}\") plt.style.use('ggplot')\n",
        "plt.rcParams.update({\n",
        "    'font.size': 12,\n",
        "    'figure.figsize': (12, 6),\n",
        "    'axes.titlesize': 16,\n",
        "    'axes.labelsize': 14,\n",
        "    'xtick.labelsize': 10,\n",
        "    'ytick.labelsize': 10,\n",
        "    'axes.titlepad': 15\n",
        "})"
      ],
      "metadata": {
        "id": "j6x_D0SdckGc"
      },
      "execution_count": null,
      "outputs": []
    },
    {
      "cell_type": "code",
      "source": [
        "# Стиль графіка\n",
        "plt.style.use('ggplot')\n",
        "plt.rcParams.update({\n",
        "    'font.size': 12,\n",
        "    'figure.figsize': (12, 6),\n",
        "    'axes.titlesize': 16,\n",
        "    'axes.labelsize': 14,\n",
        "    'xtick.labelsize': 10,\n",
        "    'ytick.labelsize': 10,\n",
        "    'axes.titlepad': 15\n",
        "})\n",
        "\n",
        "# Відсортувати категорії за зростанням середнього часу доставки\n",
        "shipping_stats_sorted = shipping_stats.sort_values(\"Average Shipping Time (days)\", ascending=True)\n",
        "\n",
        "# Побудова графіка\n",
        "plt.figure()\n",
        "plt.barh(\n",
        "    shipping_stats_sorted.index,\n",
        "    shipping_stats_sorted[\"Average Shipping Time (days)\"],\n",
        "    color='#6baed6'  # м’який блакитний\n",
        ")\n",
        "\n",
        "# Назви осей та заголовок\n",
        "plt.title(\"Середній час доставки по категоріях товарів\")\n",
        "plt.xlabel(\"Середній час доставки (днів)\")\n",
        "\n",
        "# Відображення графіка\n",
        "plt.tight_layout()\n",
        "plt.show()"
      ],
      "metadata": {
        "colab": {
          "base_uri": "https://localhost:8080/",
          "height": 601
        },
        "id": "J3G7jk69eO4i",
        "outputId": "a5bef830-feba-4a50-9a62-fdce8224dbca"
      },
      "execution_count": null,
      "outputs": [
        {
          "output_type": "display_data",
          "data": {
            "text/plain": [
              "<Figure size 1200x600 with 1 Axes>"
            ],
            "image/png": "[encoded data removed]"
          },
          "metadata": {}
        }
      ]
    },
    {
      "cell_type": "markdown",
      "source": [
        "**1. Категорії з довгим середнім часом доставки:**\n",
        "Office Supplies, Cereal, Baby Food — 27 днів і більше\n",
        "\n",
        "Це потенційно критичні категорії для клієнтів (особливо baby food або офісні товари).\n",
        "\n",
        "Ризик:\n",
        "- Можливе зниження задоволеності клієнтів.\n",
        "- Порушення SLA (service-level agreement) у B2B сегменті.\n",
        "\n",
        "**2. Категорії з найшвидшою доставкою:**\n",
        "Personal Care, Clothes, Household — 20–24 дні.\n",
        "\n",
        "Це може свідчити про:\n",
        "- Локальні склади / часті поставки\n",
        "- Менший обсяг партій / простіша логістика.\n",
        "\n",
        "**3. Замовлень багато — але розкид по доставці великий:**\n",
        "У всіх категорій максимальний час доставки — 50 днів, а мінімальний — 0–1 день.\n",
        "\n",
        "Це означає:\n",
        "- Дуже нерівномірне забезпечення поставок.\n",
        "- Ймовірні затримки в окремих регіонах або партіях.\n"
      ],
      "metadata": {
        "id": "rc5kH6Ydznuw"
      }
    },
    {
      "cell_type": "markdown",
      "source": [
        "**Аналіз інтервалу часу між замовленням та його відвантаженням в розрізі країн.**"
      ],
      "metadata": {
        "id": "gSXoHWpne815"
      }
    },
    {
      "cell_type": "code",
      "source": [
        "shipping_country = final_merged_data.groupby(\"country name\").agg({\n",
        "    \"Shipping Time (days)\": [\"mean\", \"min\", \"max\", \"count\"]\n",
        "}).round(1)\n",
        "\n",
        "# Покращимо назви колонок\n",
        "shipping_country.columns = [\n",
        "    \"Average Shipping Time (days)\",\n",
        "    \"Min Shipping Time\",\n",
        "    \"Max Shipping Time\",\n",
        "    \"Number of Orders\"\n",
        "]\n",
        "\n",
        "# Відсортуємо за середнім часом доставки\n",
        "shipping_country = shipping_country.sort_values(\"Average Shipping Time (days)\", ascending=False)"
      ],
      "metadata": {
        "id": "fWs_XU24fC_t"
      },
      "execution_count": null,
      "outputs": []
    },
    {
      "cell_type": "code",
      "source": [
        "\n",
        "# 🔹 Топ-10 країн з найдовшим середнім часом доставки\n",
        "top_shipping = shipping_country.sort_values(\"Average Shipping Time (days)\", ascending=False).head(10)\n",
        "top_shipping = top_shipping.reset_index()\n",
        "\n",
        "# Використаємо м’який нейтральний градієнт (наприклад, сіро-блакитний)\n",
        "neutral_scale = ['#d0dce0', '#a4b8c4', '#7898a9', '#4e6f85', '#2f4858']\n",
        "\n",
        "fig = px.bar(\n",
        "    top_shipping,\n",
        "    x=\"Average Shipping Time (days)\",\n",
        "    y=\"country name\",\n",
        "    orientation='h',\n",
        "    color=\"Average Shipping Time (days)\",\n",
        "    color_continuous_scale=neutral_scale,\n",
        "    hover_data={\n",
        "        \"Min Shipping Time\": True,\n",
        "        \"Max Shipping Time\": True,\n",
        "        \"Number of Orders\": True\n",
        "    },\n",
        "    title=\"Топ-10 країн з найдовшим середнім часом доставки\",\n",
        "    labels={\"country name\": \"Країна\"}\n",
        ")\n",
        "\n",
        "fig.update_layout(\n",
        "    yaxis=dict(autorange=\"reversed\"),  # щоб найповільніші були згори\n",
        "    template='ggplot2',\n",
        "    font=dict(family=\"Arial\", size=14),\n",
        "    coloraxis_colorbar=dict(title=\"Середній час (днів)\")\n",
        ")\n",
        "\n",
        "fig.show()\n"
      ],
      "metadata": {
        "colab": {
          "base_uri": "https://localhost:8080/",
          "height": 542
        },
        "id": "Ih9aFzUkgbWG",
        "outputId": "741b046d-bd0b-4bc2-c41c-b166b752d1c9"
      },
      "execution_count": null,
      "outputs": [
        {
          "output_type": "display_data",
          "data": {
            "text/html": [
              "<html>\n",
              "<head><meta charset=\"utf-8\" /></head>\n",
              "<body>\n",
              "    <div>            <script src=\"https://cdnjs.cloudflare.com/ajax/libs/mathjax/2.7.5/MathJax.js?config=TeX-AMS-MML_SVG\"></script><script type=\"text/javascript\">if (window.MathJax && window.MathJax.Hub && window.MathJax.Hub.Config) {window.MathJax.Hub.Config({SVG: {font: \"STIX-Web\"}});}</script>                <script type=\"text/javascript\">window.PlotlyConfig = {MathJaxConfig: 'local'};</script>\n",
              "        <script charset=\"utf-8\" src=\"https://cdn.plot.ly/plotly-2.35.2.min.js\"></script>                <div id=\"5df1bead-403b-4b64-8c97-7f14c042aba3\" class=\"plotly-graph-div\" style=\"height:525px; width:100%;\"></div>            <script type=\"text/javascript\">                                    window.PLOTLYENV=window.PLOTLYENV || {};                                    if (document.getElementById(\"5df1bead-403b-4b64-8c97-7f14c042aba3\")) {                    Plotly.newPlot(                        \"5df1bead-403b-4b64-8c97-7f14c042aba3\",                        [{\"alignmentgroup\":\"True\",\"customdata\":[[2,50,25],[7,47,23],[3,50,30],[3,50,28],[0,48,28],[5,49,25],[6,50,28],[0,50,32],[5,48,13],[3,48,30]],\"hovertemplate\":\"Average Shipping Time (days)=%{marker.color}\\u003cbr\\u003eКраїна=%{y}\\u003cbr\\u003eMin Shipping Time=%{customdata[0]}\\u003cbr\\u003eMax Shipping Time=%{customdata[1]}\\u003cbr\\u003eNumber of Orders=%{customdata[2]}\\u003cextra\\u003e\\u003c\\u002fextra\\u003e\",\"legendgroup\":\"\",\"marker\":{\"color\":[32.6,29.7,28.5,28.5,27.8,27.6,27.5,27.4,26.8,26.8],\"coloraxis\":\"coloraxis\",\"pattern\":{\"shape\":\"\"}},\"name\":\"\",\"offsetgroup\":\"\",\"orientation\":\"h\",\"showlegend\":false,\"textposition\":\"auto\",\"x\":[32.6,29.7,28.5,28.5,27.8,27.6,27.5,27.4,26.8,26.8],\"xaxis\":\"x\",\"y\":[\"hungary\",\"georgia\",\"slovakia\",\"austria\",\"luxembourg\",\"lithuania\",\"poland\",\"russia\",\"monaco\",\"bulgaria\"],\"yaxis\":\"y\",\"type\":\"bar\"}],                        {\"template\":{\"data\":{\"barpolar\":[{\"marker\":{\"line\":{\"color\":\"rgb(237,237,237)\",\"width\":0.5},\"pattern\":{\"fillmode\":\"overlay\",\"size\":10,\"solidity\":0.2}},\"type\":\"barpolar\"}],\"bar\":[{\"error_x\":{\"color\":\"rgb(51,51,51)\"},\"error_y\":{\"color\":\"rgb(51,51,51)\"},\"marker\":{\"line\":{\"color\":\"rgb(237,237,237)\",\"width\":0.5},\"pattern\":{\"fillmode\":\"overlay\",\"size\":10,\"solidity\":0.2}},\"type\":\"bar\"}],\"carpet\":[{\"aaxis\":{\"endlinecolor\":\"rgb(51,51,51)\",\"gridcolor\":\"white\",\"linecolor\":\"white\",\"minorgridcolor\":\"white\",\"startlinecolor\":\"rgb(51,51,51)\"},\"baxis\":{\"endlinecolor\":\"rgb(51,51,51)\",\"gridcolor\":\"white\",\"linecolor\":\"white\",\"minorgridcolor\":\"white\",\"startlinecolor\":\"rgb(51,51,51)\"},\"type\":\"carpet\"}],\"choropleth\":[{\"colorbar\":{\"outlinewidth\":0,\"tickcolor\":\"rgb(237,237,237)\",\"ticklen\":6,\"ticks\":\"inside\"},\"type\":\"choropleth\"}],\"contourcarpet\":[{\"colorbar\":{\"outlinewidth\":0,\"tickcolor\":\"rgb(237,237,237)\",\"ticklen\":6,\"ticks\":\"inside\"},\"type\":\"contourcarpet\"}],\"contour\":[{\"colorbar\":{\"outlinewidth\":0,\"tickcolor\":\"rgb(237,237,237)\",\"ticklen\":6,\"ticks\":\"inside\"},\"colorscale\":[[0,\"rgb(20,44,66)\"],[1,\"rgb(90,179,244)\"]],\"type\":\"contour\"}],\"heatmapgl\":[{\"colorbar\":{\"outlinewidth\":0,\"tickcolor\":\"rgb(237,237,237)\",\"ticklen\":6,\"ticks\":\"inside\"},\"colorscale\":[[0,\"rgb(20,44,66)\"],[1,\"rgb(90,179,244)\"]],\"type\":\"heatmapgl\"}],\"heatmap\":[{\"colorbar\":{\"outlinewidth\":0,\"tickcolor\":\"rgb(237,237,237)\",\"ticklen\":6,\"ticks\":\"inside\"},\"colorscale\":[[0,\"rgb(20,44,66)\"],[1,\"rgb(90,179,244)\"]],\"type\":\"heatmap\"}],\"histogram2dcontour\":[{\"colorbar\":{\"outlinewidth\":0,\"tickcolor\":\"rgb(237,237,237)\",\"ticklen\":6,\"ticks\":\"inside\"},\"colorscale\":[[0,\"rgb(20,44,66)\"],[1,\"rgb(90,179,244)\"]],\"type\":\"histogram2dcontour\"}],\"histogram2d\":[{\"colorbar\":{\"outlinewidth\":0,\"tickcolor\":\"rgb(237,237,237)\",\"ticklen\":6,\"ticks\":\"inside\"},\"colorscale\":[[0,\"rgb(20,44,66)\"],[1,\"rgb(90,179,244)\"]],\"type\":\"histogram2d\"}],\"histogram\":[{\"marker\":{\"pattern\":{\"fillmode\":\"overlay\",\"size\":10,\"solidity\":0.2}},\"type\":\"histogram\"}],\"mesh3d\":[{\"colorbar\":{\"outlinewidth\":0,\"tickcolor\":\"rgb(237,237,237)\",\"ticklen\":6,\"ticks\":\"inside\"},\"type\":\"mesh3d\"}],\"parcoords\":[{\"line\":{\"colorbar\":{\"outlinewidth\":0,\"tickcolor\":\"rgb(237,237,237)\",\"ticklen\":6,\"ticks\":\"inside\"}},\"type\":\"parcoords\"}],\"pie\":[{\"automargin\":true,\"type\":\"pie\"}],\"scatter3d\":[{\"line\":{\"colorbar\":{\"outlinewidth\":0,\"tickcolor\":\"rgb(237,237,237)\",\"ticklen\":6,\"ticks\":\"inside\"}},\"marker\":{\"colorbar\":{\"outlinewidth\":0,\"tickcolor\":\"rgb(237,237,237)\",\"ticklen\":6,\"ticks\":\"inside\"}},\"type\":\"scatter3d\"}],\"scattercarpet\":[{\"marker\":{\"colorbar\":{\"outlinewidth\":0,\"tickcolor\":\"rgb(237,237,237)\",\"ticklen\":6,\"ticks\":\"inside\"}},\"type\":\"scattercarpet\"}],\"scattergeo\":[{\"marker\":{\"colorbar\":{\"outlinewidth\":0,\"tickcolor\":\"rgb(237,237,237)\",\"ticklen\":6,\"ticks\":\"inside\"}},\"type\":\"scattergeo\"}],\"scattergl\":[{\"marker\":{\"colorbar\":{\"outlinewidth\":0,\"tickcolor\":\"rgb(237,237,237)\",\"ticklen\":6,\"ticks\":\"inside\"}},\"type\":\"scattergl\"}],\"scattermapbox\":[{\"marker\":{\"colorbar\":{\"outlinewidth\":0,\"tickcolor\":\"rgb(237,237,237)\",\"ticklen\":6,\"ticks\":\"inside\"}},\"type\":\"scattermapbox\"}],\"scatterpolargl\":[{\"marker\":{\"colorbar\":{\"outlinewidth\":0,\"tickcolor\":\"rgb(237,237,237)\",\"ticklen\":6,\"ticks\":\"inside\"}},\"type\":\"scatterpolargl\"}],\"scatterpolar\":[{\"marker\":{\"colorbar\":{\"outlinewidth\":0,\"tickcolor\":\"rgb(237,237,237)\",\"ticklen\":6,\"ticks\":\"inside\"}},\"type\":\"scatterpolar\"}],\"scatter\":[{\"fillpattern\":{\"fillmode\":\"overlay\",\"size\":10,\"solidity\":0.2},\"type\":\"scatter\"}],\"scatterternary\":[{\"marker\":{\"colorbar\":{\"outlinewidth\":0,\"tickcolor\":\"rgb(237,237,237)\",\"ticklen\":6,\"ticks\":\"inside\"}},\"type\":\"scatterternary\"}],\"surface\":[{\"colorbar\":{\"outlinewidth\":0,\"tickcolor\":\"rgb(237,237,237)\",\"ticklen\":6,\"ticks\":\"inside\"},\"colorscale\":[[0,\"rgb(20,44,66)\"],[1,\"rgb(90,179,244)\"]],\"type\":\"surface\"}],\"table\":[{\"cells\":{\"fill\":{\"color\":\"rgb(237,237,237)\"},\"line\":{\"color\":\"white\"}},\"header\":{\"fill\":{\"color\":\"rgb(217,217,217)\"},\"line\":{\"color\":\"white\"}},\"type\":\"table\"}]},\"layout\":{\"annotationdefaults\":{\"arrowhead\":0,\"arrowwidth\":1},\"autotypenumbers\":\"strict\",\"coloraxis\":{\"colorbar\":{\"outlinewidth\":0,\"tickcolor\":\"rgb(237,237,237)\",\"ticklen\":6,\"ticks\":\"inside\"}},\"colorscale\":{\"sequential\":[[0,\"rgb(20,44,66)\"],[1,\"rgb(90,179,244)\"]],\"sequentialminus\":[[0,\"rgb(20,44,66)\"],[1,\"rgb(90,179,244)\"]]},\"colorway\":[\"#F8766D\",\"#A3A500\",\"#00BF7D\",\"#00B0F6\",\"#E76BF3\"],\"font\":{\"color\":\"rgb(51,51,51)\"},\"geo\":{\"bgcolor\":\"white\",\"lakecolor\":\"white\",\"landcolor\":\"rgb(237,237,237)\",\"showlakes\":true,\"showland\":true,\"subunitcolor\":\"white\"},\"hoverlabel\":{\"align\":\"left\"},\"hovermode\":\"closest\",\"paper_bgcolor\":\"white\",\"plot_bgcolor\":\"rgb(237,237,237)\",\"polar\":{\"angularaxis\":{\"gridcolor\":\"white\",\"linecolor\":\"white\",\"showgrid\":true,\"tickcolor\":\"rgb(51,51,51)\",\"ticks\":\"outside\"},\"bgcolor\":\"rgb(237,237,237)\",\"radialaxis\":{\"gridcolor\":\"white\",\"linecolor\":\"white\",\"showgrid\":true,\"tickcolor\":\"rgb(51,51,51)\",\"ticks\":\"outside\"}},\"scene\":{\"xaxis\":{\"backgroundcolor\":\"rgb(237,237,237)\",\"gridcolor\":\"white\",\"gridwidth\":2,\"linecolor\":\"white\",\"showbackground\":true,\"showgrid\":true,\"tickcolor\":\"rgb(51,51,51)\",\"ticks\":\"outside\",\"zerolinecolor\":\"white\"},\"yaxis\":{\"backgroundcolor\":\"rgb(237,237,237)\",\"gridcolor\":\"white\",\"gridwidth\":2,\"linecolor\":\"white\",\"showbackground\":true,\"showgrid\":true,\"tickcolor\":\"rgb(51,51,51)\",\"ticks\":\"outside\",\"zerolinecolor\":\"white\"},\"zaxis\":{\"backgroundcolor\":\"rgb(237,237,237)\",\"gridcolor\":\"white\",\"gridwidth\":2,\"linecolor\":\"white\",\"showbackground\":true,\"showgrid\":true,\"tickcolor\":\"rgb(51,51,51)\",\"ticks\":\"outside\",\"zerolinecolor\":\"white\"}},\"shapedefaults\":{\"fillcolor\":\"black\",\"line\":{\"width\":0},\"opacity\":0.3},\"ternary\":{\"aaxis\":{\"gridcolor\":\"white\",\"linecolor\":\"white\",\"showgrid\":true,\"tickcolor\":\"rgb(51,51,51)\",\"ticks\":\"outside\"},\"baxis\":{\"gridcolor\":\"white\",\"linecolor\":\"white\",\"showgrid\":true,\"tickcolor\":\"rgb(51,51,51)\",\"ticks\":\"outside\"},\"bgcolor\":\"rgb(237,237,237)\",\"caxis\":{\"gridcolor\":\"white\",\"linecolor\":\"white\",\"showgrid\":true,\"tickcolor\":\"rgb(51,51,51)\",\"ticks\":\"outside\"}},\"xaxis\":{\"automargin\":true,\"gridcolor\":\"white\",\"linecolor\":\"white\",\"showgrid\":true,\"tickcolor\":\"rgb(51,51,51)\",\"ticks\":\"outside\",\"title\":{\"standoff\":15},\"zerolinecolor\":\"white\"},\"yaxis\":{\"automargin\":true,\"gridcolor\":\"white\",\"linecolor\":\"white\",\"showgrid\":true,\"tickcolor\":\"rgb(51,51,51)\",\"ticks\":\"outside\",\"title\":{\"standoff\":15},\"zerolinecolor\":\"white\"}}},\"xaxis\":{\"anchor\":\"y\",\"domain\":[0.0,1.0],\"title\":{\"text\":\"Average Shipping Time (days)\"}},\"yaxis\":{\"anchor\":\"x\",\"domain\":[0.0,1.0],\"title\":{\"text\":\"Країна\"},\"autorange\":\"reversed\"},\"coloraxis\":{\"colorbar\":{\"title\":{\"text\":\"Середній час (днів)\"}},\"colorscale\":[[0.0,\"#d0dce0\"],[0.25,\"#a4b8c4\"],[0.5,\"#7898a9\"],[0.75,\"#4e6f85\"],[1.0,\"#2f4858\"]]},\"legend\":{\"tracegroupgap\":0},\"title\":{\"text\":\"Топ-10 країн з найдовшим середнім часом доставки\"},\"barmode\":\"relative\",\"font\":{\"family\":\"Arial\",\"size\":14}},                        {\"responsive\": true}                    ).then(function(){\n",
              "                            \n",
              "var gd = document.getElementById('5df1bead-403b-4b64-8c97-7f14c042aba3');\n",
              "var x = new MutationObserver(function (mutations, observer) {{\n",
              "        var display = window.getComputedStyle(gd).display;\n",
              "        if (!display || display === 'none') {{\n",
              "            console.log([gd, 'removed!']);\n",
              "            Plotly.purge(gd);\n",
              "            observer.disconnect();\n",
              "        }}\n",
              "}});\n",
              "\n",
              "// Listen for the removal of the full notebook cells\n",
              "var notebookContainer = gd.closest('#notebook-container');\n",
              "if (notebookContainer) {{\n",
              "    x.observe(notebookContainer, {childList: true});\n",
              "}}\n",
              "\n",
              "// Listen for the clearing of the current output cell\n",
              "var outputEl = gd.closest('.output');\n",
              "if (outputEl) {{\n",
              "    x.observe(outputEl, {childList: true});\n",
              "}}\n",
              "\n",
              "                        })                };                            </script>        </div>\n",
              "</body>\n",
              "</html>"
            ]
          },
          "metadata": {}
        }
      ]
    },
    {
      "cell_type": "markdown",
      "source": [
        "- Середній час доставки\t- Від 18.2 до 32.6 днів → значна варіативність;\n",
        "- Максимальні затримки - Досягають 50 днів майже в усіх країнах;\n",
        "- Мінімальний час доставки - У багатьох країнах є доставки за 0–3 дні;\n",
        "- Обсяг замовлень - 20–40+ замовлень на країну → статистично достовірні.\n",
        "\n"
      ],
      "metadata": {
        "id": "UcSU88-T0Y0r"
      }
    },
    {
      "cell_type": "markdown",
      "source": [
        "**Аналіз інтервалу часу між замовленням та його відвантаженням в розрізі регіонів.**"
      ],
      "metadata": {
        "id": "prkA6xkzgr3Q"
      }
    },
    {
      "cell_type": "code",
      "source": [
        "shipping_region = final_merged_data.groupby(\"region\").agg({\n",
        "    \"Shipping Time (days)\": [\"mean\", \"min\", \"max\", \"count\"]\n",
        "}).round(1)\n",
        "\n",
        "# Покращимо назви колонок\n",
        "shipping_region.columns = [\n",
        "    \"Average Shipping Time (days)\",\n",
        "    \"Min Shipping Time\",\n",
        "    \"Max Shipping Time\",\n",
        "    \"Number of Orders\"\n",
        "]\n",
        "\n",
        "# Відсортуємо за середнім часом доставки\n",
        "shipping_region = shipping_region.sort_values(\"Average Shipping Time (days)\", ascending=False)"
      ],
      "metadata": {
        "id": "haI0_MR2g1lT"
      },
      "execution_count": null,
      "outputs": []
    },
    {
      "cell_type": "code",
      "source": [
        "# Підготовка\n",
        "shipping_region_reset = shipping_region.reset_index()\n",
        "\n",
        "# Нормалізація: округлення для лейблів, уникаємо надмірної деталізації\n",
        "shipping_region_reset[\"Average Shipping Time (days)\"] = shipping_region_reset[\"Average Shipping Time (days)\"].round(1)\n",
        "\n",
        "# Градієнт м’яких сіро-блакитних кольорів\n",
        "neutral_scale = ['#d0dce0', '#a4b8c4', '#7898a9', '#4e6f85', '#2f4858']\n",
        "\n",
        "# Побудова pie chart\n",
        "fig = px.pie(\n",
        "    shipping_region_reset,\n",
        "    names=\"region\",\n",
        "    values=\"Average Shipping Time (days)\",\n",
        "    color=\"Average Shipping Time (days)\",\n",
        "    color_discrete_sequence=neutral_scale,\n",
        "    title=\"Розподіл середнього часу доставки по регіонах\",\n",
        "    hole=0.3  # Напів-донат стиль для сучаснішого вигляду\n",
        ")\n",
        "\n",
        "fig.update_traces(\n",
        "    textinfo='percent+label',\n",
        "    hovertemplate=\"Регіон: %{label}<br>Середній час: %{value} днів<br>Частка: %{percent}\"\n",
        ")\n",
        "\n",
        "fig.update_layout(\n",
        "    template='ggplot2',\n",
        "    font=dict(family=\"Arial\", size=14),\n",
        "    legend_title_text=\"Регіон\"\n",
        ")\n",
        "\n",
        "fig.show()"
      ],
      "metadata": {
        "colab": {
          "base_uri": "https://localhost:8080/",
          "height": 542
        },
        "id": "tQ09eJ88hww_",
        "outputId": "d8c3eaec-3221-44be-a25c-4ae32445c761"
      },
      "execution_count": null,
      "outputs": [
        {
          "output_type": "display_data",
          "data": {
            "text/html": [
              "<html>\n",
              "<head><meta charset=\"utf-8\" /></head>\n",
              "<body>\n",
              "    <div>            <script src=\"https://cdnjs.cloudflare.com/ajax/libs/mathjax/2.7.5/MathJax.js?config=TeX-AMS-MML_SVG\"></script><script type=\"text/javascript\">if (window.MathJax && window.MathJax.Hub && window.MathJax.Hub.Config) {window.MathJax.Hub.Config({SVG: {font: \"STIX-Web\"}});}</script>                <script type=\"text/javascript\">window.PlotlyConfig = {MathJaxConfig: 'local'};</script>\n",
              "        <script charset=\"utf-8\" src=\"https://cdn.plot.ly/plotly-2.35.2.min.js\"></script>                <div id=\"1664df83-96e2-4e76-b2d2-98289b4a201b\" class=\"plotly-graph-div\" style=\"height:525px; width:100%;\"></div>            <script type=\"text/javascript\">                                    window.PLOTLYENV=window.PLOTLYENV || {};                                    if (document.getElementById(\"1664df83-96e2-4e76-b2d2-98289b4a201b\")) {                    Plotly.newPlot(                        \"1664df83-96e2-4e76-b2d2-98289b4a201b\",                        [{\"customdata\":[[26.1],[24.8]],\"domain\":{\"x\":[0.0,1.0],\"y\":[0.0,1.0]},\"hole\":0.3,\"hovertemplate\":\"Регіон: %{label}\\u003cbr\\u003eСередній час: %{value} днів\\u003cbr\\u003eЧастка: %{percent}\",\"labels\":[\"asia\",\"europe\"],\"legendgroup\":\"\",\"marker\":{\"colors\":[\"#d0dce0\",\"#a4b8c4\"]},\"name\":\"\",\"showlegend\":true,\"values\":[26.1,24.8],\"type\":\"pie\",\"textinfo\":\"percent+label\"}],                        {\"template\":{\"data\":{\"barpolar\":[{\"marker\":{\"line\":{\"color\":\"rgb(237,237,237)\",\"width\":0.5},\"pattern\":{\"fillmode\":\"overlay\",\"size\":10,\"solidity\":0.2}},\"type\":\"barpolar\"}],\"bar\":[{\"error_x\":{\"color\":\"rgb(51,51,51)\"},\"error_y\":{\"color\":\"rgb(51,51,51)\"},\"marker\":{\"line\":{\"color\":\"rgb(237,237,237)\",\"width\":0.5},\"pattern\":{\"fillmode\":\"overlay\",\"size\":10,\"solidity\":0.2}},\"type\":\"bar\"}],\"carpet\":[{\"aaxis\":{\"endlinecolor\":\"rgb(51,51,51)\",\"gridcolor\":\"white\",\"linecolor\":\"white\",\"minorgridcolor\":\"white\",\"startlinecolor\":\"rgb(51,51,51)\"},\"baxis\":{\"endlinecolor\":\"rgb(51,51,51)\",\"gridcolor\":\"white\",\"linecolor\":\"white\",\"minorgridcolor\":\"white\",\"startlinecolor\":\"rgb(51,51,51)\"},\"type\":\"carpet\"}],\"choropleth\":[{\"colorbar\":{\"outlinewidth\":0,\"tickcolor\":\"rgb(237,237,237)\",\"ticklen\":6,\"ticks\":\"inside\"},\"type\":\"choropleth\"}],\"contourcarpet\":[{\"colorbar\":{\"outlinewidth\":0,\"tickcolor\":\"rgb(237,237,237)\",\"ticklen\":6,\"ticks\":\"inside\"},\"type\":\"contourcarpet\"}],\"contour\":[{\"colorbar\":{\"outlinewidth\":0,\"tickcolor\":\"rgb(237,237,237)\",\"ticklen\":6,\"ticks\":\"inside\"},\"colorscale\":[[0,\"rgb(20,44,66)\"],[1,\"rgb(90,179,244)\"]],\"type\":\"contour\"}],\"heatmapgl\":[{\"colorbar\":{\"outlinewidth\":0,\"tickcolor\":\"rgb(237,237,237)\",\"ticklen\":6,\"ticks\":\"inside\"},\"colorscale\":[[0,\"rgb(20,44,66)\"],[1,\"rgb(90,179,244)\"]],\"type\":\"heatmapgl\"}],\"heatmap\":[{\"colorbar\":{\"outlinewidth\":0,\"tickcolor\":\"rgb(237,237,237)\",\"ticklen\":6,\"ticks\":\"inside\"},\"colorscale\":[[0,\"rgb(20,44,66)\"],[1,\"rgb(90,179,244)\"]],\"type\":\"heatmap\"}],\"histogram2dcontour\":[{\"colorbar\":{\"outlinewidth\":0,\"tickcolor\":\"rgb(237,237,237)\",\"ticklen\":6,\"ticks\":\"inside\"},\"colorscale\":[[0,\"rgb(20,44,66)\"],[1,\"rgb(90,179,244)\"]],\"type\":\"histogram2dcontour\"}],\"histogram2d\":[{\"colorbar\":{\"outlinewidth\":0,\"tickcolor\":\"rgb(237,237,237)\",\"ticklen\":6,\"ticks\":\"inside\"},\"colorscale\":[[0,\"rgb(20,44,66)\"],[1,\"rgb(90,179,244)\"]],\"type\":\"histogram2d\"}],\"histogram\":[{\"marker\":{\"pattern\":{\"fillmode\":\"overlay\",\"size\":10,\"solidity\":0.2}},\"type\":\"histogram\"}],\"mesh3d\":[{\"colorbar\":{\"outlinewidth\":0,\"tickcolor\":\"rgb(237,237,237)\",\"ticklen\":6,\"ticks\":\"inside\"},\"type\":\"mesh3d\"}],\"parcoords\":[{\"line\":{\"colorbar\":{\"outlinewidth\":0,\"tickcolor\":\"rgb(237,237,237)\",\"ticklen\":6,\"ticks\":\"inside\"}},\"type\":\"parcoords\"}],\"pie\":[{\"automargin\":true,\"type\":\"pie\"}],\"scatter3d\":[{\"line\":{\"colorbar\":{\"outlinewidth\":0,\"tickcolor\":\"rgb(237,237,237)\",\"ticklen\":6,\"ticks\":\"inside\"}},\"marker\":{\"colorbar\":{\"outlinewidth\":0,\"tickcolor\":\"rgb(237,237,237)\",\"ticklen\":6,\"ticks\":\"inside\"}},\"type\":\"scatter3d\"}],\"scattercarpet\":[{\"marker\":{\"colorbar\":{\"outlinewidth\":0,\"tickcolor\":\"rgb(237,237,237)\",\"ticklen\":6,\"ticks\":\"inside\"}},\"type\":\"scattercarpet\"}],\"scattergeo\":[{\"marker\":{\"colorbar\":{\"outlinewidth\":0,\"tickcolor\":\"rgb(237,237,237)\",\"ticklen\":6,\"ticks\":\"inside\"}},\"type\":\"scattergeo\"}],\"scattergl\":[{\"marker\":{\"colorbar\":{\"outlinewidth\":0,\"tickcolor\":\"rgb(237,237,237)\",\"ticklen\":6,\"ticks\":\"inside\"}},\"type\":\"scattergl\"}],\"scattermapbox\":[{\"marker\":{\"colorbar\":{\"outlinewidth\":0,\"tickcolor\":\"rgb(237,237,237)\",\"ticklen\":6,\"ticks\":\"inside\"}},\"type\":\"scattermapbox\"}],\"scatterpolargl\":[{\"marker\":{\"colorbar\":{\"outlinewidth\":0,\"tickcolor\":\"rgb(237,237,237)\",\"ticklen\":6,\"ticks\":\"inside\"}},\"type\":\"scatterpolargl\"}],\"scatterpolar\":[{\"marker\":{\"colorbar\":{\"outlinewidth\":0,\"tickcolor\":\"rgb(237,237,237)\",\"ticklen\":6,\"ticks\":\"inside\"}},\"type\":\"scatterpolar\"}],\"scatter\":[{\"fillpattern\":{\"fillmode\":\"overlay\",\"size\":10,\"solidity\":0.2},\"type\":\"scatter\"}],\"scatterternary\":[{\"marker\":{\"colorbar\":{\"outlinewidth\":0,\"tickcolor\":\"rgb(237,237,237)\",\"ticklen\":6,\"ticks\":\"inside\"}},\"type\":\"scatterternary\"}],\"surface\":[{\"colorbar\":{\"outlinewidth\":0,\"tickcolor\":\"rgb(237,237,237)\",\"ticklen\":6,\"ticks\":\"inside\"},\"colorscale\":[[0,\"rgb(20,44,66)\"],[1,\"rgb(90,179,244)\"]],\"type\":\"surface\"}],\"table\":[{\"cells\":{\"fill\":{\"color\":\"rgb(237,237,237)\"},\"line\":{\"color\":\"white\"}},\"header\":{\"fill\":{\"color\":\"rgb(217,217,217)\"},\"line\":{\"color\":\"white\"}},\"type\":\"table\"}]},\"layout\":{\"annotationdefaults\":{\"arrowhead\":0,\"arrowwidth\":1},\"autotypenumbers\":\"strict\",\"coloraxis\":{\"colorbar\":{\"outlinewidth\":0,\"tickcolor\":\"rgb(237,237,237)\",\"ticklen\":6,\"ticks\":\"inside\"}},\"colorscale\":{\"sequential\":[[0,\"rgb(20,44,66)\"],[1,\"rgb(90,179,244)\"]],\"sequentialminus\":[[0,\"rgb(20,44,66)\"],[1,\"rgb(90,179,244)\"]]},\"colorway\":[\"#F8766D\",\"#A3A500\",\"#00BF7D\",\"#00B0F6\",\"#E76BF3\"],\"font\":{\"color\":\"rgb(51,51,51)\"},\"geo\":{\"bgcolor\":\"white\",\"lakecolor\":\"white\",\"landcolor\":\"rgb(237,237,237)\",\"showlakes\":true,\"showland\":true,\"subunitcolor\":\"white\"},\"hoverlabel\":{\"align\":\"left\"},\"hovermode\":\"closest\",\"paper_bgcolor\":\"white\",\"plot_bgcolor\":\"rgb(237,237,237)\",\"polar\":{\"angularaxis\":{\"gridcolor\":\"white\",\"linecolor\":\"white\",\"showgrid\":true,\"tickcolor\":\"rgb(51,51,51)\",\"ticks\":\"outside\"},\"bgcolor\":\"rgb(237,237,237)\",\"radialaxis\":{\"gridcolor\":\"white\",\"linecolor\":\"white\",\"showgrid\":true,\"tickcolor\":\"rgb(51,51,51)\",\"ticks\":\"outside\"}},\"scene\":{\"xaxis\":{\"backgroundcolor\":\"rgb(237,237,237)\",\"gridcolor\":\"white\",\"gridwidth\":2,\"linecolor\":\"white\",\"showbackground\":true,\"showgrid\":true,\"tickcolor\":\"rgb(51,51,51)\",\"ticks\":\"outside\",\"zerolinecolor\":\"white\"},\"yaxis\":{\"backgroundcolor\":\"rgb(237,237,237)\",\"gridcolor\":\"white\",\"gridwidth\":2,\"linecolor\":\"white\",\"showbackground\":true,\"showgrid\":true,\"tickcolor\":\"rgb(51,51,51)\",\"ticks\":\"outside\",\"zerolinecolor\":\"white\"},\"zaxis\":{\"backgroundcolor\":\"rgb(237,237,237)\",\"gridcolor\":\"white\",\"gridwidth\":2,\"linecolor\":\"white\",\"showbackground\":true,\"showgrid\":true,\"tickcolor\":\"rgb(51,51,51)\",\"ticks\":\"outside\",\"zerolinecolor\":\"white\"}},\"shapedefaults\":{\"fillcolor\":\"black\",\"line\":{\"width\":0},\"opacity\":0.3},\"ternary\":{\"aaxis\":{\"gridcolor\":\"white\",\"linecolor\":\"white\",\"showgrid\":true,\"tickcolor\":\"rgb(51,51,51)\",\"ticks\":\"outside\"},\"baxis\":{\"gridcolor\":\"white\",\"linecolor\":\"white\",\"showgrid\":true,\"tickcolor\":\"rgb(51,51,51)\",\"ticks\":\"outside\"},\"bgcolor\":\"rgb(237,237,237)\",\"caxis\":{\"gridcolor\":\"white\",\"linecolor\":\"white\",\"showgrid\":true,\"tickcolor\":\"rgb(51,51,51)\",\"ticks\":\"outside\"}},\"xaxis\":{\"automargin\":true,\"gridcolor\":\"white\",\"linecolor\":\"white\",\"showgrid\":true,\"tickcolor\":\"rgb(51,51,51)\",\"ticks\":\"outside\",\"title\":{\"standoff\":15},\"zerolinecolor\":\"white\"},\"yaxis\":{\"automargin\":true,\"gridcolor\":\"white\",\"linecolor\":\"white\",\"showgrid\":true,\"tickcolor\":\"rgb(51,51,51)\",\"ticks\":\"outside\",\"title\":{\"standoff\":15},\"zerolinecolor\":\"white\"}}},\"legend\":{\"tracegroupgap\":0,\"title\":{\"text\":\"Регіон\"}},\"title\":{\"text\":\"Розподіл середнього часу доставки по регіонах\"},\"piecolorway\":[\"#d0dce0\",\"#a4b8c4\",\"#7898a9\",\"#4e6f85\",\"#2f4858\"],\"font\":{\"family\":\"Arial\",\"size\":14}},                        {\"responsive\": true}                    ).then(function(){\n",
              "                            \n",
              "var gd = document.getElementById('1664df83-96e2-4e76-b2d2-98289b4a201b');\n",
              "var x = new MutationObserver(function (mutations, observer) {{\n",
              "        var display = window.getComputedStyle(gd).display;\n",
              "        if (!display || display === 'none') {{\n",
              "            console.log([gd, 'removed!']);\n",
              "            Plotly.purge(gd);\n",
              "            observer.disconnect();\n",
              "        }}\n",
              "}});\n",
              "\n",
              "// Listen for the removal of the full notebook cells\n",
              "var notebookContainer = gd.closest('#notebook-container');\n",
              "if (notebookContainer) {{\n",
              "    x.observe(notebookContainer, {childList: true});\n",
              "}}\n",
              "\n",
              "// Listen for the clearing of the current output cell\n",
              "var outputEl = gd.closest('.output');\n",
              "if (outputEl) {{\n",
              "    x.observe(outputEl, {childList: true});\n",
              "}}\n",
              "\n",
              "                        })                };                            </script>        </div>\n",
              "</body>\n",
              "</html>"
            ]
          },
          "metadata": {}
        }
      ]
    },
    {
      "cell_type": "markdown",
      "source": [
        "Тепер проаналізуємо чи залежить прибуток від часу, необхідного на відвантаження товару."
      ],
      "metadata": {
        "id": "3W56OKpCh1_5"
      }
    },
    {
      "cell_type": "code",
      "source": [
        "# Групування по часу доставки (в днях)\n",
        "shipping_profit_corr = final_merged_data.groupby(\"Shipping Time (days)\").agg({\n",
        "    \"Profit\": [\"mean\", \"sum\", \"count\"]\n",
        "}).reset_index()\n",
        "\n",
        "# Покращимо назви колонок\n",
        "shipping_profit_corr.columns = [\"Shipping Time (days)\", \"Average Profit\", \"Total Profit\", \"Number of Orders\"]\n"
      ],
      "metadata": {
        "id": "aN__h7nVh8_7"
      },
      "execution_count": null,
      "outputs": []
    },
    {
      "cell_type": "code",
      "source": [
        "fig = px.scatter(\n",
        "    shipping_profit_corr,\n",
        "    x=\"Shipping Time (days)\",\n",
        "    y=\"Total Profit\",\n",
        "    title=\"📈 Залежність сумарного прибутку від часу доставки\",\n",
        "    labels={\n",
        "        \"Shipping Time (days)\": \"Час доставки (днів)\",\n",
        "        \"Total Profit\": \"Сумарний прибуток ($)\"\n",
        "    },\n",
        "    template=\"ggplot2\"\n",
        ")\n",
        "\n",
        "fig.update_traces(\n",
        "    marker=dict(size=8, color=\"#74c476\")  # м’який зелений\n",
        ")\n",
        "\n",
        "fig.update_layout(\n",
        "    font=dict(family=\"Arial\", size=14),\n",
        "    margin=dict(l=60, r=40, t=60, b=60)\n",
        ")\n",
        "\n",
        "fig.show()"
      ],
      "metadata": {
        "colab": {
          "base_uri": "https://localhost:8080/",
          "height": 542
        },
        "id": "3oleOwoJipgq",
        "outputId": "a44244ba-1c8e-4308-afc0-b2c21e47324d"
      },
      "execution_count": null,
      "outputs": [
        {
          "output_type": "display_data",
          "data": {
            "text/html": [
              "<html>\n",
              "<head><meta charset=\"utf-8\" /></head>\n",
              "<body>\n",
              "    <div>            <script src=\"https://cdnjs.cloudflare.com/ajax/libs/mathjax/2.7.5/MathJax.js?config=TeX-AMS-MML_SVG\"></script><script type=\"text/javascript\">if (window.MathJax && window.MathJax.Hub && window.MathJax.Hub.Config) {window.MathJax.Hub.Config({SVG: {font: \"STIX-Web\"}});}</script>                <script type=\"text/javascript\">window.PlotlyConfig = {MathJaxConfig: 'local'};</script>\n",
              "        <script charset=\"utf-8\" src=\"https://cdn.plot.ly/plotly-2.35.2.min.js\"></script>                <div id=\"127e4cdd-aa52-40e6-9039-f52001daa363\" class=\"plotly-graph-div\" style=\"height:525px; width:100%;\"></div>            <script type=\"text/javascript\">                                    window.PLOTLYENV=window.PLOTLYENV || {};                                    if (document.getElementById(\"127e4cdd-aa52-40e6-9039-f52001daa363\")) {                    Plotly.newPlot(                        \"127e4cdd-aa52-40e6-9039-f52001daa363\",                        [{\"hovertemplate\":\"Час доставки (днів)=%{x}\\u003cbr\\u003eСумарний прибуток ($)=%{y}\\u003cextra\\u003e\\u003c\\u002fextra\\u003e\",\"legendgroup\":\"\",\"marker\":{\"color\":\"#74c476\",\"symbol\":\"circle\",\"size\":8},\"mode\":\"markers\",\"name\":\"\",\"orientation\":\"v\",\"showlegend\":false,\"x\":[0,0,0,0,0,0,0,0,0,0,1,1,1,1,1,1,1,1,1,1,1,2,2,2,2,2,2,2,2,2,2,2,3,3,3,3,3,3,3,3,3,3,3,3,4,4,4,4,4,4,4,4,4,4,5,5,5,5,5,5,5,5,5,5,6,6,6,6,6,6,6,6,6,6,6,6,7,7,7,7,7,7,7,7,7,7,7,7,8,8,8,8,8,8,8,8,8,8,8,9,9,9,9,9,9,9,9,9,9,10,10,10,10,10,10,10,11,11,11,11,11,11,11,11,11,11,11,12,12,12,12,12,12,12,12,12,13,13,13,13,13,13,13,13,13,14,14,14,14,14,14,14,14,14,14,14,14,15,15,15,15,15,15,15,15,15,15,15,15,16,16,16,16,16,16,16,16,16,16,16,17,17,17,17,17,17,17,17,17,17,18,18,18,18,18,18,18,18,18,18,19,19,19,19,19,19,19,19,19,19,20,20,20,20,20,20,20,20,20,21,21,21,21,21,21,21,21,21,21,21,21,22,22,22,22,22,22,22,22,22,22,23,23,23,23,23,23,23,23,23,23,23,24,24,24,24,24,24,24,24,24,24,24,25,25,25,25,25,25,25,25,25,26,26,26,26,26,26,26,26,26,27,27,27,27,27,27,27,27,27,27,27,28,28,28,28,28,28,28,28,28,28,29,29,29,29,29,29,29,29,29,29,30,30,30,30,30,30,30,30,31,31,31,31,31,31,31,31,31,31,32,32,32,32,32,32,32,32,32,32,32,32,33,33,33,33,33,33,33,33,33,33,33,33,34,34,34,34,34,34,34,34,34,34,34,35,35,35,35,35,35,35,35,35,36,36,36,36,36,36,36,36,36,36,36,36,37,37,37,37,37,37,37,37,37,38,38,38,38,38,38,38,38,38,38,38,38,39,39,39,39,39,39,39,39,39,39,40,40,40,40,40,40,40,40,40,40,40,41,41,41,41,41,41,41,41,41,41,42,42,42,42,42,42,42,42,42,43,43,43,43,43,43,43,43,43,43,43,44,44,44,44,44,44,44,44,44,44,44,44,45,45,45,45,45,45,45,45,45,45,46,46,46,46,46,46,46,46,46,46,46,47,47,47,47,47,47,47,47,47,47,47,48,48,48,48,48,48,48,48,48,49,49,49,49,49,49,49,49,49,49,50,50,50,50,50,50,50,50,50,50,50],\"xaxis\":\"x\",\"y\":[122604.94000000002,118828.08000000003,371546.45999999996,1324343.52,1552659.1,1654814.0499999996,334505.6,271299.56000000006,301670.94000000006,367605.98999999993,27953.100000000006,750180.1199999999,1257586.56,565946.85,6519.05,38946.54999999999,559816.3999999999,1240406.25,212959.88,503483.34000000014,1265630.24,2350007.9000000004,245079.00000000006,736625.8499999999,1293719.0399999998,1576653.1600000001,3508.96,289861.76999999996,409037.1999999999,363896.26,787730.0400000003,608636.33,50901.66000000001,265812.8400000001,1039603.6499999999,1354527.3599999999,2536415.56,46180.420000000006,225724.25999999995,929728.7999999998,842340.0,232381.38000000003,450438.66000000015,873087.8999999999,377359.02,1684346.4,1089643.29,7781.89,1900757.3699999996,391362.3999999999,524695.0,490574.56000000006,333707.2800000001,727636.3799999999,1159810.1400000001,136508.22000000003,1605863.32,3511.3700000000003,2838291.9799999995,1099898.7999999998,2008511.25,993603.9400000001,380245.4400000001,1050167.55,663159.4800000001,118859.40000000004,163182.77999999997,693273.6,3063067.79,44433.170000000006,2078751.3899999997,533733.2,258686.25,409655.82000000007,1044737.5800000003,445760.92999999993,44287.32000000001,265186.44000000006,1157871.2999999998,1043141.7599999999,1786861.99,20759.74,5364182.909999998,284684.39999999997,72846.25,654817.8,833110.2600000002,425496.19999999995,711760.5000000001,302331.9600000001,204022.77,368375.04,3219724.66,37791.21,1659951.6799999997,568911.1999999998,542448.76,315511.0800000001,233896.65,2186854.18,92315.70000000001,2413605.6,2997866.54,34940.18,1432570.1199999996,192152.5,578359.7400000001,737828.3400000002,919109.6699999999,1041806.4800000002,62012.99999999999,958832.6399999999,282538.75,60392.19,463091.1999999999,528903.1399999999,1004133.5,141096.60000000003,1252042.4699999997,1890712.7999999998,19202.879999999997,1774968.2999999996,746231.2,2343957.5,541220.8200000001,515007.60000000015,510469.17999999993,1481516.3000000003,187293.60000000006,1754481.5999999999,2332292.18,24124.100000000002,1286064.7999999998,250574.94000000003,1979140.0200000005,294059.54,1422274.8200000003,109620.00000000003,245482.88999999996,29956.300000000003,1505491.3199999996,123598.75,13006.140000000001,1191189.4200000004,1468214.41,77646.6,211503.96000000005,483878.57999999996,200858.4,86239.52,21935.82,2496390.9899999993,882309.9999999998,1839715.0,388279.64,189571.32000000007,492729.6499999999,293715.04000000004,269023.1400000001,1395115.3199999998,885245.76,1848759.7100000002,46137.04,138053.08999999997,620963.1999999998,849915.0,468496.70000000007,493061.8800000001,931230.6299999999,1730656.4400000004,153640.26000000004,765832.32,1192052.72,26710.030000000002,1415334.1999999997,854281.9999999998,5122341.25,317610.44000000006,396842.5800000001,992656.1199999999,285105.96,606841.4999999999,1239171.49,69509.22,2560859.9599999995,428656.79999999993,4473542.5,195092.1,414321.96000000014,1203194.67,15315.480000000003,799524.75,638120.16,359910.9,28076.5,640380.7199999999,506963.59999999986,31350.06,158196.66000000003,18055.18,390200.2200000001,1687728.0899999999,1797737.76,2497642.55,13221.260000000002,1515766.5799999996,1384811.9999999995,1788078.75,581175.6000000001,1226173.99,1301491.2200000002,184694.04000000004,1073002.0799999998,34058.12,369740.79999999993,1987301.25,237543.74000000002,120811.74000000003,416910.51999999996,3477896.66,109369.44000000003,689053.0199999999,1500085.44,3254498.66,23495.09,1447651.5499999996,112054.79999999997,958995.0,485662.80000000005,400481.8200000001,920246.01,1493019.5000000002,67087.44000000002,705796.5299999999,153701.08000000002,53357.4,1592002.3799999997,375861.19999999995,1170337.5,316062.4800000001,332631.97,343830.9600000001,596033.5199999999,489624.48,3199208.0,28857.34,34140.37999999999,1588272.3999999997,1979726.25,334676.30000000005,181576.02000000005,448538.64999999997,1303600.1400000001,245000.70000000007,2228215.6799999997,1545691.68,521610.0,21089.91,787548.9599999998,270441.6,1351253.75,179479.72000000003,152076.12000000005,803210.9400000001,172933.38000000003,846300.2699999999,1644762.2399999998,63235.990000000005,390847.5999999999,2738867.5,936938.8800000002,595189.64,795925.5800000001,67369.32,2442514.8899999997,55458.92,3001867.4899999993,584526.7999999998,1748562.5,352293.48000000004,342606.50999999995,948630.5600000002,256134.96000000002,907250.19,289206.72,1194313.03,32344.61,370255.5999999999,965938.75,398253.52,531549.6000000001,52587.28999999999,628074.7200000001,81306.72000000002,824064.1799999998,1270732.3199999998,3564682.74,36077.7,2220284.8099999996,864812.5,610336.3,1239050.9400000004,2070671.8600000003,420799.8600000001,700481.1299999999,315938.88,2609962.5700000003,23875.870000000003,791082.5,216167.56000000003,168948.96000000005,1376739.04,1343286.1800000002,648035.85,1565699.35,1788060.9699999997,528413.6,2081483.75,484359.68000000005,482502.58999999997,565190.56,127566.36000000003,1872615.42,1060326.72,2522332.09,4084913.039999999,3166981.25,395922.94,817505.6400000001,738620.9999999999,1607092.9000000001,369685.6200000001,112332.11999999998,646051.6799999999,1537532.4100000001,21403.210000000003,2264368.9899999993,575031.5999999999,2875975.0,431758.74000000005,177716.22000000006,418046.86,2014785.4800000004,136915.38000000003,1116145.41,395547.83999999997,3111751.3899999997,130.14000000000001,266328.1099999999,875503.1999999998,1054566.25,1779.2600000000002,13509.300000000003,933818.96,607177.2400000001,295535.5200000001,606575.73,681156.0,11948.78,1535654.1799999997,797425.1999999998,1318681.25,61973.380000000005,973992.9600000003,1131794.64,649068.06,1659910.8299999998,1432594.08,1381918.76,10023.19,1677353.3299999996,420763.19999999995,741592.5,353780.51999999996,3802862.0600000005,125123.40000000002,558825.72,29890.079999999998,970368.47,34911.26,4386541.639999999,403431.5999999999,2219601.25,26388.180000000004,757568.4600000002,126070.60999999999,731603.5200000001,24194.700000000004,1225731.2399999998,2683161.84,27261.920000000002,1108236.5099999998,2471596.25,511699.2000000001,292733.81,447186.9000000001,275428.0800000001,396617.42999999993,541399.6799999999,3586590.3600000003,52897.090000000004,2390655.2499999995,396052.79999999993,3537146.25,70218.12000000001,79567.02000000002,30239.269999999997,1562038.7000000002,89763.12000000002,2080181.7899999998,1014132.96,2311601.65,21747.84,1496695.1999999997,319665.36000000004,268476.6600000001,1083437.06,1475285.4000000001,214134.84000000005,2087180.4,1287770.4,4031002.08,21367.06,680155.9199999998,2282726.25,18795.0,204183.42000000004,1133499.15,811934.2000000002,1785.2400000000005,62898.899999999994,687324.96,4473848.970000001,11755.98,11932.559999999998,422021.59999999986,2576888.75,108309.32,134096.58000000002,515239.43999999994,131384.16,3349.9,983276.0899999997,1238608.7999999998,2339160.0,591867.0800000001,470785.3200000001,262272.96,429882.6600000001,760190.7899999999,1241062.56,1915525.79,9881.0,288867.38999999996,866980.3999999999,1845648.75,895087.6200000003,1473391.0699999998,1194511.4600000002,199116.90000000005,1467316.17,889284.96,464232.9,17419.48,1561010.8699999996,422707.99999999994,2318960.0,94501.26000000001,1313710.5000000005,1726100.4599999997,890731.1200000002,146264.40000000002,114546.86999999998,8087.96,2796362.289999999,1006605.5999999997,1200511.25,350038.08,936001.5000000002,981166.46,142352.1,268412.4,1268896.3199999998,2949182.9400000004,17908.710000000003,2638421.5999999996,495466.3999999999,752071.25,376752.04000000004,515393.5800000002,559899.97,1688286.3200000003,274535.4600000001,741232.5299999999,1266179.04,4715528.2700000005,34205.130000000005,669549.1999999998,405204.79999999993,1822545.0,346885.7400000001,460280.82999999996,1273691.8200000003,164383.02000000002,550764.0299999999,1666794.24,2334552.49,19788.510000000002,124981.99999999997,158031.24000000005,1043538.8999999999,268120.42000000004,1686310.6499999997,901182.24,1449728.06,35614.98,1508535.5999999996,2150290.0,162514.1,918081.0000000002,896256.6099999999,1754909.0200000003,112955.58000000003,543942.6,22986.719999999998,1675063.58,3790.9300000000003,128109.28999999996,536135.5999999999,417887.5,150284.82,684013.55],\"yaxis\":\"y\",\"type\":\"scatter\"}],                        {\"template\":{\"data\":{\"barpolar\":[{\"marker\":{\"line\":{\"color\":\"rgb(237,237,237)\",\"width\":0.5},\"pattern\":{\"fillmode\":\"overlay\",\"size\":10,\"solidity\":0.2}},\"type\":\"barpolar\"}],\"bar\":[{\"error_x\":{\"color\":\"rgb(51,51,51)\"},\"error_y\":{\"color\":\"rgb(51,51,51)\"},\"marker\":{\"line\":{\"color\":\"rgb(237,237,237)\",\"width\":0.5},\"pattern\":{\"fillmode\":\"overlay\",\"size\":10,\"solidity\":0.2}},\"type\":\"bar\"}],\"carpet\":[{\"aaxis\":{\"endlinecolor\":\"rgb(51,51,51)\",\"gridcolor\":\"white\",\"linecolor\":\"white\",\"minorgridcolor\":\"white\",\"startlinecolor\":\"rgb(51,51,51)\"},\"baxis\":{\"endlinecolor\":\"rgb(51,51,51)\",\"gridcolor\":\"white\",\"linecolor\":\"white\",\"minorgridcolor\":\"white\",\"startlinecolor\":\"rgb(51,51,51)\"},\"type\":\"carpet\"}],\"choropleth\":[{\"colorbar\":{\"outlinewidth\":0,\"tickcolor\":\"rgb(237,237,237)\",\"ticklen\":6,\"ticks\":\"inside\"},\"type\":\"choropleth\"}],\"contourcarpet\":[{\"colorbar\":{\"outlinewidth\":0,\"tickcolor\":\"rgb(237,237,237)\",\"ticklen\":6,\"ticks\":\"inside\"},\"type\":\"contourcarpet\"}],\"contour\":[{\"colorbar\":{\"outlinewidth\":0,\"tickcolor\":\"rgb(237,237,237)\",\"ticklen\":6,\"ticks\":\"inside\"},\"colorscale\":[[0,\"rgb(20,44,66)\"],[1,\"rgb(90,179,244)\"]],\"type\":\"contour\"}],\"heatmapgl\":[{\"colorbar\":{\"outlinewidth\":0,\"tickcolor\":\"rgb(237,237,237)\",\"ticklen\":6,\"ticks\":\"inside\"},\"colorscale\":[[0,\"rgb(20,44,66)\"],[1,\"rgb(90,179,244)\"]],\"type\":\"heatmapgl\"}],\"heatmap\":[{\"colorbar\":{\"outlinewidth\":0,\"tickcolor\":\"rgb(237,237,237)\",\"ticklen\":6,\"ticks\":\"inside\"},\"colorscale\":[[0,\"rgb(20,44,66)\"],[1,\"rgb(90,179,244)\"]],\"type\":\"heatmap\"}],\"histogram2dcontour\":[{\"colorbar\":{\"outlinewidth\":0,\"tickcolor\":\"rgb(237,237,237)\",\"ticklen\":6,\"ticks\":\"inside\"},\"colorscale\":[[0,\"rgb(20,44,66)\"],[1,\"rgb(90,179,244)\"]],\"type\":\"histogram2dcontour\"}],\"histogram2d\":[{\"colorbar\":{\"outlinewidth\":0,\"tickcolor\":\"rgb(237,237,237)\",\"ticklen\":6,\"ticks\":\"inside\"},\"colorscale\":[[0,\"rgb(20,44,66)\"],[1,\"rgb(90,179,244)\"]],\"type\":\"histogram2d\"}],\"histogram\":[{\"marker\":{\"pattern\":{\"fillmode\":\"overlay\",\"size\":10,\"solidity\":0.2}},\"type\":\"histogram\"}],\"mesh3d\":[{\"colorbar\":{\"outlinewidth\":0,\"tickcolor\":\"rgb(237,237,237)\",\"ticklen\":6,\"ticks\":\"inside\"},\"type\":\"mesh3d\"}],\"parcoords\":[{\"line\":{\"colorbar\":{\"outlinewidth\":0,\"tickcolor\":\"rgb(237,237,237)\",\"ticklen\":6,\"ticks\":\"inside\"}},\"type\":\"parcoords\"}],\"pie\":[{\"automargin\":true,\"type\":\"pie\"}],\"scatter3d\":[{\"line\":{\"colorbar\":{\"outlinewidth\":0,\"tickcolor\":\"rgb(237,237,237)\",\"ticklen\":6,\"ticks\":\"inside\"}},\"marker\":{\"colorbar\":{\"outlinewidth\":0,\"tickcolor\":\"rgb(237,237,237)\",\"ticklen\":6,\"ticks\":\"inside\"}},\"type\":\"scatter3d\"}],\"scattercarpet\":[{\"marker\":{\"colorbar\":{\"outlinewidth\":0,\"tickcolor\":\"rgb(237,237,237)\",\"ticklen\":6,\"ticks\":\"inside\"}},\"type\":\"scattercarpet\"}],\"scattergeo\":[{\"marker\":{\"colorbar\":{\"outlinewidth\":0,\"tickcolor\":\"rgb(237,237,237)\",\"ticklen\":6,\"ticks\":\"inside\"}},\"type\":\"scattergeo\"}],\"scattergl\":[{\"marker\":{\"colorbar\":{\"outlinewidth\":0,\"tickcolor\":\"rgb(237,237,237)\",\"ticklen\":6,\"ticks\":\"inside\"}},\"type\":\"scattergl\"}],\"scattermapbox\":[{\"marker\":{\"colorbar\":{\"outlinewidth\":0,\"tickcolor\":\"rgb(237,237,237)\",\"ticklen\":6,\"ticks\":\"inside\"}},\"type\":\"scattermapbox\"}],\"scatterpolargl\":[{\"marker\":{\"colorbar\":{\"outlinewidth\":0,\"tickcolor\":\"rgb(237,237,237)\",\"ticklen\":6,\"ticks\":\"inside\"}},\"type\":\"scatterpolargl\"}],\"scatterpolar\":[{\"marker\":{\"colorbar\":{\"outlinewidth\":0,\"tickcolor\":\"rgb(237,237,237)\",\"ticklen\":6,\"ticks\":\"inside\"}},\"type\":\"scatterpolar\"}],\"scatter\":[{\"fillpattern\":{\"fillmode\":\"overlay\",\"size\":10,\"solidity\":0.2},\"type\":\"scatter\"}],\"scatterternary\":[{\"marker\":{\"colorbar\":{\"outlinewidth\":0,\"tickcolor\":\"rgb(237,237,237)\",\"ticklen\":6,\"ticks\":\"inside\"}},\"type\":\"scatterternary\"}],\"surface\":[{\"colorbar\":{\"outlinewidth\":0,\"tickcolor\":\"rgb(237,237,237)\",\"ticklen\":6,\"ticks\":\"inside\"},\"colorscale\":[[0,\"rgb(20,44,66)\"],[1,\"rgb(90,179,244)\"]],\"type\":\"surface\"}],\"table\":[{\"cells\":{\"fill\":{\"color\":\"rgb(237,237,237)\"},\"line\":{\"color\":\"white\"}},\"header\":{\"fill\":{\"color\":\"rgb(217,217,217)\"},\"line\":{\"color\":\"white\"}},\"type\":\"table\"}]},\"layout\":{\"annotationdefaults\":{\"arrowhead\":0,\"arrowwidth\":1},\"autotypenumbers\":\"strict\",\"coloraxis\":{\"colorbar\":{\"outlinewidth\":0,\"tickcolor\":\"rgb(237,237,237)\",\"ticklen\":6,\"ticks\":\"inside\"}},\"colorscale\":{\"sequential\":[[0,\"rgb(20,44,66)\"],[1,\"rgb(90,179,244)\"]],\"sequentialminus\":[[0,\"rgb(20,44,66)\"],[1,\"rgb(90,179,244)\"]]},\"colorway\":[\"#F8766D\",\"#A3A500\",\"#00BF7D\",\"#00B0F6\",\"#E76BF3\"],\"font\":{\"color\":\"rgb(51,51,51)\"},\"geo\":{\"bgcolor\":\"white\",\"lakecolor\":\"white\",\"landcolor\":\"rgb(237,237,237)\",\"showlakes\":true,\"showland\":true,\"subunitcolor\":\"white\"},\"hoverlabel\":{\"align\":\"left\"},\"hovermode\":\"closest\",\"paper_bgcolor\":\"white\",\"plot_bgcolor\":\"rgb(237,237,237)\",\"polar\":{\"angularaxis\":{\"gridcolor\":\"white\",\"linecolor\":\"white\",\"showgrid\":true,\"tickcolor\":\"rgb(51,51,51)\",\"ticks\":\"outside\"},\"bgcolor\":\"rgb(237,237,237)\",\"radialaxis\":{\"gridcolor\":\"white\",\"linecolor\":\"white\",\"showgrid\":true,\"tickcolor\":\"rgb(51,51,51)\",\"ticks\":\"outside\"}},\"scene\":{\"xaxis\":{\"backgroundcolor\":\"rgb(237,237,237)\",\"gridcolor\":\"white\",\"gridwidth\":2,\"linecolor\":\"white\",\"showbackground\":true,\"showgrid\":true,\"tickcolor\":\"rgb(51,51,51)\",\"ticks\":\"outside\",\"zerolinecolor\":\"white\"},\"yaxis\":{\"backgroundcolor\":\"rgb(237,237,237)\",\"gridcolor\":\"white\",\"gridwidth\":2,\"linecolor\":\"white\",\"showbackground\":true,\"showgrid\":true,\"tickcolor\":\"rgb(51,51,51)\",\"ticks\":\"outside\",\"zerolinecolor\":\"white\"},\"zaxis\":{\"backgroundcolor\":\"rgb(237,237,237)\",\"gridcolor\":\"white\",\"gridwidth\":2,\"linecolor\":\"white\",\"showbackground\":true,\"showgrid\":true,\"tickcolor\":\"rgb(51,51,51)\",\"ticks\":\"outside\",\"zerolinecolor\":\"white\"}},\"shapedefaults\":{\"fillcolor\":\"black\",\"line\":{\"width\":0},\"opacity\":0.3},\"ternary\":{\"aaxis\":{\"gridcolor\":\"white\",\"linecolor\":\"white\",\"showgrid\":true,\"tickcolor\":\"rgb(51,51,51)\",\"ticks\":\"outside\"},\"baxis\":{\"gridcolor\":\"white\",\"linecolor\":\"white\",\"showgrid\":true,\"tickcolor\":\"rgb(51,51,51)\",\"ticks\":\"outside\"},\"bgcolor\":\"rgb(237,237,237)\",\"caxis\":{\"gridcolor\":\"white\",\"linecolor\":\"white\",\"showgrid\":true,\"tickcolor\":\"rgb(51,51,51)\",\"ticks\":\"outside\"}},\"xaxis\":{\"automargin\":true,\"gridcolor\":\"white\",\"linecolor\":\"white\",\"showgrid\":true,\"tickcolor\":\"rgb(51,51,51)\",\"ticks\":\"outside\",\"title\":{\"standoff\":15},\"zerolinecolor\":\"white\"},\"yaxis\":{\"automargin\":true,\"gridcolor\":\"white\",\"linecolor\":\"white\",\"showgrid\":true,\"tickcolor\":\"rgb(51,51,51)\",\"ticks\":\"outside\",\"title\":{\"standoff\":15},\"zerolinecolor\":\"white\"}}},\"xaxis\":{\"anchor\":\"y\",\"domain\":[0.0,1.0],\"title\":{\"text\":\"Час доставки (днів)\"}},\"yaxis\":{\"anchor\":\"x\",\"domain\":[0.0,1.0],\"title\":{\"text\":\"Сумарний прибуток ($)\"}},\"legend\":{\"tracegroupgap\":0},\"title\":{\"text\":\"📈 Залежність сумарного прибутку від часу доставки\"},\"font\":{\"family\":\"Arial\",\"size\":14},\"margin\":{\"l\":60,\"r\":40,\"t\":60,\"b\":60}},                        {\"responsive\": true}                    ).then(function(){\n",
              "                            \n",
              "var gd = document.getElementById('127e4cdd-aa52-40e6-9039-f52001daa363');\n",
              "var x = new MutationObserver(function (mutations, observer) {{\n",
              "        var display = window.getComputedStyle(gd).display;\n",
              "        if (!display || display === 'none') {{\n",
              "            console.log([gd, 'removed!']);\n",
              "            Plotly.purge(gd);\n",
              "            observer.disconnect();\n",
              "        }}\n",
              "}});\n",
              "\n",
              "// Listen for the removal of the full notebook cells\n",
              "var notebookContainer = gd.closest('#notebook-container');\n",
              "if (notebookContainer) {{\n",
              "    x.observe(notebookContainer, {childList: true});\n",
              "}}\n",
              "\n",
              "// Listen for the clearing of the current output cell\n",
              "var outputEl = gd.closest('.output');\n",
              "if (outputEl) {{\n",
              "    x.observe(outputEl, {childList: true});\n",
              "}}\n",
              "\n",
              "                        })                };                            </script>        </div>\n",
              "</body>\n",
              "</html>"
            ]
          },
          "metadata": {}
        }
      ]
    },
    {
      "cell_type": "markdown",
      "source": [
        "1. Явної сильної кореляції немає\n",
        "— Прибуток не зростає і не зменшується строго разом із часом доставки. Є високоприбуткові значення і при 10, і при 40 днях доставки.\n",
        "\n",
        "2. Прибуток розкиданий у широкому діапазоні\n",
        "— Це свідчить, що на прибуток впливають інші фактори (наприклад: тип товару, країна, пріоритет, канал продажу), а не лише логістика.\n",
        "\n",
        "3. Невеликий «завал» середнього прибутку на проміжку 10–20 днів\n",
        "— Там видно спад до ~$250–300k, але потім середній прибуток знову стабілізується чи навіть зростає.\n",
        "\n",
        "4. Найвищий сумарний прибуток (жовті точки) — часто не на найкоротших відвантаженнях\n",
        "— Це ще раз підтверджує, що прибуток не лінійно залежить від часу доставки."
      ],
      "metadata": {
        "id": "CzTV3olQi4pK"
      }
    },
    {
      "cell_type": "markdown",
      "source": [
        "Тепер проаналізуємо за допомогою візуалізації динаміку продажів (у часі) у розрізі категорій товарів, країн, регіонів та визначимо основні тенденції."
      ],
      "metadata": {
        "id": "_5zdrTXljU26"
      }
    },
    {
      "cell_type": "code",
      "source": [
        "# Побудова графіка з підписами\n",
        "fig = px.line(\n",
        "    category_trend,\n",
        "    x=\"Order Month\",\n",
        "    y=\"Revenue\",\n",
        "    color=\"item_type\",\n",
        "    facet_col=\"item_type\",\n",
        "    facet_col_wrap=1,\n",
        "    markers=True,\n",
        "    text=category_trend[\"Revenue\"].apply(lambda x: f\"${x/1_000_000:.1f}M\"),  # форматовані підписи\n",
        "    title=\"Динаміка продажів по топ-3 категоріях (останні 2 роки)\",\n",
        "    labels={\n",
        "        \"Order Month\": \"Місяць\",\n",
        "        \"Revenue\": \"Дохід ($)\",\n",
        "        \"item_type\": \"Категорія\"\n",
        "    },\n",
        "    color_discrete_sequence=px.colors.qualitative.Set2\n",
        ")\n",
        "\n",
        "# Оформлення\n",
        "fig.update_layout(\n",
        "    template=\"ggplot2\",\n",
        "    font=dict(family=\"Arial\", size=13),\n",
        "    height=900,\n",
        "    showlegend=False,\n",
        "    margin=dict(t=70, l=50, r=50, b=60)\n",
        ")\n",
        "\n",
        "# Покращення заголовків\n",
        "fig.for_each_annotation(lambda a: a.update(\n",
        "    text=a.text.split(\"=\")[-1].strip().title(),\n",
        "    font=dict(size=15, family=\"Arial\", color=\"black\"),\n",
        "    align=\"center\"\n",
        "))\n",
        "\n",
        "# Позиція підписів\n",
        "fig.update_traces(textposition=\"top center\", textfont_size=10)\n",
        "\n",
        "# Незалежна шкала Y\n",
        "fig.update_yaxes(matches=None)\n",
        "\n",
        "fig.show()"
      ],
      "metadata": {
        "colab": {
          "base_uri": "https://localhost:8080/",
          "height": 917
        },
        "id": "CMTDSsWYjvtX",
        "outputId": "fb4dee95-1fbc-4b99-f1f3-c4a6d6ee2a9a"
      },
      "execution_count": null,
      "outputs": [
        {
          "output_type": "display_data",
          "data": {
            "text/html": [
              "<html>\n",
              "<head><meta charset=\"utf-8\" /></head>\n",
              "<body>\n",
              "    <div>            <script src=\"https://cdnjs.cloudflare.com/ajax/libs/mathjax/2.7.5/MathJax.js?config=TeX-AMS-MML_SVG\"></script><script type=\"text/javascript\">if (window.MathJax && window.MathJax.Hub && window.MathJax.Hub.Config) {window.MathJax.Hub.Config({SVG: {font: \"STIX-Web\"}});}</script>                <script type=\"text/javascript\">window.PlotlyConfig = {MathJaxConfig: 'local'};</script>\n",
              "        <script charset=\"utf-8\" src=\"https://cdn.plot.ly/plotly-2.35.2.min.js\"></script>                <div id=\"8bc50941-56a9-4915-a4f1-78cd7690150d\" class=\"plotly-graph-div\" style=\"height:900px; width:100%;\"></div>            <script type=\"text/javascript\">                                    window.PLOTLYENV=window.PLOTLYENV || {};                                    if (document.getElementById(\"8bc50941-56a9-4915-a4f1-78cd7690150d\")) {                    Plotly.newPlot(                        \"8bc50941-56a9-4915-a4f1-78cd7690150d\",                        [{\"hovertemplate\":\"Категорія=household\\u003cbr\\u003eМісяць=%{x}\\u003cbr\\u003eДохід ($)=%{y}\\u003cbr\\u003etext=%{text}\\u003cextra\\u003e\\u003c\\u002fextra\\u003e\",\"legendgroup\":\"household\",\"line\":{\"color\":\"rgb(102,194,165)\",\"dash\":\"solid\"},\"marker\":{\"symbol\":\"circle\"},\"mode\":\"lines+markers+text\",\"name\":\"household\",\"orientation\":\"v\",\"showlegend\":true,\"text\":[\"$3.4M\",\"$1.2M\",\"$0.9M\",\"$12.2M\",\"$14.0M\",\"$3.9M\",\"$3.2M\",\"$3.8M\",\"$10.9M\",\"$5.0M\",\"$0.4M\",\"$1.8M\"],\"x\":[\"2016-01\",\"2016-03\",\"2016-05\",\"2016-07\",\"2016-08\",\"2016-09\",\"2016-11\",\"2016-12\",\"2017-02\",\"2017-04\",\"2017-05\",\"2017-07\"],\"xaxis\":\"x3\",\"y\":[3424215.48,1164794.6099999999,910183.74,12228672.73,13951472.79,3857922.71,3224402.75,3780403.3899999997,10903493.32,4955890.32,400962.0,1821704.02],\"yaxis\":\"y3\",\"type\":\"scatter\",\"textfont\":{\"size\":10},\"textposition\":\"top center\"},{\"hovertemplate\":\"Категорія=office supplies\\u003cbr\\u003eМісяць=%{x}\\u003cbr\\u003eДохід ($)=%{y}\\u003cbr\\u003etext=%{text}\\u003cextra\\u003e\\u003c\\u002fextra\\u003e\",\"legendgroup\":\"office supplies\",\"line\":{\"color\":\"rgb(252,141,98)\",\"dash\":\"solid\"},\"marker\":{\"symbol\":\"circle\"},\"mode\":\"lines+markers+text\",\"name\":\"office supplies\",\"orientation\":\"v\",\"showlegend\":true,\"text\":[\"$5.9M\",\"$3.5M\",\"$2.8M\",\"$4.4M\",\"$7.6M\",\"$5.3M\",\"$0.9M\",\"$4.9M\",\"$3.1M\",\"$3.7M\",\"$1.2M\",\"$11.6M\",\"$2.9M\",\"$9.2M\",\"$1.4M\",\"$7.7M\"],\"x\":[\"2016-01\",\"2016-03\",\"2016-04\",\"2016-05\",\"2016-06\",\"2016-07\",\"2016-08\",\"2016-09\",\"2016-11\",\"2016-12\",\"2017-02\",\"2017-03\",\"2017-04\",\"2017-05\",\"2017-06\",\"2017-07\"],\"xaxis\":\"x2\",\"y\":[5904521.07,3500253.7500000005,2825600.19,4391760.24,7595713.44,5294988.510000001,873923.8200000001,4934218.17,3146646.72,3659148.99,1245764.73,11644286.010000002,2949330.0900000003,9220482.39,1436569.26,7714884.870000001],\"yaxis\":\"y2\",\"type\":\"scatter\",\"textfont\":{\"size\":10},\"textposition\":\"top center\"},{\"hovertemplate\":\"Категорія=cosmetics\\u003cbr\\u003eМісяць=%{x}\\u003cbr\\u003eДохід ($)=%{y}\\u003cbr\\u003etext=%{text}\\u003cextra\\u003e\\u003c\\u002fextra\\u003e\",\"legendgroup\":\"cosmetics\",\"line\":{\"color\":\"rgb(141,160,203)\",\"dash\":\"solid\"},\"marker\":{\"symbol\":\"circle\"},\"mode\":\"lines+markers+text\",\"name\":\"cosmetics\",\"orientation\":\"v\",\"showlegend\":true,\"text\":[\"$4.2M\",\"$1.5M\",\"$4.6M\",\"$0.7M\",\"$4.2M\",\"$3.1M\",\"$8.9M\",\"$0.5M\",\"$3.3M\",\"$6.9M\",\"$7.6M\"],\"x\":[\"2016-02\",\"2016-03\",\"2016-07\",\"2016-08\",\"2016-09\",\"2016-10\",\"2017-01\",\"2017-04\",\"2017-05\",\"2017-06\",\"2017-07\"],\"xaxis\":\"x\",\"y\":[4237779.6,1524079.2,4611148.4,710450.0,4205426.8,3113738.4,8934619.2,539504.7999999999,3250144.8000000003,6886774.399999999,7629577.199999999],\"yaxis\":\"y\",\"type\":\"scatter\",\"textfont\":{\"size\":10},\"textposition\":\"top center\"}],                        {\"template\":{\"data\":{\"barpolar\":[{\"marker\":{\"line\":{\"color\":\"rgb(237,237,237)\",\"width\":0.5},\"pattern\":{\"fillmode\":\"overlay\",\"size\":10,\"solidity\":0.2}},\"type\":\"barpolar\"}],\"bar\":[{\"error_x\":{\"color\":\"rgb(51,51,51)\"},\"error_y\":{\"color\":\"rgb(51,51,51)\"},\"marker\":{\"line\":{\"color\":\"rgb(237,237,237)\",\"width\":0.5},\"pattern\":{\"fillmode\":\"overlay\",\"size\":10,\"solidity\":0.2}},\"type\":\"bar\"}],\"carpet\":[{\"aaxis\":{\"endlinecolor\":\"rgb(51,51,51)\",\"gridcolor\":\"white\",\"linecolor\":\"white\",\"minorgridcolor\":\"white\",\"startlinecolor\":\"rgb(51,51,51)\"},\"baxis\":{\"endlinecolor\":\"rgb(51,51,51)\",\"gridcolor\":\"white\",\"linecolor\":\"white\",\"minorgridcolor\":\"white\",\"startlinecolor\":\"rgb(51,51,51)\"},\"type\":\"carpet\"}],\"choropleth\":[{\"colorbar\":{\"outlinewidth\":0,\"tickcolor\":\"rgb(237,237,237)\",\"ticklen\":6,\"ticks\":\"inside\"},\"type\":\"choropleth\"}],\"contourcarpet\":[{\"colorbar\":{\"outlinewidth\":0,\"tickcolor\":\"rgb(237,237,237)\",\"ticklen\":6,\"ticks\":\"inside\"},\"type\":\"contourcarpet\"}],\"contour\":[{\"colorbar\":{\"outlinewidth\":0,\"tickcolor\":\"rgb(237,237,237)\",\"ticklen\":6,\"ticks\":\"inside\"},\"colorscale\":[[0,\"rgb(20,44,66)\"],[1,\"rgb(90,179,244)\"]],\"type\":\"contour\"}],\"heatmapgl\":[{\"colorbar\":{\"outlinewidth\":0,\"tickcolor\":\"rgb(237,237,237)\",\"ticklen\":6,\"ticks\":\"inside\"},\"colorscale\":[[0,\"rgb(20,44,66)\"],[1,\"rgb(90,179,244)\"]],\"type\":\"heatmapgl\"}],\"heatmap\":[{\"colorbar\":{\"outlinewidth\":0,\"tickcolor\":\"rgb(237,237,237)\",\"ticklen\":6,\"ticks\":\"inside\"},\"colorscale\":[[0,\"rgb(20,44,66)\"],[1,\"rgb(90,179,244)\"]],\"type\":\"heatmap\"}],\"histogram2dcontour\":[{\"colorbar\":{\"outlinewidth\":0,\"tickcolor\":\"rgb(237,237,237)\",\"ticklen\":6,\"ticks\":\"inside\"},\"colorscale\":[[0,\"rgb(20,44,66)\"],[1,\"rgb(90,179,244)\"]],\"type\":\"histogram2dcontour\"}],\"histogram2d\":[{\"colorbar\":{\"outlinewidth\":0,\"tickcolor\":\"rgb(237,237,237)\",\"ticklen\":6,\"ticks\":\"inside\"},\"colorscale\":[[0,\"rgb(20,44,66)\"],[1,\"rgb(90,179,244)\"]],\"type\":\"histogram2d\"}],\"histogram\":[{\"marker\":{\"pattern\":{\"fillmode\":\"overlay\",\"size\":10,\"solidity\":0.2}},\"type\":\"histogram\"}],\"mesh3d\":[{\"colorbar\":{\"outlinewidth\":0,\"tickcolor\":\"rgb(237,237,237)\",\"ticklen\":6,\"ticks\":\"inside\"},\"type\":\"mesh3d\"}],\"parcoords\":[{\"line\":{\"colorbar\":{\"outlinewidth\":0,\"tickcolor\":\"rgb(237,237,237)\",\"ticklen\":6,\"ticks\":\"inside\"}},\"type\":\"parcoords\"}],\"pie\":[{\"automargin\":true,\"type\":\"pie\"}],\"scatter3d\":[{\"line\":{\"colorbar\":{\"outlinewidth\":0,\"tickcolor\":\"rgb(237,237,237)\",\"ticklen\":6,\"ticks\":\"inside\"}},\"marker\":{\"colorbar\":{\"outlinewidth\":0,\"tickcolor\":\"rgb(237,237,237)\",\"ticklen\":6,\"ticks\":\"inside\"}},\"type\":\"scatter3d\"}],\"scattercarpet\":[{\"marker\":{\"colorbar\":{\"outlinewidth\":0,\"tickcolor\":\"rgb(237,237,237)\",\"ticklen\":6,\"ticks\":\"inside\"}},\"type\":\"scattercarpet\"}],\"scattergeo\":[{\"marker\":{\"colorbar\":{\"outlinewidth\":0,\"tickcolor\":\"rgb(237,237,237)\",\"ticklen\":6,\"ticks\":\"inside\"}},\"type\":\"scattergeo\"}],\"scattergl\":[{\"marker\":{\"colorbar\":{\"outlinewidth\":0,\"tickcolor\":\"rgb(237,237,237)\",\"ticklen\":6,\"ticks\":\"inside\"}},\"type\":\"scattergl\"}],\"scattermapbox\":[{\"marker\":{\"colorbar\":{\"outlinewidth\":0,\"tickcolor\":\"rgb(237,237,237)\",\"ticklen\":6,\"ticks\":\"inside\"}},\"type\":\"scattermapbox\"}],\"scatterpolargl\":[{\"marker\":{\"colorbar\":{\"outlinewidth\":0,\"tickcolor\":\"rgb(237,237,237)\",\"ticklen\":6,\"ticks\":\"inside\"}},\"type\":\"scatterpolargl\"}],\"scatterpolar\":[{\"marker\":{\"colorbar\":{\"outlinewidth\":0,\"tickcolor\":\"rgb(237,237,237)\",\"ticklen\":6,\"ticks\":\"inside\"}},\"type\":\"scatterpolar\"}],\"scatter\":[{\"fillpattern\":{\"fillmode\":\"overlay\",\"size\":10,\"solidity\":0.2},\"type\":\"scatter\"}],\"scatterternary\":[{\"marker\":{\"colorbar\":{\"outlinewidth\":0,\"tickcolor\":\"rgb(237,237,237)\",\"ticklen\":6,\"ticks\":\"inside\"}},\"type\":\"scatterternary\"}],\"surface\":[{\"colorbar\":{\"outlinewidth\":0,\"tickcolor\":\"rgb(237,237,237)\",\"ticklen\":6,\"ticks\":\"inside\"},\"colorscale\":[[0,\"rgb(20,44,66)\"],[1,\"rgb(90,179,244)\"]],\"type\":\"surface\"}],\"table\":[{\"cells\":{\"fill\":{\"color\":\"rgb(237,237,237)\"},\"line\":{\"color\":\"white\"}},\"header\":{\"fill\":{\"color\":\"rgb(217,217,217)\"},\"line\":{\"color\":\"white\"}},\"type\":\"table\"}]},\"layout\":{\"annotationdefaults\":{\"arrowhead\":0,\"arrowwidth\":1},\"autotypenumbers\":\"strict\",\"coloraxis\":{\"colorbar\":{\"outlinewidth\":0,\"tickcolor\":\"rgb(237,237,237)\",\"ticklen\":6,\"ticks\":\"inside\"}},\"colorscale\":{\"sequential\":[[0,\"rgb(20,44,66)\"],[1,\"rgb(90,179,244)\"]],\"sequentialminus\":[[0,\"rgb(20,44,66)\"],[1,\"rgb(90,179,244)\"]]},\"colorway\":[\"#F8766D\",\"#A3A500\",\"#00BF7D\",\"#00B0F6\",\"#E76BF3\"],\"font\":{\"color\":\"rgb(51,51,51)\"},\"geo\":{\"bgcolor\":\"white\",\"lakecolor\":\"white\",\"landcolor\":\"rgb(237,237,237)\",\"showlakes\":true,\"showland\":true,\"subunitcolor\":\"white\"},\"hoverlabel\":{\"align\":\"left\"},\"hovermode\":\"closest\",\"paper_bgcolor\":\"white\",\"plot_bgcolor\":\"rgb(237,237,237)\",\"polar\":{\"angularaxis\":{\"gridcolor\":\"white\",\"linecolor\":\"white\",\"showgrid\":true,\"tickcolor\":\"rgb(51,51,51)\",\"ticks\":\"outside\"},\"bgcolor\":\"rgb(237,237,237)\",\"radialaxis\":{\"gridcolor\":\"white\",\"linecolor\":\"white\",\"showgrid\":true,\"tickcolor\":\"rgb(51,51,51)\",\"ticks\":\"outside\"}},\"scene\":{\"xaxis\":{\"backgroundcolor\":\"rgb(237,237,237)\",\"gridcolor\":\"white\",\"gridwidth\":2,\"linecolor\":\"white\",\"showbackground\":true,\"showgrid\":true,\"tickcolor\":\"rgb(51,51,51)\",\"ticks\":\"outside\",\"zerolinecolor\":\"white\"},\"yaxis\":{\"backgroundcolor\":\"rgb(237,237,237)\",\"gridcolor\":\"white\",\"gridwidth\":2,\"linecolor\":\"white\",\"showbackground\":true,\"showgrid\":true,\"tickcolor\":\"rgb(51,51,51)\",\"ticks\":\"outside\",\"zerolinecolor\":\"white\"},\"zaxis\":{\"backgroundcolor\":\"rgb(237,237,237)\",\"gridcolor\":\"white\",\"gridwidth\":2,\"linecolor\":\"white\",\"showbackground\":true,\"showgrid\":true,\"tickcolor\":\"rgb(51,51,51)\",\"ticks\":\"outside\",\"zerolinecolor\":\"white\"}},\"shapedefaults\":{\"fillcolor\":\"black\",\"line\":{\"width\":0},\"opacity\":0.3},\"ternary\":{\"aaxis\":{\"gridcolor\":\"white\",\"linecolor\":\"white\",\"showgrid\":true,\"tickcolor\":\"rgb(51,51,51)\",\"ticks\":\"outside\"},\"baxis\":{\"gridcolor\":\"white\",\"linecolor\":\"white\",\"showgrid\":true,\"tickcolor\":\"rgb(51,51,51)\",\"ticks\":\"outside\"},\"bgcolor\":\"rgb(237,237,237)\",\"caxis\":{\"gridcolor\":\"white\",\"linecolor\":\"white\",\"showgrid\":true,\"tickcolor\":\"rgb(51,51,51)\",\"ticks\":\"outside\"}},\"xaxis\":{\"automargin\":true,\"gridcolor\":\"white\",\"linecolor\":\"white\",\"showgrid\":true,\"tickcolor\":\"rgb(51,51,51)\",\"ticks\":\"outside\",\"title\":{\"standoff\":15},\"zerolinecolor\":\"white\"},\"yaxis\":{\"automargin\":true,\"gridcolor\":\"white\",\"linecolor\":\"white\",\"showgrid\":true,\"tickcolor\":\"rgb(51,51,51)\",\"ticks\":\"outside\",\"title\":{\"standoff\":15},\"zerolinecolor\":\"white\"}}},\"xaxis\":{\"anchor\":\"y\",\"domain\":[0.0,1.0],\"title\":{\"text\":\"Місяць\"}},\"yaxis\":{\"anchor\":\"x\",\"domain\":[0.0,0.2866666666666666],\"title\":{\"text\":\"Дохід ($)\"}},\"xaxis2\":{\"anchor\":\"y2\",\"domain\":[0.0,1.0],\"matches\":\"x\",\"showticklabels\":false},\"yaxis2\":{\"anchor\":\"x2\",\"domain\":[0.35666666666666663,0.6433333333333333],\"title\":{\"text\":\"Дохід ($)\"}},\"xaxis3\":{\"anchor\":\"y3\",\"domain\":[0.0,1.0],\"matches\":\"x\",\"showticklabels\":false},\"yaxis3\":{\"anchor\":\"x3\",\"domain\":[0.7133333333333333,0.9999999999999999],\"title\":{\"text\":\"Дохід ($)\"}},\"annotations\":[{\"font\":{\"size\":15,\"family\":\"Arial\",\"color\":\"black\"},\"showarrow\":false,\"text\":\"Cosmetics\",\"x\":0.5,\"xanchor\":\"center\",\"xref\":\"paper\",\"y\":0.2866666666666666,\"yanchor\":\"bottom\",\"yref\":\"paper\",\"align\":\"center\"},{\"font\":{\"size\":15,\"family\":\"Arial\",\"color\":\"black\"},\"showarrow\":false,\"text\":\"Office Supplies\",\"x\":0.5,\"xanchor\":\"center\",\"xref\":\"paper\",\"y\":0.6433333333333333,\"yanchor\":\"bottom\",\"yref\":\"paper\",\"align\":\"center\"},{\"font\":{\"size\":15,\"family\":\"Arial\",\"color\":\"black\"},\"showarrow\":false,\"text\":\"Household\",\"x\":0.5,\"xanchor\":\"center\",\"xref\":\"paper\",\"y\":0.9999999999999999,\"yanchor\":\"bottom\",\"yref\":\"paper\",\"align\":\"center\"}],\"legend\":{\"title\":{\"text\":\"Категорія\"},\"tracegroupgap\":0},\"title\":{\"text\":\"Динаміка продажів по топ-3 категоріях (останні 2 роки)\"},\"font\":{\"family\":\"Arial\",\"size\":13},\"margin\":{\"t\":70,\"l\":50,\"r\":50,\"b\":60},\"height\":900,\"showlegend\":false},                        {\"responsive\": true}                    ).then(function(){\n",
              "                            \n",
              "var gd = document.getElementById('8bc50941-56a9-4915-a4f1-78cd7690150d');\n",
              "var x = new MutationObserver(function (mutations, observer) {{\n",
              "        var display = window.getComputedStyle(gd).display;\n",
              "        if (!display || display === 'none') {{\n",
              "            console.log([gd, 'removed!']);\n",
              "            Plotly.purge(gd);\n",
              "            observer.disconnect();\n",
              "        }}\n",
              "}});\n",
              "\n",
              "// Listen for the removal of the full notebook cells\n",
              "var notebookContainer = gd.closest('#notebook-container');\n",
              "if (notebookContainer) {{\n",
              "    x.observe(notebookContainer, {childList: true});\n",
              "}}\n",
              "\n",
              "// Listen for the clearing of the current output cell\n",
              "var outputEl = gd.closest('.output');\n",
              "if (outputEl) {{\n",
              "    x.observe(outputEl, {childList: true});\n",
              "}}\n",
              "\n",
              "                        })                };                            </script>        </div>\n",
              "</body>\n",
              "</html>"
            ]
          },
          "metadata": {}
        }
      ]
    },
    {
      "cell_type": "markdown",
      "source": [
        "1. Household — найбільш волатильна категорія\n",
        "\n",
        "У середині 2016 року (липень–серпень) спостерігається стрімкий пік (≈14M), потім різке падіння.\n",
        "\n",
        "Це може вказувати на:\n",
        "- сезонний попит (наприклад, літні ремонти, переїзди);\n",
        "- маркетингову кампанію або промоції;\n",
        "- разову закупівлю великими клієнтами (наприклад, корпоративні чи урядові контракти).\n",
        "\n",
        "2. Office supplies — стабільні, але з періодичними сплесками\n",
        "\n",
        "Категорія має регулярні хвилі — зростання навесні (квітень–травень) та наприкінці зими (лютий–березень).\n",
        "\n",
        "Це може вказувати на:\n",
        "- закупівлі в бюджетних організаціях (початок фінансового року, закупівлі до нового кварталу);\n",
        "- офісні перезапуски після свят чи літніх канікул.\n",
        "\n",
        "3. Cosmetics — зростання взимку та весною 2017\n",
        "\n",
        "Починаючи з грудня 2016 до березня 2017 спостерігається стійке зростання.\n",
        "\n",
        "Імовірно пов’язане з:\n",
        "- святковими закупівлями (Різдво, Новий рік, 8 березня);\n",
        "- сезонною зміною попиту (зимовий догляд, подарункові набори)."
      ],
      "metadata": {
        "id": "ogBHBtWVlY_K"
      }
    },
    {
      "cell_type": "code",
      "source": [
        "fig = px.line(\n",
        "    country_trend,\n",
        "    x=\"Order Month\",\n",
        "    y=\"Revenue Smoothed\",\n",
        "    facet_col=\"country name\",\n",
        "    facet_col_wrap=2,\n",
        "    markers=True,\n",
        "    text=country_trend[\"Revenue Smoothed\"].apply(lambda x: f\"${x/1_000_000:.1f}M\"),\n",
        "    title=\"📊 Динаміка продажів по топ-5 країнах (останні 2 роки)\",\n",
        "    labels={\n",
        "        \"Order Month\": \"Місяць\",\n",
        "        \"Revenue Smoothed\": \"Дохід ($)\",\n",
        "        \"country name\": \"Країна\"\n",
        "    },\n",
        "    template=\"ggplot2\",\n",
        "    color_discrete_sequence=[\"#74c476\"]\n",
        ")\n",
        "\n",
        "fig.update_traces(\n",
        "    line=dict(width=2),\n",
        "    marker=dict(size=6),\n",
        "    textposition=\"top center\",\n",
        "    textfont_size=10\n",
        ")\n",
        "\n",
        "fig.update_layout(\n",
        "    font=dict(family=\"Arial\", size=13),\n",
        "    height=900,\n",
        "    showlegend=False,\n",
        "    margin=dict(t=70, l=50, r=50, b=60)\n",
        ")\n",
        "\n",
        "for axis in fig.layout:\n",
        "    if axis.startswith(\"xaxis\"):\n",
        "        fig.layout[axis].showticklabels = True\n",
        "        fig.layout[axis].tickformat = \"%b\\n%Y\"\n",
        "\n",
        "fig.for_each_annotation(lambda a: a.update(\n",
        "    text=a.text.split(\"=\")[-1].strip().title(),\n",
        "    font=dict(size=15, family=\"Arial\", color=\"black\"),\n",
        "    align=\"center\"\n",
        "))\n",
        "\n",
        "fig.update_yaxes(matches=None)\n",
        "fig.show()\n"
      ],
      "metadata": {
        "colab": {
          "base_uri": "https://localhost:8080/",
          "height": 917
        },
        "id": "y1mdl8dNkW45",
        "outputId": "51da908a-dbc5-4000-f3fe-2780c6c066da"
      },
      "execution_count": null,
      "outputs": [
        {
          "output_type": "display_data",
          "data": {
            "text/html": [
              "<html>\n",
              "<head><meta charset=\"utf-8\" /></head>\n",
              "<body>\n",
              "    <div>            <script src=\"https://cdnjs.cloudflare.com/ajax/libs/mathjax/2.7.5/MathJax.js?config=TeX-AMS-MML_SVG\"></script><script type=\"text/javascript\">if (window.MathJax && window.MathJax.Hub && window.MathJax.Hub.Config) {window.MathJax.Hub.Config({SVG: {font: \"STIX-Web\"}});}</script>                <script type=\"text/javascript\">window.PlotlyConfig = {MathJaxConfig: 'local'};</script>\n",
              "        <script charset=\"utf-8\" src=\"https://cdn.plot.ly/plotly-2.35.2.min.js\"></script>                <div id=\"82f98f52-09a6-4d72-a67e-9677250a39ca\" class=\"plotly-graph-div\" style=\"height:900px; width:100%;\"></div>            <script type=\"text/javascript\">                                    window.PLOTLYENV=window.PLOTLYENV || {};                                    if (document.getElementById(\"82f98f52-09a6-4d72-a67e-9677250a39ca\")) {                    Plotly.newPlot(                        \"82f98f52-09a6-4d72-a67e-9677250a39ca\",                        [{\"hovertemplate\":\"Країна=andorra\\u003cbr\\u003eМісяць=%{x}\\u003cbr\\u003eДохід ($)=%{y}\\u003cbr\\u003etext=%{text}\\u003cextra\\u003e\\u003c\\u002fextra\\u003e\",\"legendgroup\":\"\",\"line\":{\"color\":\"#74c476\",\"dash\":\"solid\",\"width\":2},\"marker\":{\"symbol\":\"circle\",\"size\":6},\"mode\":\"lines+markers+text\",\"name\":\"\",\"orientation\":\"v\",\"showlegend\":false,\"text\":[\"$3.3M\",\"$1.7M\",\"$1.2M\",\"$0.1M\",\"$2.3M\",\"$3.1M\",\"$4.1M\",\"$2.0M\",\"$1.3M\"],\"x\":[\"2016-02\",\"2016-03\",\"2016-04\",\"2016-06\",\"2016-08\",\"2016-10\",\"2016-11\",\"2017-05\",\"2017-06\"],\"xaxis\":\"x5\",\"y\":[3274190.8,1661623.97,1163645.4133333333,95138.08,2271269.98,3109425.66,4055082.0466666664,1954793.66,1331886.6533333333],\"yaxis\":\"y5\",\"type\":\"scatter\",\"textfont\":{\"size\":10},\"textposition\":\"top center\"},{\"hovertemplate\":\"Країна=latvia\\u003cbr\\u003eМісяць=%{x}\\u003cbr\\u003eДохід ($)=%{y}\\u003cbr\\u003etext=%{text}\\u003cextra\\u003e\\u003c\\u002fextra\\u003e\",\"legendgroup\":\"\",\"line\":{\"color\":\"#74c476\",\"dash\":\"solid\",\"width\":2},\"marker\":{\"symbol\":\"circle\",\"size\":6},\"mode\":\"lines+markers+text\",\"name\":\"\",\"orientation\":\"v\",\"showlegend\":false,\"text\":[\"$0.4M\",\"$2.7M\",\"$2.0M\",\"$2.6M\",\"$1.4M\",\"$2.6M\"],\"x\":[\"2016-02\",\"2016-08\",\"2016-10\",\"2017-03\",\"2017-04\",\"2017-05\"],\"xaxis\":\"x6\",\"y\":[427714.30000000005,2695143.6599999997,1977474.8199999996,2635906.2066666665,1443778.3,2627785.01],\"yaxis\":\"y6\",\"type\":\"scatter\",\"textfont\":{\"size\":10},\"textposition\":\"top center\"},{\"hovertemplate\":\"Країна=macedonia\\u003cbr\\u003eМісяць=%{x}\\u003cbr\\u003eДохід ($)=%{y}\\u003cbr\\u003etext=%{text}\\u003cextra\\u003e\\u003c\\u002fextra\\u003e\",\"legendgroup\":\"\",\"line\":{\"color\":\"#74c476\",\"dash\":\"solid\",\"width\":2},\"marker\":{\"symbol\":\"circle\",\"size\":6},\"mode\":\"lines+markers+text\",\"name\":\"\",\"orientation\":\"v\",\"showlegend\":false,\"text\":[\"$0.2M\",\"$0.7M\",\"$1.1M\",\"$1.4M\",\"$1.3M\",\"$2.1M\",\"$4.6M\"],\"x\":[\"2016-02\",\"2016-03\",\"2016-06\",\"2016-08\",\"2016-09\",\"2017-02\",\"2017-07\"],\"xaxis\":\"x3\",\"y\":[222777.75,725370.795,1113083.53,1373876.76,1269019.4266666668,2107766.1166666667,4605845.82],\"yaxis\":\"y3\",\"type\":\"scatter\",\"textfont\":{\"size\":10},\"textposition\":\"top center\"},{\"hovertemplate\":\"Країна=san marino\\u003cbr\\u003eМісяць=%{x}\\u003cbr\\u003eДохід ($)=%{y}\\u003cbr\\u003etext=%{text}\\u003cextra\\u003e\\u003c\\u002fextra\\u003e\",\"legendgroup\":\"\",\"line\":{\"color\":\"#74c476\",\"dash\":\"solid\",\"width\":2},\"marker\":{\"symbol\":\"circle\",\"size\":6},\"mode\":\"lines+markers+text\",\"name\":\"\",\"orientation\":\"v\",\"showlegend\":false,\"text\":[\"$0.1M\",\"$2.3M\",\"$1.8M\",\"$2.0M\",\"$0.5M\",\"$1.4M\",\"$1.3M\",\"$3.1M\",\"$2.1M\"],\"x\":[\"2016-01\",\"2016-05\",\"2016-06\",\"2016-07\",\"2016-09\",\"2016-10\",\"2017-01\",\"2017-03\",\"2017-07\"],\"xaxis\":\"x4\",\"y\":[75797.52,2305289.235,1783646.2299999997,1994062.4666666668,503187.63666666666,1383176.0966666667,1295089.74,3140521.7100000004,2140946.79],\"yaxis\":\"y4\",\"type\":\"scatter\",\"textfont\":{\"size\":10},\"textposition\":\"top center\"},{\"hovertemplate\":\"Країна=ukraine\\u003cbr\\u003eМісяць=%{x}\\u003cbr\\u003eДохід ($)=%{y}\\u003cbr\\u003etext=%{text}\\u003cextra\\u003e\\u003c\\u002fextra\\u003e\",\"legendgroup\":\"\",\"line\":{\"color\":\"#74c476\",\"dash\":\"solid\",\"width\":2},\"marker\":{\"symbol\":\"circle\",\"size\":6},\"mode\":\"lines+markers+text\",\"name\":\"\",\"orientation\":\"v\",\"showlegend\":false,\"text\":[\"$0.2M\",\"$0.1M\",\"$1.9M\",\"$2.3M\",\"$4.0M\",\"$2.4M\"],\"x\":[\"2016-01\",\"2016-03\",\"2016-09\",\"2017-04\",\"2017-05\",\"2017-06\"],\"xaxis\":\"x\",\"y\":[220172.94000000003,120831.43500000001,1921342.0,2300423.4899999998,4002035.22,2449070.8433333333],\"yaxis\":\"y\",\"type\":\"scatter\",\"textfont\":{\"size\":10},\"textposition\":\"top center\"}],                        {\"template\":{\"data\":{\"barpolar\":[{\"marker\":{\"line\":{\"color\":\"rgb(237,237,237)\",\"width\":0.5},\"pattern\":{\"fillmode\":\"overlay\",\"size\":10,\"solidity\":0.2}},\"type\":\"barpolar\"}],\"bar\":[{\"error_x\":{\"color\":\"rgb(51,51,51)\"},\"error_y\":{\"color\":\"rgb(51,51,51)\"},\"marker\":{\"line\":{\"color\":\"rgb(237,237,237)\",\"width\":0.5},\"pattern\":{\"fillmode\":\"overlay\",\"size\":10,\"solidity\":0.2}},\"type\":\"bar\"}],\"carpet\":[{\"aaxis\":{\"endlinecolor\":\"rgb(51,51,51)\",\"gridcolor\":\"white\",\"linecolor\":\"white\",\"minorgridcolor\":\"white\",\"startlinecolor\":\"rgb(51,51,51)\"},\"baxis\":{\"endlinecolor\":\"rgb(51,51,51)\",\"gridcolor\":\"white\",\"linecolor\":\"white\",\"minorgridcolor\":\"white\",\"startlinecolor\":\"rgb(51,51,51)\"},\"type\":\"carpet\"}],\"choropleth\":[{\"colorbar\":{\"outlinewidth\":0,\"tickcolor\":\"rgb(237,237,237)\",\"ticklen\":6,\"ticks\":\"inside\"},\"type\":\"choropleth\"}],\"contourcarpet\":[{\"colorbar\":{\"outlinewidth\":0,\"tickcolor\":\"rgb(237,237,237)\",\"ticklen\":6,\"ticks\":\"inside\"},\"type\":\"contourcarpet\"}],\"contour\":[{\"colorbar\":{\"outlinewidth\":0,\"tickcolor\":\"rgb(237,237,237)\",\"ticklen\":6,\"ticks\":\"inside\"},\"colorscale\":[[0,\"rgb(20,44,66)\"],[1,\"rgb(90,179,244)\"]],\"type\":\"contour\"}],\"heatmapgl\":[{\"colorbar\":{\"outlinewidth\":0,\"tickcolor\":\"rgb(237,237,237)\",\"ticklen\":6,\"ticks\":\"inside\"},\"colorscale\":[[0,\"rgb(20,44,66)\"],[1,\"rgb(90,179,244)\"]],\"type\":\"heatmapgl\"}],\"heatmap\":[{\"colorbar\":{\"outlinewidth\":0,\"tickcolor\":\"rgb(237,237,237)\",\"ticklen\":6,\"ticks\":\"inside\"},\"colorscale\":[[0,\"rgb(20,44,66)\"],[1,\"rgb(90,179,244)\"]],\"type\":\"heatmap\"}],\"histogram2dcontour\":[{\"colorbar\":{\"outlinewidth\":0,\"tickcolor\":\"rgb(237,237,237)\",\"ticklen\":6,\"ticks\":\"inside\"},\"colorscale\":[[0,\"rgb(20,44,66)\"],[1,\"rgb(90,179,244)\"]],\"type\":\"histogram2dcontour\"}],\"histogram2d\":[{\"colorbar\":{\"outlinewidth\":0,\"tickcolor\":\"rgb(237,237,237)\",\"ticklen\":6,\"ticks\":\"inside\"},\"colorscale\":[[0,\"rgb(20,44,66)\"],[1,\"rgb(90,179,244)\"]],\"type\":\"histogram2d\"}],\"histogram\":[{\"marker\":{\"pattern\":{\"fillmode\":\"overlay\",\"size\":10,\"solidity\":0.2}},\"type\":\"histogram\"}],\"mesh3d\":[{\"colorbar\":{\"outlinewidth\":0,\"tickcolor\":\"rgb(237,237,237)\",\"ticklen\":6,\"ticks\":\"inside\"},\"type\":\"mesh3d\"}],\"parcoords\":[{\"line\":{\"colorbar\":{\"outlinewidth\":0,\"tickcolor\":\"rgb(237,237,237)\",\"ticklen\":6,\"ticks\":\"inside\"}},\"type\":\"parcoords\"}],\"pie\":[{\"automargin\":true,\"type\":\"pie\"}],\"scatter3d\":[{\"line\":{\"colorbar\":{\"outlinewidth\":0,\"tickcolor\":\"rgb(237,237,237)\",\"ticklen\":6,\"ticks\":\"inside\"}},\"marker\":{\"colorbar\":{\"outlinewidth\":0,\"tickcolor\":\"rgb(237,237,237)\",\"ticklen\":6,\"ticks\":\"inside\"}},\"type\":\"scatter3d\"}],\"scattercarpet\":[{\"marker\":{\"colorbar\":{\"outlinewidth\":0,\"tickcolor\":\"rgb(237,237,237)\",\"ticklen\":6,\"ticks\":\"inside\"}},\"type\":\"scattercarpet\"}],\"scattergeo\":[{\"marker\":{\"colorbar\":{\"outlinewidth\":0,\"tickcolor\":\"rgb(237,237,237)\",\"ticklen\":6,\"ticks\":\"inside\"}},\"type\":\"scattergeo\"}],\"scattergl\":[{\"marker\":{\"colorbar\":{\"outlinewidth\":0,\"tickcolor\":\"rgb(237,237,237)\",\"ticklen\":6,\"ticks\":\"inside\"}},\"type\":\"scattergl\"}],\"scattermapbox\":[{\"marker\":{\"colorbar\":{\"outlinewidth\":0,\"tickcolor\":\"rgb(237,237,237)\",\"ticklen\":6,\"ticks\":\"inside\"}},\"type\":\"scattermapbox\"}],\"scatterpolargl\":[{\"marker\":{\"colorbar\":{\"outlinewidth\":0,\"tickcolor\":\"rgb(237,237,237)\",\"ticklen\":6,\"ticks\":\"inside\"}},\"type\":\"scatterpolargl\"}],\"scatterpolar\":[{\"marker\":{\"colorbar\":{\"outlinewidth\":0,\"tickcolor\":\"rgb(237,237,237)\",\"ticklen\":6,\"ticks\":\"inside\"}},\"type\":\"scatterpolar\"}],\"scatter\":[{\"fillpattern\":{\"fillmode\":\"overlay\",\"size\":10,\"solidity\":0.2},\"type\":\"scatter\"}],\"scatterternary\":[{\"marker\":{\"colorbar\":{\"outlinewidth\":0,\"tickcolor\":\"rgb(237,237,237)\",\"ticklen\":6,\"ticks\":\"inside\"}},\"type\":\"scatterternary\"}],\"surface\":[{\"colorbar\":{\"outlinewidth\":0,\"tickcolor\":\"rgb(237,237,237)\",\"ticklen\":6,\"ticks\":\"inside\"},\"colorscale\":[[0,\"rgb(20,44,66)\"],[1,\"rgb(90,179,244)\"]],\"type\":\"surface\"}],\"table\":[{\"cells\":{\"fill\":{\"color\":\"rgb(237,237,237)\"},\"line\":{\"color\":\"white\"}},\"header\":{\"fill\":{\"color\":\"rgb(217,217,217)\"},\"line\":{\"color\":\"white\"}},\"type\":\"table\"}]},\"layout\":{\"annotationdefaults\":{\"arrowhead\":0,\"arrowwidth\":1},\"autotypenumbers\":\"strict\",\"coloraxis\":{\"colorbar\":{\"outlinewidth\":0,\"tickcolor\":\"rgb(237,237,237)\",\"ticklen\":6,\"ticks\":\"inside\"}},\"colorscale\":{\"sequential\":[[0,\"rgb(20,44,66)\"],[1,\"rgb(90,179,244)\"]],\"sequentialminus\":[[0,\"rgb(20,44,66)\"],[1,\"rgb(90,179,244)\"]]},\"colorway\":[\"#F8766D\",\"#A3A500\",\"#00BF7D\",\"#00B0F6\",\"#E76BF3\"],\"font\":{\"color\":\"rgb(51,51,51)\"},\"geo\":{\"bgcolor\":\"white\",\"lakecolor\":\"white\",\"landcolor\":\"rgb(237,237,237)\",\"showlakes\":true,\"showland\":true,\"subunitcolor\":\"white\"},\"hoverlabel\":{\"align\":\"left\"},\"hovermode\":\"closest\",\"paper_bgcolor\":\"white\",\"plot_bgcolor\":\"rgb(237,237,237)\",\"polar\":{\"angularaxis\":{\"gridcolor\":\"white\",\"linecolor\":\"white\",\"showgrid\":true,\"tickcolor\":\"rgb(51,51,51)\",\"ticks\":\"outside\"},\"bgcolor\":\"rgb(237,237,237)\",\"radialaxis\":{\"gridcolor\":\"white\",\"linecolor\":\"white\",\"showgrid\":true,\"tickcolor\":\"rgb(51,51,51)\",\"ticks\":\"outside\"}},\"scene\":{\"xaxis\":{\"backgroundcolor\":\"rgb(237,237,237)\",\"gridcolor\":\"white\",\"gridwidth\":2,\"linecolor\":\"white\",\"showbackground\":true,\"showgrid\":true,\"tickcolor\":\"rgb(51,51,51)\",\"ticks\":\"outside\",\"zerolinecolor\":\"white\"},\"yaxis\":{\"backgroundcolor\":\"rgb(237,237,237)\",\"gridcolor\":\"white\",\"gridwidth\":2,\"linecolor\":\"white\",\"showbackground\":true,\"showgrid\":true,\"tickcolor\":\"rgb(51,51,51)\",\"ticks\":\"outside\",\"zerolinecolor\":\"white\"},\"zaxis\":{\"backgroundcolor\":\"rgb(237,237,237)\",\"gridcolor\":\"white\",\"gridwidth\":2,\"linecolor\":\"white\",\"showbackground\":true,\"showgrid\":true,\"tickcolor\":\"rgb(51,51,51)\",\"ticks\":\"outside\",\"zerolinecolor\":\"white\"}},\"shapedefaults\":{\"fillcolor\":\"black\",\"line\":{\"width\":0},\"opacity\":0.3},\"ternary\":{\"aaxis\":{\"gridcolor\":\"white\",\"linecolor\":\"white\",\"showgrid\":true,\"tickcolor\":\"rgb(51,51,51)\",\"ticks\":\"outside\"},\"baxis\":{\"gridcolor\":\"white\",\"linecolor\":\"white\",\"showgrid\":true,\"tickcolor\":\"rgb(51,51,51)\",\"ticks\":\"outside\"},\"bgcolor\":\"rgb(237,237,237)\",\"caxis\":{\"gridcolor\":\"white\",\"linecolor\":\"white\",\"showgrid\":true,\"tickcolor\":\"rgb(51,51,51)\",\"ticks\":\"outside\"}},\"xaxis\":{\"automargin\":true,\"gridcolor\":\"white\",\"linecolor\":\"white\",\"showgrid\":true,\"tickcolor\":\"rgb(51,51,51)\",\"ticks\":\"outside\",\"title\":{\"standoff\":15},\"zerolinecolor\":\"white\"},\"yaxis\":{\"automargin\":true,\"gridcolor\":\"white\",\"linecolor\":\"white\",\"showgrid\":true,\"tickcolor\":\"rgb(51,51,51)\",\"ticks\":\"outside\",\"title\":{\"standoff\":15},\"zerolinecolor\":\"white\"}}},\"xaxis\":{\"anchor\":\"y\",\"domain\":[0.0,0.49],\"title\":{\"text\":\"Місяць\"},\"showticklabels\":true,\"tickformat\":\"%b\\n%Y\"},\"yaxis\":{\"anchor\":\"x\",\"domain\":[0.0,0.2866666666666666],\"title\":{\"text\":\"Дохід ($)\"}},\"xaxis2\":{\"anchor\":\"y2\",\"domain\":[0.51,1.0],\"matches\":\"x\",\"title\":{\"text\":\"Місяць\"},\"showticklabels\":true,\"tickformat\":\"%b\\n%Y\"},\"yaxis2\":{\"anchor\":\"x2\",\"domain\":[0.0,0.2866666666666666],\"showticklabels\":false},\"xaxis3\":{\"anchor\":\"y3\",\"domain\":[0.0,0.49],\"matches\":\"x\",\"showticklabels\":true,\"tickformat\":\"%b\\n%Y\"},\"yaxis3\":{\"anchor\":\"x3\",\"domain\":[0.35666666666666663,0.6433333333333333],\"title\":{\"text\":\"Дохід ($)\"}},\"xaxis4\":{\"anchor\":\"y4\",\"domain\":[0.51,1.0],\"matches\":\"x\",\"showticklabels\":true,\"tickformat\":\"%b\\n%Y\"},\"yaxis4\":{\"anchor\":\"x4\",\"domain\":[0.35666666666666663,0.6433333333333333],\"showticklabels\":false},\"xaxis5\":{\"anchor\":\"y5\",\"domain\":[0.0,0.49],\"matches\":\"x\",\"showticklabels\":true,\"tickformat\":\"%b\\n%Y\"},\"yaxis5\":{\"anchor\":\"x5\",\"domain\":[0.7133333333333333,0.9999999999999999],\"title\":{\"text\":\"Дохід ($)\"}},\"xaxis6\":{\"anchor\":\"y6\",\"domain\":[0.51,1.0],\"matches\":\"x\",\"showticklabels\":true,\"tickformat\":\"%b\\n%Y\"},\"yaxis6\":{\"anchor\":\"x6\",\"domain\":[0.7133333333333333,0.9999999999999999],\"showticklabels\":false},\"annotations\":[{\"font\":{\"size\":15,\"family\":\"Arial\",\"color\":\"black\"},\"showarrow\":false,\"text\":\"Ukraine\",\"x\":0.245,\"xanchor\":\"center\",\"xref\":\"paper\",\"y\":0.2866666666666666,\"yanchor\":\"bottom\",\"yref\":\"paper\",\"align\":\"center\"},{\"font\":{\"size\":15,\"family\":\"Arial\",\"color\":\"black\"},\"showarrow\":false,\"text\":\"Macedonia\",\"x\":0.245,\"xanchor\":\"center\",\"xref\":\"paper\",\"y\":0.6433333333333333,\"yanchor\":\"bottom\",\"yref\":\"paper\",\"align\":\"center\"},{\"font\":{\"size\":15,\"family\":\"Arial\",\"color\":\"black\"},\"showarrow\":false,\"text\":\"San Marino\",\"x\":0.755,\"xanchor\":\"center\",\"xref\":\"paper\",\"y\":0.6433333333333333,\"yanchor\":\"bottom\",\"yref\":\"paper\",\"align\":\"center\"},{\"font\":{\"size\":15,\"family\":\"Arial\",\"color\":\"black\"},\"showarrow\":false,\"text\":\"Andorra\",\"x\":0.245,\"xanchor\":\"center\",\"xref\":\"paper\",\"y\":0.9999999999999999,\"yanchor\":\"bottom\",\"yref\":\"paper\",\"align\":\"center\"},{\"font\":{\"size\":15,\"family\":\"Arial\",\"color\":\"black\"},\"showarrow\":false,\"text\":\"Latvia\",\"x\":0.755,\"xanchor\":\"center\",\"xref\":\"paper\",\"y\":0.9999999999999999,\"yanchor\":\"bottom\",\"yref\":\"paper\",\"align\":\"center\"}],\"legend\":{\"tracegroupgap\":0},\"title\":{\"text\":\"📊 Динаміка продажів по топ-5 країнах (останні 2 роки)\"},\"font\":{\"family\":\"Arial\",\"size\":13},\"margin\":{\"t\":70,\"l\":50,\"r\":50,\"b\":60},\"height\":900,\"showlegend\":false},                        {\"responsive\": true}                    ).then(function(){\n",
              "                            \n",
              "var gd = document.getElementById('82f98f52-09a6-4d72-a67e-9677250a39ca');\n",
              "var x = new MutationObserver(function (mutations, observer) {{\n",
              "        var display = window.getComputedStyle(gd).display;\n",
              "        if (!display || display === 'none') {{\n",
              "            console.log([gd, 'removed!']);\n",
              "            Plotly.purge(gd);\n",
              "            observer.disconnect();\n",
              "        }}\n",
              "}});\n",
              "\n",
              "// Listen for the removal of the full notebook cells\n",
              "var notebookContainer = gd.closest('#notebook-container');\n",
              "if (notebookContainer) {{\n",
              "    x.observe(notebookContainer, {childList: true});\n",
              "}}\n",
              "\n",
              "// Listen for the clearing of the current output cell\n",
              "var outputEl = gd.closest('.output');\n",
              "if (outputEl) {{\n",
              "    x.observe(outputEl, {childList: true});\n",
              "}}\n",
              "\n",
              "                        })                };                            </script>        </div>\n",
              "</body>\n",
              "</html>"
            ]
          },
          "metadata": {}
        }
      ]
    },
    {
      "cell_type": "markdown",
      "source": [
        "Macedonia — стабільне зростання\n",
        "- Чіткий висхідний тренд із січня 2016 до середини 2017.\n",
        "- Жодних різких спадів — зростання рівномірне.\n",
        "\n",
        "Ukraine — вибухове, але нестабільне зростання\n",
        "- Спостерігається стрімкий підйом з кінця 2016 до весни 2017, але з коливаннями.\n",
        "- Можливе запізніле входження на ринок або запуск великої промо-кампанії.\n",
        "\n",
        "Andorra — піковий сплеск і спад\n",
        "- 2016 рік — висока активність, але у 2017 чіткий спад.\n",
        "- Можливе вичерпання короткострокової потреби, або втрачений контракт.\n",
        "\n",
        "San Marino — хвилеподібна динаміка\n",
        "- Видно кілька підйомів і спадів, без чіткого тренду.\n",
        "- Схоже на разові закупівлі або нестабільну логістику.\n",
        "\n",
        "Latvia — рівномірне, помірне зростання\n",
        "- Немає яскравих піків, але спостерігається плавний розвиток.\n",
        "- Може свідчити про високий рівень ринку, що вже сформувався."
      ],
      "metadata": {
        "id": "7rmHQfA3mDo0"
      }
    },
    {
      "cell_type": "code",
      "source": [
        "# Фільтрація за останні 2 роки\n",
        "max_year = final_merged_data[\"Order Date\"].dt.year.max()\n",
        "filtered_data = final_merged_data[final_merged_data[\"Order Date\"].dt.year >= max_year - 1].copy()\n",
        "\n",
        "# Використовуємо готову колонку \"Order Month\"\n",
        "# Агрегація по регіонах і місяцях\n",
        "region_trend = (\n",
        "    filtered_data\n",
        "    .groupby([\"Order Month\", \"region\"])[\"Revenue\"]\n",
        "    .sum()\n",
        "    .reset_index()\n",
        "    .sort_values(by=[\"region\", \"Order Month\"])\n",
        ")\n",
        "\n",
        "# Згладжування (rolling average)\n",
        "region_trend[\"Smoothed Revenue\"] = (\n",
        "    region_trend\n",
        "    .groupby(\"region\")[\"Revenue\"]\n",
        "    .transform(lambda x: x.rolling(window=3, min_periods=1).mean())\n",
        ")\n",
        "\n",
        "# Побудова графіка\n",
        "fig = px.line(\n",
        "    region_trend,\n",
        "    x=\"Order Month\",\n",
        "    y=\"Smoothed Revenue\",\n",
        "    color=\"region\",\n",
        "    markers=True,\n",
        "    text=region_trend[\"Smoothed Revenue\"].apply(lambda x: f\"${x/1_000_000:.1f}M\"),\n",
        "    title=\"Динаміка продажів по регіонах (останні 2 роки)\",\n",
        "    labels={\n",
        "        \"Order Month\": \"Місяць\",\n",
        "        \"Smoothed Revenue\": \"Дохід ($)\",\n",
        "        \"region\": \"Регіон\"\n",
        "    },\n",
        "    color_discrete_sequence=['#6baed6', '#74c476']\n",
        ")\n",
        "\n",
        "fig.update_traces(\n",
        "    hovertemplate=\"Регіон: %{color}<br>Місяць: %{x}<br>Дохід: %{y:$,.0f}<extra></extra>\",\n",
        "    textposition=\"top center\",\n",
        "    textfont_size=10,\n",
        "    line=dict(width=2)\n",
        ")\n",
        "\n",
        "fig.update_layout(\n",
        "    template=\"ggplot2\",\n",
        "    xaxis_tickangle=-45,\n",
        "    font=dict(family=\"Arial\", size=14),\n",
        "    legend=dict(\n",
        "        title=\"Регіон\",\n",
        "        orientation=\"v\",\n",
        "        y=0.5,\n",
        "        x=1.02,\n",
        "        valign=\"middle\",\n",
        "        bordercolor=\"lightgray\",\n",
        "        borderwidth=1\n",
        "    ),\n",
        "    yaxis_tickformat=\"$.1s\",\n",
        "    margin=dict(l=60, r=40, t=60, b=60)\n",
        ")\n",
        "\n",
        "fig.show()"
      ],
      "metadata": {
        "colab": {
          "base_uri": "https://localhost:8080/",
          "height": 542
        },
        "id": "Bu_MUbIKkexv",
        "outputId": "efc1763a-f63a-4113-a5e9-396a9705918f"
      },
      "execution_count": null,
      "outputs": [
        {
          "output_type": "display_data",
          "data": {
            "text/html": [
              "<html>\n",
              "<head><meta charset=\"utf-8\" /></head>\n",
              "<body>\n",
              "    <div>            <script src=\"https://cdnjs.cloudflare.com/ajax/libs/mathjax/2.7.5/MathJax.js?config=TeX-AMS-MML_SVG\"></script><script type=\"text/javascript\">if (window.MathJax && window.MathJax.Hub && window.MathJax.Hub.Config) {window.MathJax.Hub.Config({SVG: {font: \"STIX-Web\"}});}</script>                <script type=\"text/javascript\">window.PlotlyConfig = {MathJaxConfig: 'local'};</script>\n",
              "        <script charset=\"utf-8\" src=\"https://cdn.plot.ly/plotly-2.35.2.min.js\"></script>                <div id=\"ef6c3e6f-2ebb-4589-afd2-a9c70e71155f\" class=\"plotly-graph-div\" style=\"height:525px; width:100%;\"></div>            <script type=\"text/javascript\">                                    window.PLOTLYENV=window.PLOTLYENV || {};                                    if (document.getElementById(\"ef6c3e6f-2ebb-4589-afd2-a9c70e71155f\")) {                    Plotly.newPlot(                        \"ef6c3e6f-2ebb-4589-afd2-a9c70e71155f\",                        [{\"hovertemplate\":\"Регіон: %{color}\\u003cbr\\u003eМісяць: %{x}\\u003cbr\\u003eДохід: %{y:$,.0f}\\u003cextra\\u003e\\u003c\\u002fextra\\u003e\",\"legendgroup\":\"asia\",\"line\":{\"color\":\"#6baed6\",\"dash\":\"solid\",\"width\":2},\"marker\":{\"symbol\":\"circle\"},\"mode\":\"lines+markers+text\",\"name\":\"asia\",\"orientation\":\"v\",\"showlegend\":true,\"text\":[\"$2.0M\",\"$1.7M\",\"$1.2M\",\"$0.9M\",\"$1.0M\",\"$1.2M\",\"$1.2M\",\"$2.5M\"],\"x\":[\"2016-03\",\"2016-05\",\"2016-10\",\"2016-11\",\"2016-12\",\"2017-01\",\"2017-02\",\"2017-06\"],\"xaxis\":\"x\",\"y\":[1981439.4,1694157.66,1177533.9,926534.2333333333,951834.8866666667,1244019.2766666666,1195966.5633333335,2511123.18],\"yaxis\":\"y\",\"type\":\"scatter\",\"textfont\":{\"size\":10},\"textposition\":\"top center\"},{\"hovertemplate\":\"Регіон: %{color}\\u003cbr\\u003eМісяць: %{x}\\u003cbr\\u003eДохід: %{y:$,.0f}\\u003cextra\\u003e\\u003c\\u002fextra\\u003e\",\"legendgroup\":\"europe\",\"line\":{\"color\":\"#74c476\",\"dash\":\"solid\",\"width\":2},\"marker\":{\"symbol\":\"circle\"},\"mode\":\"lines+markers+text\",\"name\":\"europe\",\"orientation\":\"v\",\"showlegend\":true,\"text\":[\"$16.4M\",\"$13.8M\",\"$13.0M\",\"$9.5M\",\"$9.8M\",\"$10.5M\",\"$19.5M\",\"$22.4M\",\"$23.7M\",\"$15.0M\",\"$12.5M\",\"$11.2M\",\"$14.1M\",\"$16.3M\",\"$17.9M\",\"$17.5M\",\"$17.2M\",\"$14.7M\",\"$17.2M\"],\"x\":[\"2016-01\",\"2016-02\",\"2016-03\",\"2016-04\",\"2016-05\",\"2016-06\",\"2016-07\",\"2016-08\",\"2016-09\",\"2016-10\",\"2016-11\",\"2016-12\",\"2017-01\",\"2017-02\",\"2017-03\",\"2017-04\",\"2017-05\",\"2017-06\",\"2017-07\"],\"xaxis\":\"x\",\"y\":[16365750.620000001,13805197.375,12970464.736666666,9483487.243333332,9766710.496666666,10519226.696666667,19475924.133333337,22367745.123333335,23662433.42,15017562.943333333,12476787.576666668,11192631.770000001,14136338.376666667,16309498.14333333,17933451.73333333,17508806.246666666,17222599.56,14746985.06,17209851.726666667],\"yaxis\":\"y\",\"type\":\"scatter\",\"textfont\":{\"size\":10},\"textposition\":\"top center\"}],                        {\"template\":{\"data\":{\"barpolar\":[{\"marker\":{\"line\":{\"color\":\"rgb(237,237,237)\",\"width\":0.5},\"pattern\":{\"fillmode\":\"overlay\",\"size\":10,\"solidity\":0.2}},\"type\":\"barpolar\"}],\"bar\":[{\"error_x\":{\"color\":\"rgb(51,51,51)\"},\"error_y\":{\"color\":\"rgb(51,51,51)\"},\"marker\":{\"line\":{\"color\":\"rgb(237,237,237)\",\"width\":0.5},\"pattern\":{\"fillmode\":\"overlay\",\"size\":10,\"solidity\":0.2}},\"type\":\"bar\"}],\"carpet\":[{\"aaxis\":{\"endlinecolor\":\"rgb(51,51,51)\",\"gridcolor\":\"white\",\"linecolor\":\"white\",\"minorgridcolor\":\"white\",\"startlinecolor\":\"rgb(51,51,51)\"},\"baxis\":{\"endlinecolor\":\"rgb(51,51,51)\",\"gridcolor\":\"white\",\"linecolor\":\"white\",\"minorgridcolor\":\"white\",\"startlinecolor\":\"rgb(51,51,51)\"},\"type\":\"carpet\"}],\"choropleth\":[{\"colorbar\":{\"outlinewidth\":0,\"tickcolor\":\"rgb(237,237,237)\",\"ticklen\":6,\"ticks\":\"inside\"},\"type\":\"choropleth\"}],\"contourcarpet\":[{\"colorbar\":{\"outlinewidth\":0,\"tickcolor\":\"rgb(237,237,237)\",\"ticklen\":6,\"ticks\":\"inside\"},\"type\":\"contourcarpet\"}],\"contour\":[{\"colorbar\":{\"outlinewidth\":0,\"tickcolor\":\"rgb(237,237,237)\",\"ticklen\":6,\"ticks\":\"inside\"},\"colorscale\":[[0,\"rgb(20,44,66)\"],[1,\"rgb(90,179,244)\"]],\"type\":\"contour\"}],\"heatmapgl\":[{\"colorbar\":{\"outlinewidth\":0,\"tickcolor\":\"rgb(237,237,237)\",\"ticklen\":6,\"ticks\":\"inside\"},\"colorscale\":[[0,\"rgb(20,44,66)\"],[1,\"rgb(90,179,244)\"]],\"type\":\"heatmapgl\"}],\"heatmap\":[{\"colorbar\":{\"outlinewidth\":0,\"tickcolor\":\"rgb(237,237,237)\",\"ticklen\":6,\"ticks\":\"inside\"},\"colorscale\":[[0,\"rgb(20,44,66)\"],[1,\"rgb(90,179,244)\"]],\"type\":\"heatmap\"}],\"histogram2dcontour\":[{\"colorbar\":{\"outlinewidth\":0,\"tickcolor\":\"rgb(237,237,237)\",\"ticklen\":6,\"ticks\":\"inside\"},\"colorscale\":[[0,\"rgb(20,44,66)\"],[1,\"rgb(90,179,244)\"]],\"type\":\"histogram2dcontour\"}],\"histogram2d\":[{\"colorbar\":{\"outlinewidth\":0,\"tickcolor\":\"rgb(237,237,237)\",\"ticklen\":6,\"ticks\":\"inside\"},\"colorscale\":[[0,\"rgb(20,44,66)\"],[1,\"rgb(90,179,244)\"]],\"type\":\"histogram2d\"}],\"histogram\":[{\"marker\":{\"pattern\":{\"fillmode\":\"overlay\",\"size\":10,\"solidity\":0.2}},\"type\":\"histogram\"}],\"mesh3d\":[{\"colorbar\":{\"outlinewidth\":0,\"tickcolor\":\"rgb(237,237,237)\",\"ticklen\":6,\"ticks\":\"inside\"},\"type\":\"mesh3d\"}],\"parcoords\":[{\"line\":{\"colorbar\":{\"outlinewidth\":0,\"tickcolor\":\"rgb(237,237,237)\",\"ticklen\":6,\"ticks\":\"inside\"}},\"type\":\"parcoords\"}],\"pie\":[{\"automargin\":true,\"type\":\"pie\"}],\"scatter3d\":[{\"line\":{\"colorbar\":{\"outlinewidth\":0,\"tickcolor\":\"rgb(237,237,237)\",\"ticklen\":6,\"ticks\":\"inside\"}},\"marker\":{\"colorbar\":{\"outlinewidth\":0,\"tickcolor\":\"rgb(237,237,237)\",\"ticklen\":6,\"ticks\":\"inside\"}},\"type\":\"scatter3d\"}],\"scattercarpet\":[{\"marker\":{\"colorbar\":{\"outlinewidth\":0,\"tickcolor\":\"rgb(237,237,237)\",\"ticklen\":6,\"ticks\":\"inside\"}},\"type\":\"scattercarpet\"}],\"scattergeo\":[{\"marker\":{\"colorbar\":{\"outlinewidth\":0,\"tickcolor\":\"rgb(237,237,237)\",\"ticklen\":6,\"ticks\":\"inside\"}},\"type\":\"scattergeo\"}],\"scattergl\":[{\"marker\":{\"colorbar\":{\"outlinewidth\":0,\"tickcolor\":\"rgb(237,237,237)\",\"ticklen\":6,\"ticks\":\"inside\"}},\"type\":\"scattergl\"}],\"scattermapbox\":[{\"marker\":{\"colorbar\":{\"outlinewidth\":0,\"tickcolor\":\"rgb(237,237,237)\",\"ticklen\":6,\"ticks\":\"inside\"}},\"type\":\"scattermapbox\"}],\"scatterpolargl\":[{\"marker\":{\"colorbar\":{\"outlinewidth\":0,\"tickcolor\":\"rgb(237,237,237)\",\"ticklen\":6,\"ticks\":\"inside\"}},\"type\":\"scatterpolargl\"}],\"scatterpolar\":[{\"marker\":{\"colorbar\":{\"outlinewidth\":0,\"tickcolor\":\"rgb(237,237,237)\",\"ticklen\":6,\"ticks\":\"inside\"}},\"type\":\"scatterpolar\"}],\"scatter\":[{\"fillpattern\":{\"fillmode\":\"overlay\",\"size\":10,\"solidity\":0.2},\"type\":\"scatter\"}],\"scatterternary\":[{\"marker\":{\"colorbar\":{\"outlinewidth\":0,\"tickcolor\":\"rgb(237,237,237)\",\"ticklen\":6,\"ticks\":\"inside\"}},\"type\":\"scatterternary\"}],\"surface\":[{\"colorbar\":{\"outlinewidth\":0,\"tickcolor\":\"rgb(237,237,237)\",\"ticklen\":6,\"ticks\":\"inside\"},\"colorscale\":[[0,\"rgb(20,44,66)\"],[1,\"rgb(90,179,244)\"]],\"type\":\"surface\"}],\"table\":[{\"cells\":{\"fill\":{\"color\":\"rgb(237,237,237)\"},\"line\":{\"color\":\"white\"}},\"header\":{\"fill\":{\"color\":\"rgb(217,217,217)\"},\"line\":{\"color\":\"white\"}},\"type\":\"table\"}]},\"layout\":{\"annotationdefaults\":{\"arrowhead\":0,\"arrowwidth\":1},\"autotypenumbers\":\"strict\",\"coloraxis\":{\"colorbar\":{\"outlinewidth\":0,\"tickcolor\":\"rgb(237,237,237)\",\"ticklen\":6,\"ticks\":\"inside\"}},\"colorscale\":{\"sequential\":[[0,\"rgb(20,44,66)\"],[1,\"rgb(90,179,244)\"]],\"sequentialminus\":[[0,\"rgb(20,44,66)\"],[1,\"rgb(90,179,244)\"]]},\"colorway\":[\"#F8766D\",\"#A3A500\",\"#00BF7D\",\"#00B0F6\",\"#E76BF3\"],\"font\":{\"color\":\"rgb(51,51,51)\"},\"geo\":{\"bgcolor\":\"white\",\"lakecolor\":\"white\",\"landcolor\":\"rgb(237,237,237)\",\"showlakes\":true,\"showland\":true,\"subunitcolor\":\"white\"},\"hoverlabel\":{\"align\":\"left\"},\"hovermode\":\"closest\",\"paper_bgcolor\":\"white\",\"plot_bgcolor\":\"rgb(237,237,237)\",\"polar\":{\"angularaxis\":{\"gridcolor\":\"white\",\"linecolor\":\"white\",\"showgrid\":true,\"tickcolor\":\"rgb(51,51,51)\",\"ticks\":\"outside\"},\"bgcolor\":\"rgb(237,237,237)\",\"radialaxis\":{\"gridcolor\":\"white\",\"linecolor\":\"white\",\"showgrid\":true,\"tickcolor\":\"rgb(51,51,51)\",\"ticks\":\"outside\"}},\"scene\":{\"xaxis\":{\"backgroundcolor\":\"rgb(237,237,237)\",\"gridcolor\":\"white\",\"gridwidth\":2,\"linecolor\":\"white\",\"showbackground\":true,\"showgrid\":true,\"tickcolor\":\"rgb(51,51,51)\",\"ticks\":\"outside\",\"zerolinecolor\":\"white\"},\"yaxis\":{\"backgroundcolor\":\"rgb(237,237,237)\",\"gridcolor\":\"white\",\"gridwidth\":2,\"linecolor\":\"white\",\"showbackground\":true,\"showgrid\":true,\"tickcolor\":\"rgb(51,51,51)\",\"ticks\":\"outside\",\"zerolinecolor\":\"white\"},\"zaxis\":{\"backgroundcolor\":\"rgb(237,237,237)\",\"gridcolor\":\"white\",\"gridwidth\":2,\"linecolor\":\"white\",\"showbackground\":true,\"showgrid\":true,\"tickcolor\":\"rgb(51,51,51)\",\"ticks\":\"outside\",\"zerolinecolor\":\"white\"}},\"shapedefaults\":{\"fillcolor\":\"black\",\"line\":{\"width\":0},\"opacity\":0.3},\"ternary\":{\"aaxis\":{\"gridcolor\":\"white\",\"linecolor\":\"white\",\"showgrid\":true,\"tickcolor\":\"rgb(51,51,51)\",\"ticks\":\"outside\"},\"baxis\":{\"gridcolor\":\"white\",\"linecolor\":\"white\",\"showgrid\":true,\"tickcolor\":\"rgb(51,51,51)\",\"ticks\":\"outside\"},\"bgcolor\":\"rgb(237,237,237)\",\"caxis\":{\"gridcolor\":\"white\",\"linecolor\":\"white\",\"showgrid\":true,\"tickcolor\":\"rgb(51,51,51)\",\"ticks\":\"outside\"}},\"xaxis\":{\"automargin\":true,\"gridcolor\":\"white\",\"linecolor\":\"white\",\"showgrid\":true,\"tickcolor\":\"rgb(51,51,51)\",\"ticks\":\"outside\",\"title\":{\"standoff\":15},\"zerolinecolor\":\"white\"},\"yaxis\":{\"automargin\":true,\"gridcolor\":\"white\",\"linecolor\":\"white\",\"showgrid\":true,\"tickcolor\":\"rgb(51,51,51)\",\"ticks\":\"outside\",\"title\":{\"standoff\":15},\"zerolinecolor\":\"white\"}}},\"xaxis\":{\"anchor\":\"y\",\"domain\":[0.0,1.0],\"title\":{\"text\":\"Місяць\"},\"tickangle\":-45},\"yaxis\":{\"anchor\":\"x\",\"domain\":[0.0,1.0],\"title\":{\"text\":\"Дохід ($)\"},\"tickformat\":\"$.1s\"},\"legend\":{\"title\":{\"text\":\"Регіон\"},\"tracegroupgap\":0,\"orientation\":\"v\",\"y\":0.5,\"x\":1.02,\"valign\":\"middle\",\"bordercolor\":\"lightgray\",\"borderwidth\":1},\"title\":{\"text\":\"Динаміка продажів по регіонах (останні 2 роки)\"},\"font\":{\"family\":\"Arial\",\"size\":14},\"margin\":{\"l\":60,\"r\":40,\"t\":60,\"b\":60}},                        {\"responsive\": true}                    ).then(function(){\n",
              "                            \n",
              "var gd = document.getElementById('ef6c3e6f-2ebb-4589-afd2-a9c70e71155f');\n",
              "var x = new MutationObserver(function (mutations, observer) {{\n",
              "        var display = window.getComputedStyle(gd).display;\n",
              "        if (!display || display === 'none') {{\n",
              "            console.log([gd, 'removed!']);\n",
              "            Plotly.purge(gd);\n",
              "            observer.disconnect();\n",
              "        }}\n",
              "}});\n",
              "\n",
              "// Listen for the removal of the full notebook cells\n",
              "var notebookContainer = gd.closest('#notebook-container');\n",
              "if (notebookContainer) {{\n",
              "    x.observe(notebookContainer, {childList: true});\n",
              "}}\n",
              "\n",
              "// Listen for the clearing of the current output cell\n",
              "var outputEl = gd.closest('.output');\n",
              "if (outputEl) {{\n",
              "    x.observe(outputEl, {childList: true});\n",
              "}}\n",
              "\n",
              "                        })                };                            </script>        </div>\n",
              "</body>\n",
              "</html>"
            ]
          },
          "metadata": {}
        }
      ]
    },
    {
      "cell_type": "markdown",
      "source": [
        "1. Europe — домінуючий ринок із сезонністю\n",
        "\n",
        "Рівень продажів стабільно високий: у межах $10M–$24M на місяць.\n",
        "\n",
        "Видно циклічність — зниження в березні–травні 2016, піки в серпні–жовтні 2016, новий підйом взимку 2017.\n",
        "\n",
        "У 2017 році — стабілізація на рівні ~$16–$18M.\n",
        "\n",
        "Інтерпретація:\n",
        "- Це зрілий ринок з великою клієнтською базою.\n",
        "- Сезонність може бути пов’язана з закупівлями B2B (наприклад, бюджетні цикли компаній, тендери, контракти з установами).\n",
        "\n",
        "2. Asia — ринок із низьким, але поступовим зростанням\n",
        "\n",
        "Весь період значно нижчий за Europe: $0.9M–$2.5M на місяць.\n",
        "\n",
        "Проте є стійкий тренд на зростання після весни 2017.\n",
        "\n",
        "Інтерпретація:\n",
        "\n",
        "Азійський ринок — поки що слабко розвинений, або:\n",
        "- бізнес щойно вийшов на ринок;\n",
        "- є логістичні чи регуляторні бар'єри;\n",
        "- продукт ще не локалізований (наприклад, мовно або культурно).\n",
        "\n"
      ],
      "metadata": {
        "id": "6Z42W5UYki0A"
      }
    },
    {
      "cell_type": "markdown",
      "source": [
        "Тепер проведемо аналіз продажів товарів за днями тижня."
      ],
      "metadata": {
        "id": "LUkZt-Himc4X"
      }
    },
    {
      "cell_type": "code",
      "source": [
        "final_merged_data[\"Day of Week\"] = final_merged_data[\"Order Date\"].dt.day_name() # Додамо до датасету колонку з днем тижня"
      ],
      "metadata": {
        "id": "qXYq2HkImhnz"
      },
      "execution_count": null,
      "outputs": []
    },
    {
      "cell_type": "code",
      "source": [
        "# Сумарний дохід по днях тижня для кожної категорії\n",
        "weekday_sales = final_merged_data.groupby([\"Day of Week\", \"item_type\"])[\"Revenue\"].sum().reset_index()\n",
        "\n",
        "# Для впорядкування днів у звичному порядку\n",
        "weekday_order = [\"Monday\", \"Tuesday\", \"Wednesday\", \"Thursday\", \"Friday\", \"Saturday\", \"Sunday\"]\n",
        "weekday_sales[\"Day of Week\"] = pd.Categorical(weekday_sales[\"Day of Week\"], categories=weekday_order, ordered=True)\n",
        "weekday_sales = weekday_sales.sort_values([\"Day of Week\", \"Revenue\"], ascending=[True, False])"
      ],
      "metadata": {
        "id": "WRjyuEelnK8u"
      },
      "execution_count": null,
      "outputs": []
    },
    {
      "cell_type": "code",
      "source": [
        "fig = px.bar(\n",
        "    weekday_sales,\n",
        "    x=\"Day of Week\",\n",
        "    y=\"Revenue\",\n",
        "    color=\"item_type\",\n",
        "    title=\"Продажі товарів за днями тижня (по категоріях)\",\n",
        "    labels={\"Revenue\": \"Дохід ($)\", \"Day of Week\": \"День тижня\", \"item_type\": \"Категорія товару\"},\n",
        "    barmode=\"stack\"\n",
        ")\n",
        "\n",
        "fig.update_layout(\n",
        "    template=\"ggplot2\",\n",
        "    font=dict(family=\"Arial\", size=14),\n",
        "    xaxis_tickangle=-45\n",
        ")\n",
        "\n",
        "fig.show()"
      ],
      "metadata": {
        "colab": {
          "base_uri": "https://localhost:8080/",
          "height": 542
        },
        "id": "rJDOg5mqnWuS",
        "outputId": "078fc150-9e79-4e33-c7ec-5b43d96bcf1c"
      },
      "execution_count": null,
      "outputs": [
        {
          "output_type": "display_data",
          "data": {
            "text/html": [
              "<html>\n",
              "<head><meta charset=\"utf-8\" /></head>\n",
              "<body>\n",
              "    <div>            <script src=\"https://cdnjs.cloudflare.com/ajax/libs/mathjax/2.7.5/MathJax.js?config=TeX-AMS-MML_SVG\"></script><script type=\"text/javascript\">if (window.MathJax && window.MathJax.Hub && window.MathJax.Hub.Config) {window.MathJax.Hub.Config({SVG: {font: \"STIX-Web\"}});}</script>                <script type=\"text/javascript\">window.PlotlyConfig = {MathJaxConfig: 'local'};</script>\n",
              "        <script charset=\"utf-8\" src=\"https://cdn.plot.ly/plotly-2.35.2.min.js\"></script>                <div id=\"b690e0bf-076c-4fca-9240-b34ec7d49832\" class=\"plotly-graph-div\" style=\"height:525px; width:100%;\"></div>            <script type=\"text/javascript\">                                    window.PLOTLYENV=window.PLOTLYENV || {};                                    if (document.getElementById(\"b690e0bf-076c-4fca-9240-b34ec7d49832\")) {                    Plotly.newPlot(                        \"b690e0bf-076c-4fca-9240-b34ec7d49832\",                        [{\"alignmentgroup\":\"True\",\"hovertemplate\":\"Категорія товару=household\\u003cbr\\u003eДень тижня=%{x}\\u003cbr\\u003eДохід ($)=%{y}\\u003cextra\\u003e\\u003c\\u002fextra\\u003e\",\"legendgroup\":\"household\",\"marker\":{\"color\":\"#636efa\",\"pattern\":{\"shape\":\"\"}},\"name\":\"household\",\"offsetgroup\":\"household\",\"orientation\":\"v\",\"showlegend\":true,\"textposition\":\"auto\",\"x\":[\"Monday\",\"Tuesday\",\"Wednesday\",\"Thursday\",\"Friday\",\"Saturday\",\"Sunday\"],\"xaxis\":\"x\",\"y\":[70469739.77,13682159.98,61319786.93,31225584.02,34931141.17,37974442.75,29271562.54],\"yaxis\":\"y\",\"type\":\"bar\"},{\"alignmentgroup\":\"True\",\"hovertemplate\":\"Категорія товару=office supplies\\u003cbr\\u003eДень тижня=%{x}\\u003cbr\\u003eДохід ($)=%{y}\\u003cextra\\u003e\\u003c\\u002fextra\\u003e\",\"legendgroup\":\"office supplies\",\"marker\":{\"color\":\"#EF553B\",\"pattern\":{\"shape\":\"\"}},\"name\":\"office supplies\",\"offsetgroup\":\"office supplies\",\"orientation\":\"v\",\"showlegend\":true,\"textposition\":\"auto\",\"x\":[\"Monday\",\"Tuesday\",\"Wednesday\",\"Thursday\",\"Friday\",\"Saturday\",\"Sunday\"],\"xaxis\":\"x\",\"y\":[57777956.04000001,47217934.68,59169591.81,50537803.260000005,68955324.48,34949789.49,60057842.25],\"yaxis\":\"y\",\"type\":\"bar\"},{\"alignmentgroup\":\"True\",\"hovertemplate\":\"Категорія товару=meat\\u003cbr\\u003eДень тижня=%{x}\\u003cbr\\u003eДохід ($)=%{y}\\u003cextra\\u003e\\u003c\\u002fextra\\u003e\",\"legendgroup\":\"meat\",\"marker\":{\"color\":\"#00cc96\",\"pattern\":{\"shape\":\"\"}},\"name\":\"meat\",\"offsetgroup\":\"meat\",\"orientation\":\"v\",\"showlegend\":true,\"textposition\":\"auto\",\"x\":[\"Monday\",\"Tuesday\",\"Wednesday\",\"Thursday\",\"Friday\",\"Saturday\",\"Sunday\"],\"xaxis\":\"x\",\"y\":[35794413.269999996,35377585.949999996,33687916.5,27767534.13,18815028.33,30387892.919999998,21602877.45],\"yaxis\":\"y\",\"type\":\"bar\"},{\"alignmentgroup\":\"True\",\"hovertemplate\":\"Категорія товару=cosmetics\\u003cbr\\u003eДень тижня=%{x}\\u003cbr\\u003eДохід ($)=%{y}\\u003cextra\\u003e\\u003c\\u002fextra\\u003e\",\"legendgroup\":\"cosmetics\",\"marker\":{\"color\":\"#ab63fa\",\"pattern\":{\"shape\":\"\"}},\"name\":\"cosmetics\",\"offsetgroup\":\"cosmetics\",\"orientation\":\"v\",\"showlegend\":true,\"textposition\":\"auto\",\"x\":[\"Monday\",\"Tuesday\",\"Wednesday\",\"Thursday\",\"Friday\",\"Saturday\",\"Sunday\"],\"xaxis\":\"x\",\"y\":[24434233.599999998,35592014.8,29996292.0,23819530.4,57774668.4,28455599.2,21233055.2],\"yaxis\":\"y\",\"type\":\"bar\"},{\"alignmentgroup\":\"True\",\"hovertemplate\":\"Категорія товару=snacks\\u003cbr\\u003eДень тижня=%{x}\\u003cbr\\u003eДохід ($)=%{y}\\u003cextra\\u003e\\u003c\\u002fextra\\u003e\",\"legendgroup\":\"snacks\",\"marker\":{\"color\":\"#FFA15A\",\"pattern\":{\"shape\":\"\"}},\"name\":\"snacks\",\"offsetgroup\":\"snacks\",\"orientation\":\"v\",\"showlegend\":true,\"textposition\":\"auto\",\"x\":[\"Monday\",\"Tuesday\",\"Wednesday\",\"Thursday\",\"Friday\",\"Saturday\",\"Sunday\"],\"xaxis\":\"x\",\"y\":[15663252.48,9653278.860000001,5546588.16,6469697.160000001,8382440.040000001,12804513.600000001,10693721.88],\"yaxis\":\"y\",\"type\":\"bar\"},{\"alignmentgroup\":\"True\",\"hovertemplate\":\"Категорія товару=baby food\\u003cbr\\u003eДень тижня=%{x}\\u003cbr\\u003eДохід ($)=%{y}\\u003cextra\\u003e\\u003c\\u002fextra\\u003e\",\"legendgroup\":\"baby food\",\"marker\":{\"color\":\"#19d3f3\",\"pattern\":{\"shape\":\"\"}},\"name\":\"baby food\",\"offsetgroup\":\"baby food\",\"orientation\":\"v\",\"showlegend\":true,\"textposition\":\"auto\",\"x\":[\"Monday\",\"Tuesday\",\"Wednesday\",\"Thursday\",\"Friday\",\"Saturday\",\"Sunday\"],\"xaxis\":\"x\",\"y\":[14761821.28,21812654.88,16253422.32,16931190.72,19808451.6,22549648.240000002,21717180.16],\"yaxis\":\"y\",\"type\":\"bar\"},{\"alignmentgroup\":\"True\",\"hovertemplate\":\"Категорія товару=vegetables\\u003cbr\\u003eДень тижня=%{x}\\u003cbr\\u003eДохід ($)=%{y}\\u003cextra\\u003e\\u003c\\u002fextra\\u003e\",\"legendgroup\":\"vegetables\",\"marker\":{\"color\":\"#FF6692\",\"pattern\":{\"shape\":\"\"}},\"name\":\"vegetables\",\"offsetgroup\":\"vegetables\",\"orientation\":\"v\",\"showlegend\":true,\"textposition\":\"auto\",\"x\":[\"Monday\",\"Tuesday\",\"Wednesday\",\"Thursday\",\"Friday\",\"Saturday\",\"Sunday\"],\"xaxis\":\"x\",\"y\":[14660965.84,8528453.48,12506590.8,13027313.6,7916527.16,9673889.58,15724750.14],\"yaxis\":\"y\",\"type\":\"bar\"},{\"alignmentgroup\":\"True\",\"hovertemplate\":\"Категорія товару=cereal\\u003cbr\\u003eДень тижня=%{x}\\u003cbr\\u003eДохід ($)=%{y}\\u003cextra\\u003e\\u003c\\u002fextra\\u003e\",\"legendgroup\":\"cereal\",\"marker\":{\"color\":\"#B6E880\",\"pattern\":{\"shape\":\"\"}},\"name\":\"cereal\",\"offsetgroup\":\"cereal\",\"orientation\":\"v\",\"showlegend\":true,\"textposition\":\"auto\",\"x\":[\"Monday\",\"Tuesday\",\"Wednesday\",\"Thursday\",\"Friday\",\"Saturday\",\"Sunday\"],\"xaxis\":\"x\",\"y\":[8572341.799999999,11262486.399999999,11975236.9,11560545.7,12884430.899999999,19802533.3,18619141.2],\"yaxis\":\"y\",\"type\":\"bar\"},{\"alignmentgroup\":\"True\",\"hovertemplate\":\"Категорія товару=clothes\\u003cbr\\u003eДень тижня=%{x}\\u003cbr\\u003eДохід ($)=%{y}\\u003cextra\\u003e\\u003c\\u002fextra\\u003e\",\"legendgroup\":\"clothes\",\"marker\":{\"color\":\"#FF97FF\",\"pattern\":{\"shape\":\"\"}},\"name\":\"clothes\",\"offsetgroup\":\"clothes\",\"orientation\":\"v\",\"showlegend\":true,\"textposition\":\"auto\",\"x\":[\"Monday\",\"Tuesday\",\"Wednesday\",\"Thursday\",\"Friday\",\"Saturday\",\"Sunday\"],\"xaxis\":\"x\",\"y\":[7442951.52,13397728.0,4757832.64,9657620.0,5814788.8,11023510.72,11212892.96],\"yaxis\":\"y\",\"type\":\"bar\"},{\"alignmentgroup\":\"True\",\"hovertemplate\":\"Категорія товару=personal care\\u003cbr\\u003eДень тижня=%{x}\\u003cbr\\u003eДохід ($)=%{y}\\u003cextra\\u003e\\u003c\\u002fextra\\u003e\",\"legendgroup\":\"personal care\",\"marker\":{\"color\":\"#FECB52\",\"pattern\":{\"shape\":\"\"}},\"name\":\"personal care\",\"offsetgroup\":\"personal care\",\"orientation\":\"v\",\"showlegend\":true,\"textposition\":\"auto\",\"x\":[\"Monday\",\"Tuesday\",\"Wednesday\",\"Thursday\",\"Friday\",\"Saturday\",\"Sunday\"],\"xaxis\":\"x\",\"y\":[4658119.62,6228643.300000001,5266517.74,7667581.680000001,5656042.92,7422718.6,6852243.2],\"yaxis\":\"y\",\"type\":\"bar\"},{\"alignmentgroup\":\"True\",\"hovertemplate\":\"Категорія товару=beverages\\u003cbr\\u003eДень тижня=%{x}\\u003cbr\\u003eДохід ($)=%{y}\\u003cextra\\u003e\\u003c\\u002fextra\\u003e\",\"legendgroup\":\"beverages\",\"marker\":{\"color\":\"#636efa\",\"pattern\":{\"shape\":\"\"}},\"name\":\"beverages\",\"offsetgroup\":\"beverages\",\"orientation\":\"v\",\"showlegend\":true,\"textposition\":\"auto\",\"x\":[\"Monday\",\"Tuesday\",\"Wednesday\",\"Thursday\",\"Friday\",\"Saturday\",\"Sunday\"],\"xaxis\":\"x\",\"y\":[4522506.95,3808716.6,3587409.8000000003,4058778.1,2363674.3000000003,4869793.5,4214793.7],\"yaxis\":\"y\",\"type\":\"bar\"},{\"alignmentgroup\":\"True\",\"hovertemplate\":\"Категорія товару=fruits\\u003cbr\\u003eДень тижня=%{x}\\u003cbr\\u003eДохід ($)=%{y}\\u003cextra\\u003e\\u003c\\u002fextra\\u003e\",\"legendgroup\":\"fruits\",\"marker\":{\"color\":\"#EF553B\",\"pattern\":{\"shape\":\"\"}},\"name\":\"fruits\",\"offsetgroup\":\"fruits\",\"orientation\":\"v\",\"showlegend\":true,\"textposition\":\"auto\",\"x\":[\"Monday\",\"Tuesday\",\"Wednesday\",\"Thursday\",\"Friday\",\"Saturday\",\"Sunday\"],\"xaxis\":\"x\",\"y\":[802370.67,399230.7,800439.36,524112.75,318292.95,907827.66,1203215.46],\"yaxis\":\"y\",\"type\":\"bar\"}],                        {\"template\":{\"data\":{\"barpolar\":[{\"marker\":{\"line\":{\"color\":\"rgb(237,237,237)\",\"width\":0.5},\"pattern\":{\"fillmode\":\"overlay\",\"size\":10,\"solidity\":0.2}},\"type\":\"barpolar\"}],\"bar\":[{\"error_x\":{\"color\":\"rgb(51,51,51)\"},\"error_y\":{\"color\":\"rgb(51,51,51)\"},\"marker\":{\"line\":{\"color\":\"rgb(237,237,237)\",\"width\":0.5},\"pattern\":{\"fillmode\":\"overlay\",\"size\":10,\"solidity\":0.2}},\"type\":\"bar\"}],\"carpet\":[{\"aaxis\":{\"endlinecolor\":\"rgb(51,51,51)\",\"gridcolor\":\"white\",\"linecolor\":\"white\",\"minorgridcolor\":\"white\",\"startlinecolor\":\"rgb(51,51,51)\"},\"baxis\":{\"endlinecolor\":\"rgb(51,51,51)\",\"gridcolor\":\"white\",\"linecolor\":\"white\",\"minorgridcolor\":\"white\",\"startlinecolor\":\"rgb(51,51,51)\"},\"type\":\"carpet\"}],\"choropleth\":[{\"colorbar\":{\"outlinewidth\":0,\"tickcolor\":\"rgb(237,237,237)\",\"ticklen\":6,\"ticks\":\"inside\"},\"type\":\"choropleth\"}],\"contourcarpet\":[{\"colorbar\":{\"outlinewidth\":0,\"tickcolor\":\"rgb(237,237,237)\",\"ticklen\":6,\"ticks\":\"inside\"},\"type\":\"contourcarpet\"}],\"contour\":[{\"colorbar\":{\"outlinewidth\":0,\"tickcolor\":\"rgb(237,237,237)\",\"ticklen\":6,\"ticks\":\"inside\"},\"colorscale\":[[0,\"rgb(20,44,66)\"],[1,\"rgb(90,179,244)\"]],\"type\":\"contour\"}],\"heatmapgl\":[{\"colorbar\":{\"outlinewidth\":0,\"tickcolor\":\"rgb(237,237,237)\",\"ticklen\":6,\"ticks\":\"inside\"},\"colorscale\":[[0,\"rgb(20,44,66)\"],[1,\"rgb(90,179,244)\"]],\"type\":\"heatmapgl\"}],\"heatmap\":[{\"colorbar\":{\"outlinewidth\":0,\"tickcolor\":\"rgb(237,237,237)\",\"ticklen\":6,\"ticks\":\"inside\"},\"colorscale\":[[0,\"rgb(20,44,66)\"],[1,\"rgb(90,179,244)\"]],\"type\":\"heatmap\"}],\"histogram2dcontour\":[{\"colorbar\":{\"outlinewidth\":0,\"tickcolor\":\"rgb(237,237,237)\",\"ticklen\":6,\"ticks\":\"inside\"},\"colorscale\":[[0,\"rgb(20,44,66)\"],[1,\"rgb(90,179,244)\"]],\"type\":\"histogram2dcontour\"}],\"histogram2d\":[{\"colorbar\":{\"outlinewidth\":0,\"tickcolor\":\"rgb(237,237,237)\",\"ticklen\":6,\"ticks\":\"inside\"},\"colorscale\":[[0,\"rgb(20,44,66)\"],[1,\"rgb(90,179,244)\"]],\"type\":\"histogram2d\"}],\"histogram\":[{\"marker\":{\"pattern\":{\"fillmode\":\"overlay\",\"size\":10,\"solidity\":0.2}},\"type\":\"histogram\"}],\"mesh3d\":[{\"colorbar\":{\"outlinewidth\":0,\"tickcolor\":\"rgb(237,237,237)\",\"ticklen\":6,\"ticks\":\"inside\"},\"type\":\"mesh3d\"}],\"parcoords\":[{\"line\":{\"colorbar\":{\"outlinewidth\":0,\"tickcolor\":\"rgb(237,237,237)\",\"ticklen\":6,\"ticks\":\"inside\"}},\"type\":\"parcoords\"}],\"pie\":[{\"automargin\":true,\"type\":\"pie\"}],\"scatter3d\":[{\"line\":{\"colorbar\":{\"outlinewidth\":0,\"tickcolor\":\"rgb(237,237,237)\",\"ticklen\":6,\"ticks\":\"inside\"}},\"marker\":{\"colorbar\":{\"outlinewidth\":0,\"tickcolor\":\"rgb(237,237,237)\",\"ticklen\":6,\"ticks\":\"inside\"}},\"type\":\"scatter3d\"}],\"scattercarpet\":[{\"marker\":{\"colorbar\":{\"outlinewidth\":0,\"tickcolor\":\"rgb(237,237,237)\",\"ticklen\":6,\"ticks\":\"inside\"}},\"type\":\"scattercarpet\"}],\"scattergeo\":[{\"marker\":{\"colorbar\":{\"outlinewidth\":0,\"tickcolor\":\"rgb(237,237,237)\",\"ticklen\":6,\"ticks\":\"inside\"}},\"type\":\"scattergeo\"}],\"scattergl\":[{\"marker\":{\"colorbar\":{\"outlinewidth\":0,\"tickcolor\":\"rgb(237,237,237)\",\"ticklen\":6,\"ticks\":\"inside\"}},\"type\":\"scattergl\"}],\"scattermapbox\":[{\"marker\":{\"colorbar\":{\"outlinewidth\":0,\"tickcolor\":\"rgb(237,237,237)\",\"ticklen\":6,\"ticks\":\"inside\"}},\"type\":\"scattermapbox\"}],\"scatterpolargl\":[{\"marker\":{\"colorbar\":{\"outlinewidth\":0,\"tickcolor\":\"rgb(237,237,237)\",\"ticklen\":6,\"ticks\":\"inside\"}},\"type\":\"scatterpolargl\"}],\"scatterpolar\":[{\"marker\":{\"colorbar\":{\"outlinewidth\":0,\"tickcolor\":\"rgb(237,237,237)\",\"ticklen\":6,\"ticks\":\"inside\"}},\"type\":\"scatterpolar\"}],\"scatter\":[{\"fillpattern\":{\"fillmode\":\"overlay\",\"size\":10,\"solidity\":0.2},\"type\":\"scatter\"}],\"scatterternary\":[{\"marker\":{\"colorbar\":{\"outlinewidth\":0,\"tickcolor\":\"rgb(237,237,237)\",\"ticklen\":6,\"ticks\":\"inside\"}},\"type\":\"scatterternary\"}],\"surface\":[{\"colorbar\":{\"outlinewidth\":0,\"tickcolor\":\"rgb(237,237,237)\",\"ticklen\":6,\"ticks\":\"inside\"},\"colorscale\":[[0,\"rgb(20,44,66)\"],[1,\"rgb(90,179,244)\"]],\"type\":\"surface\"}],\"table\":[{\"cells\":{\"fill\":{\"color\":\"rgb(237,237,237)\"},\"line\":{\"color\":\"white\"}},\"header\":{\"fill\":{\"color\":\"rgb(217,217,217)\"},\"line\":{\"color\":\"white\"}},\"type\":\"table\"}]},\"layout\":{\"annotationdefaults\":{\"arrowhead\":0,\"arrowwidth\":1},\"autotypenumbers\":\"strict\",\"coloraxis\":{\"colorbar\":{\"outlinewidth\":0,\"tickcolor\":\"rgb(237,237,237)\",\"ticklen\":6,\"ticks\":\"inside\"}},\"colorscale\":{\"sequential\":[[0,\"rgb(20,44,66)\"],[1,\"rgb(90,179,244)\"]],\"sequentialminus\":[[0,\"rgb(20,44,66)\"],[1,\"rgb(90,179,244)\"]]},\"colorway\":[\"#F8766D\",\"#A3A500\",\"#00BF7D\",\"#00B0F6\",\"#E76BF3\"],\"font\":{\"color\":\"rgb(51,51,51)\"},\"geo\":{\"bgcolor\":\"white\",\"lakecolor\":\"white\",\"landcolor\":\"rgb(237,237,237)\",\"showlakes\":true,\"showland\":true,\"subunitcolor\":\"white\"},\"hoverlabel\":{\"align\":\"left\"},\"hovermode\":\"closest\",\"paper_bgcolor\":\"white\",\"plot_bgcolor\":\"rgb(237,237,237)\",\"polar\":{\"angularaxis\":{\"gridcolor\":\"white\",\"linecolor\":\"white\",\"showgrid\":true,\"tickcolor\":\"rgb(51,51,51)\",\"ticks\":\"outside\"},\"bgcolor\":\"rgb(237,237,237)\",\"radialaxis\":{\"gridcolor\":\"white\",\"linecolor\":\"white\",\"showgrid\":true,\"tickcolor\":\"rgb(51,51,51)\",\"ticks\":\"outside\"}},\"scene\":{\"xaxis\":{\"backgroundcolor\":\"rgb(237,237,237)\",\"gridcolor\":\"white\",\"gridwidth\":2,\"linecolor\":\"white\",\"showbackground\":true,\"showgrid\":true,\"tickcolor\":\"rgb(51,51,51)\",\"ticks\":\"outside\",\"zerolinecolor\":\"white\"},\"yaxis\":{\"backgroundcolor\":\"rgb(237,237,237)\",\"gridcolor\":\"white\",\"gridwidth\":2,\"linecolor\":\"white\",\"showbackground\":true,\"showgrid\":true,\"tickcolor\":\"rgb(51,51,51)\",\"ticks\":\"outside\",\"zerolinecolor\":\"white\"},\"zaxis\":{\"backgroundcolor\":\"rgb(237,237,237)\",\"gridcolor\":\"white\",\"gridwidth\":2,\"linecolor\":\"white\",\"showbackground\":true,\"showgrid\":true,\"tickcolor\":\"rgb(51,51,51)\",\"ticks\":\"outside\",\"zerolinecolor\":\"white\"}},\"shapedefaults\":{\"fillcolor\":\"black\",\"line\":{\"width\":0},\"opacity\":0.3},\"ternary\":{\"aaxis\":{\"gridcolor\":\"white\",\"linecolor\":\"white\",\"showgrid\":true,\"tickcolor\":\"rgb(51,51,51)\",\"ticks\":\"outside\"},\"baxis\":{\"gridcolor\":\"white\",\"linecolor\":\"white\",\"showgrid\":true,\"tickcolor\":\"rgb(51,51,51)\",\"ticks\":\"outside\"},\"bgcolor\":\"rgb(237,237,237)\",\"caxis\":{\"gridcolor\":\"white\",\"linecolor\":\"white\",\"showgrid\":true,\"tickcolor\":\"rgb(51,51,51)\",\"ticks\":\"outside\"}},\"xaxis\":{\"automargin\":true,\"gridcolor\":\"white\",\"linecolor\":\"white\",\"showgrid\":true,\"tickcolor\":\"rgb(51,51,51)\",\"ticks\":\"outside\",\"title\":{\"standoff\":15},\"zerolinecolor\":\"white\"},\"yaxis\":{\"automargin\":true,\"gridcolor\":\"white\",\"linecolor\":\"white\",\"showgrid\":true,\"tickcolor\":\"rgb(51,51,51)\",\"ticks\":\"outside\",\"title\":{\"standoff\":15},\"zerolinecolor\":\"white\"}}},\"xaxis\":{\"anchor\":\"y\",\"domain\":[0.0,1.0],\"title\":{\"text\":\"День тижня\"},\"tickangle\":-45},\"yaxis\":{\"anchor\":\"x\",\"domain\":[0.0,1.0],\"title\":{\"text\":\"Дохід ($)\"}},\"legend\":{\"title\":{\"text\":\"Категорія товару\"},\"tracegroupgap\":0},\"title\":{\"text\":\"Продажі товарів за днями тижня (по категоріях)\"},\"barmode\":\"stack\",\"font\":{\"family\":\"Arial\",\"size\":14}},                        {\"responsive\": true}                    ).then(function(){\n",
              "                            \n",
              "var gd = document.getElementById('b690e0bf-076c-4fca-9240-b34ec7d49832');\n",
              "var x = new MutationObserver(function (mutations, observer) {{\n",
              "        var display = window.getComputedStyle(gd).display;\n",
              "        if (!display || display === 'none') {{\n",
              "            console.log([gd, 'removed!']);\n",
              "            Plotly.purge(gd);\n",
              "            observer.disconnect();\n",
              "        }}\n",
              "}});\n",
              "\n",
              "// Listen for the removal of the full notebook cells\n",
              "var notebookContainer = gd.closest('#notebook-container');\n",
              "if (notebookContainer) {{\n",
              "    x.observe(notebookContainer, {childList: true});\n",
              "}}\n",
              "\n",
              "// Listen for the clearing of the current output cell\n",
              "var outputEl = gd.closest('.output');\n",
              "if (outputEl) {{\n",
              "    x.observe(outputEl, {childList: true});\n",
              "}}\n",
              "\n",
              "                        })                };                            </script>        </div>\n",
              "</body>\n",
              "</html>"
            ]
          },
          "metadata": {}
        }
      ]
    },
    {
      "cell_type": "markdown",
      "source": [
        "1. Пікові дні продажів:\n",
        "- Monday, Friday, Wednesday — мають найвищий сумарний дохід.\n",
        "- Tuesday і Thursday — найменш активні.\n",
        "\n",
        "2. Категорії з чітко вираженою “денною сезонністю”:\n",
        "- Cosmetics\t- вибухові об'єми у п’ятницю;\n",
        "- Meat - сильніше купується в п’ятницю, понеділок–середу;\n",
        "- Household - високі продажі в понеділок;\n",
        "- Office supplies - найбільше в понеділок, п'ятницю та неділю;\n",
        "- Snacks / fruits - Рівномірно, але зростають на вихідних та в понеділок.\n",
        "\n",
        "3. Категорії з помірним розподілом:\n",
        "- vegetables, personal care — стабільно присутні щодня, без явних піків.\n",
        "\n",
        "Це може вказувати на менш емоційну або заплановану покупку, незалежну від дня."
      ],
      "metadata": {
        "id": "Omf2J7fOnjSq"
      }
    }
  ]
}